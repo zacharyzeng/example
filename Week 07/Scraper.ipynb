{
 "cells": [
  {
   "cell_type": "code",
   "execution_count": 2,
   "metadata": {},
   "outputs": [],
   "source": [
    "url='https://github.com/hupili/python-for-data-and-media-communication-gitbook/blob/master/session-F2018.md'"
   ]
  },
  {
   "cell_type": "code",
   "execution_count": 3,
   "metadata": {},
   "outputs": [
    {
     "data": {
      "text/plain": [
       "'https://github.com/hupili/python-for-data-and-media-communication-gitbook/blob/master/session-F2018.md'"
      ]
     },
     "execution_count": 3,
     "metadata": {},
     "output_type": "execute_result"
    }
   ],
   "source": [
    "url"
   ]
  },
  {
   "cell_type": "code",
   "execution_count": 4,
   "metadata": {},
   "outputs": [],
   "source": [
    "import requests"
   ]
  },
  {
   "cell_type": "code",
   "execution_count": 5,
   "metadata": {},
   "outputs": [],
   "source": [
    "r = requests.get(url)"
   ]
  },
  {
   "cell_type": "code",
   "execution_count": 6,
   "metadata": {},
   "outputs": [
    {
     "data": {
      "text/plain": [
       "'\\n\\n\\n\\n\\n\\n<!DOCTYPE html>\\n<html lang=\"en\">\\n  <head>\\n    <meta charset=\"utf-8\">\\n  <link rel=\"dns-prefetch\" href=\"https://assets-cdn.github.com\">\\n  <link rel=\"dns-prefetch\" href=\"https://avatars0.githubusercontent.com\">\\n  <link rel=\"dns-prefetch\" href=\"https://avatars1.githubusercontent.com\">\\n  <link rel=\"dns-prefetch\" href=\"https://avatars2.githubusercontent.com\">\\n  <link rel=\"dns-prefetch\" href=\"https://avatars3.githubusercontent.com\">\\n  <link rel=\"dns-prefetch\" href=\"https://github-cloud.s3.amazonaws.com\">\\n  <link rel=\"dns-prefetch\" href=\"https://user-images.githubusercontent.com/\">\\n\\n\\n\\n  <link crossorigin=\"anonymous\" media=\"all\" integrity=\"sha512-FCg44VGg5ax/5MpZ8otwiPE+/tG1/Sq67mKkl6agbqgoScZtJyXhQSFQMIJfOHMZZ+yXDINb8nEiws60SiLohg==\" rel=\"stylesheet\" href=\"https://assets-cdn.github.com/assets/frameworks-5aa6d9885579bb2359f66266aee26f3b.css\" />\\n  <link crossorigin=\"anonymous\" media=\"all\" integrity=\"sha512-VTUk7ShDTxpdB4Gv06RrJ/8c+DSyz6MY2W9dG+wsEUcSP5YCMrhsFztvQEsJH1/ueifcRW9sBKIeoNePg8gpLA==\" rel=\"stylesheet\" href=\"https://assets-cdn.github.com/assets/github-c64abddcb1203c3b66f27f8d8fbf4227.css\" />\\n  \\n  \\n  <link crossorigin=\"anonymous\" media=\"all\" integrity=\"sha512-vziz6Jjw591pyA52+2EoS07YE63bIc0zkvSG4yIM9edY2ArBBBIwvTw49H8rn4Z+YLbBw5LzBWSFwoZkxQK+0A==\" rel=\"stylesheet\" href=\"https://assets-cdn.github.com/assets/site-3ba3ae12a2f85a6290c97a963107cc97.css\" />\\n  \\n\\n  <meta name=\"viewport\" content=\"width=device-width\">\\n  \\n  <title>python-for-data-and-media-communication-gitbook/session-F2018.md at master · hupili/python-for-data-and-media-communication-gitbook · GitHub</title>\\n    <meta name=\"description\" content=\"An open source book on Python tailed for communication students with zero background - hupili/python-for-data-and-media-communication-gitbook\">\\n    <link rel=\"search\" type=\"application/opensearchdescription+xml\" href=\"/opensearch.xml\" title=\"GitHub\">\\n  <link rel=\"fluid-icon\" href=\"https://github.com/fluidicon.png\" title=\"GitHub\">\\n  <meta property=\"fb:app_id\" content=\"1401488693436528\">\\n\\n    \\n    <meta property=\"og:image\" content=\"https://avatars1.githubusercontent.com/u/1227160?s=400&amp;v=4\" /><meta property=\"og:site_name\" content=\"GitHub\" /><meta property=\"og:type\" content=\"object\" /><meta property=\"og:title\" content=\"hupili/python-for-data-and-media-communication-gitbook\" /><meta property=\"og:url\" content=\"https://github.com/hupili/python-for-data-and-media-communication-gitbook\" /><meta property=\"og:description\" content=\"An open source book on Python tailed for communication students with zero background - hupili/python-for-data-and-media-communication-gitbook\" />\\n\\n  <link rel=\"assets\" href=\"https://assets-cdn.github.com/\">\\n  \\n  <meta name=\"pjax-timeout\" content=\"1000\">\\n  \\n  <meta name=\"request-id\" content=\"C225:4CA1:3CD69C0:6C8CF53:5BC99A3E\" data-pjax-transient>\\n\\n\\n  \\n\\n  <meta name=\"selected-link\" value=\"repo_source\" data-pjax-transient>\\n\\n      <meta name=\"google-site-verification\" content=\"KT5gs8h0wvaagLKAVWq8bbeNwnZZK1r1XQysX3xurLU\">\\n    <meta name=\"google-site-verification\" content=\"ZzhVyEFwb7w3e0-uOTltm8Jsck2F5StVihD0exw2fsA\">\\n    <meta name=\"google-site-verification\" content=\"GXs5KoUUkNCoaAZn7wPN-t01Pywp9M3sEjnt_3_ZWPc\">\\n\\n  <meta name=\"octolytics-host\" content=\"collector.githubapp.com\" /><meta name=\"octolytics-app-id\" content=\"github\" /><meta name=\"octolytics-event-url\" content=\"https://collector.githubapp.com/github-external/browser_event\" /><meta name=\"octolytics-dimension-request_id\" content=\"C225:4CA1:3CD69C0:6C8CF53:5BC99A3E\" /><meta name=\"octolytics-dimension-region_edge\" content=\"iad\" /><meta name=\"octolytics-dimension-region_render\" content=\"iad\" />\\n<meta name=\"analytics-location\" content=\"/&lt;user-name&gt;/&lt;repo-name&gt;/blob/show\" data-pjax-transient=\"true\" />\\n\\n\\n\\n    <meta name=\"google-analytics\" content=\"UA-3769691-2\">\\n\\n\\n<meta class=\"js-ga-set\" name=\"dimension1\" content=\"Logged Out\">\\n\\n\\n\\n  \\n\\n      <meta name=\"hostname\" content=\"github.com\">\\n    <meta name=\"user-login\" content=\"\">\\n\\n      <meta name=\"expected-hostname\" content=\"github.com\">\\n    <meta name=\"js-proxy-site-detection-payload\" content=\"NmViNTY5YWRjZjc1ZGEwZTZmMGE5OTgzMzZiYTI1YzU3NWVkOTg3OWJiMWRkYWU2ZmI0ZDc2YTJiZTI5NDQ4M3x7InJlbW90ZV9hZGRyZXNzIjoiMTU4LjE4Mi4xOTAuMTY4IiwicmVxdWVzdF9pZCI6IkMyMjU6NENBMTozQ0Q2OUMwOjZDOENGNTM6NUJDOTlBM0UiLCJ0aW1lc3RhbXAiOjE1Mzk5Mzg4NzgsImhvc3QiOiJnaXRodWIuY29tIn0=\">\\n\\n    <meta name=\"enabled-features\" content=\"DASHBOARD_V2_LAYOUT_OPT_IN,EXPLORE_DISCOVER_REPOSITORIES,UNIVERSE_BANNER,MARKETPLACE_PLAN_RESTRICTION_EDITOR\">\\n\\n  <meta name=\"html-safe-nonce\" content=\"625cb94d639a4ed55a50e6d6ded0e3cd61a82762\">\\n\\n  <meta http-equiv=\"x-pjax-version\" content=\"da3ed2deb630d79e7470732b5e6cdc63\">\\n  \\n\\n      <link href=\"https://github.com/hupili/python-for-data-and-media-communication-gitbook/commits/master.atom\" rel=\"alternate\" title=\"Recent Commits to python-for-data-and-media-communication-gitbook:master\" type=\"application/atom+xml\">\\n\\n  <meta name=\"go-import\" content=\"github.com/hupili/python-for-data-and-media-communication-gitbook git https://github.com/hupili/python-for-data-and-media-communication-gitbook.git\">\\n\\n  <meta name=\"octolytics-dimension-user_id\" content=\"1227160\" /><meta name=\"octolytics-dimension-user_login\" content=\"hupili\" /><meta name=\"octolytics-dimension-repository_id\" content=\"130555260\" /><meta name=\"octolytics-dimension-repository_nwo\" content=\"hupili/python-for-data-and-media-communication-gitbook\" /><meta name=\"octolytics-dimension-repository_public\" content=\"true\" /><meta name=\"octolytics-dimension-repository_is_fork\" content=\"false\" /><meta name=\"octolytics-dimension-repository_network_root_id\" content=\"130555260\" /><meta name=\"octolytics-dimension-repository_network_root_nwo\" content=\"hupili/python-for-data-and-media-communication-gitbook\" /><meta name=\"octolytics-dimension-repository_explore_github_marketplace_ci_cta_shown\" content=\"false\" />\\n\\n\\n    <link rel=\"canonical\" href=\"https://github.com/hupili/python-for-data-and-media-communication-gitbook/blob/master/session-F2018.md\" data-pjax-transient>\\n\\n\\n  <meta name=\"browser-stats-url\" content=\"https://api.github.com/_private/browser/stats\">\\n\\n  <meta name=\"browser-errors-url\" content=\"https://api.github.com/_private/browser/errors\">\\n\\n  <link rel=\"mask-icon\" href=\"https://assets-cdn.github.com/pinned-octocat.svg\" color=\"#000000\">\\n  <link rel=\"icon\" type=\"image/x-icon\" class=\"js-site-favicon\" href=\"https://assets-cdn.github.com/favicon.ico\">\\n\\n<meta name=\"theme-color\" content=\"#1e2327\">\\n\\n\\n\\n  <link rel=\"manifest\" href=\"/manifest.json\" crossOrigin=\"use-credentials\">\\n\\n  </head>\\n\\n  <body class=\"logged-out env-production page-blob\">\\n    \\n\\n  <div class=\"position-relative js-header-wrapper \">\\n    <a href=\"#start-of-content\" tabindex=\"1\" class=\"px-2 py-4 bg-blue text-white show-on-focus js-skip-to-content\">Skip to content</a>\\n    <div id=\"js-pjax-loader-bar\" class=\"pjax-loader-bar\"><div class=\"progress\"></div></div>\\n\\n    \\n    \\n    \\n\\n\\n\\n        \\n<header class=\"Header header-logged-out  position-relative f4 py-3\" role=\"banner\">\\n  <div class=\"container-lg d-flex px-3\">\\n    <div class=\"d-flex flex-justify-between flex-items-center\">\\n      <a class=\"header-logo-invertocat my-0\" href=\"https://github.com/\" aria-label=\"Homepage\" data-ga-click=\"(Logged out) Header, go to homepage, icon:logo-wordmark\">\\n        <svg height=\"32\" class=\"octicon octicon-mark-github\" viewBox=\"0 0 16 16\" version=\"1.1\" width=\"32\" aria-hidden=\"true\"><path fill-rule=\"evenodd\" d=\"M8 0C3.58 0 0 3.58 0 8c0 3.54 2.29 6.53 5.47 7.59.4.07.55-.17.55-.38 0-.19-.01-.82-.01-1.49-2.01.37-2.53-.49-2.69-.94-.09-.23-.48-.94-.82-1.13-.28-.15-.68-.52-.01-.53.63-.01 1.08.58 1.23.82.72 1.21 1.87.87 2.33.66.07-.52.28-.87.51-1.07-1.78-.2-3.64-.89-3.64-3.95 0-.87.31-1.59.82-2.15-.08-.2-.36-1.02.08-2.12 0 0 .67-.21 2.2.82.64-.18 1.32-.27 2-.27.68 0 1.36.09 2 .27 1.53-1.04 2.2-.82 2.2-.82.44 1.1.16 1.92.08 2.12.51.56.82 1.27.82 2.15 0 3.07-1.87 3.75-3.65 3.95.29.25.54.73.54 1.48 0 1.07-.01 1.93-.01 2.2 0 .21.15.46.55.38A8.013 8.013 0 0 0 16 8c0-4.42-3.58-8-8-8z\"/></svg>\\n      </a>\\n\\n    </div>\\n\\n    <div class=\"HeaderMenu d-flex flex-justify-between flex-auto\">\\n        <nav class=\"mt-0\">\\n          <ul class=\"d-flex list-style-none\">\\n              <li class=\"ml-2\">\\n                <a class=\"js-selected-navigation-item HeaderNavlink px-0 py-2 m-0\" data-ga-click=\"Header, click, Nav menu - item:features\" data-selected-links=\"/features /features/project-management /features/code-review /features/project-management /features/integrations /features\" href=\"/features\">\\n                  Features\\n</a>              </li>\\n              <li class=\"ml-4\">\\n                <a class=\"js-selected-navigation-item HeaderNavlink px-0 py-2 m-0\" data-ga-click=\"Header, click, Nav menu - item:business\" data-selected-links=\"/business /business/security /business/customers /business\" href=\"/business\">\\n                  Business\\n</a>              </li>\\n\\n              <li class=\"ml-4\">\\n                <a class=\"js-selected-navigation-item HeaderNavlink px-0 py-2 m-0\" data-ga-click=\"Header, click, Nav menu - item:explore\" data-selected-links=\"/explore /trending /trending/developers /integrations /integrations/feature/code /integrations/feature/collaborate /integrations/feature/ship showcases showcases_search showcases_landing /explore\" href=\"/explore\">\\n                  Explore\\n</a>              </li>\\n\\n              <li class=\"ml-4\">\\n                    <a class=\"js-selected-navigation-item HeaderNavlink px-0 py-2 m-0\" data-ga-click=\"Header, click, Nav menu - item:marketplace\" data-selected-links=\" /marketplace\" href=\"/marketplace\">\\n                      Marketplace\\n</a>              </li>\\n              <li class=\"ml-4\">\\n                <a class=\"js-selected-navigation-item HeaderNavlink px-0 py-2 m-0\" data-ga-click=\"Header, click, Nav menu - item:pricing\" data-selected-links=\"/pricing /pricing/developer /pricing/team /pricing/business-hosted /pricing/business-enterprise /pricing\" href=\"/pricing\">\\n                  Pricing\\n</a>              </li>\\n          </ul>\\n        </nav>\\n\\n      <div class=\"d-flex\">\\n          <div class=\"d-lg-flex flex-items-center mr-3\">\\n            <div class=\"header-search scoped-search site-scoped-search js-site-search position-relative js-jump-to\"\\n  role=\"combobox\"\\n  aria-owns=\"jump-to-results\"\\n  aria-label=\"Search or jump to\"\\n  aria-haspopup=\"listbox\"\\n  aria-expanded=\"false\"\\n>\\n  <div class=\"position-relative\">\\n    <!-- \\'\"` --><!-- </textarea></xmp> --></option></form><form class=\"js-site-search-form\" data-scope-type=\"Repository\" data-scope-id=\"130555260\" data-scoped-search-url=\"/hupili/python-for-data-and-media-communication-gitbook/search\" data-unscoped-search-url=\"/search\" action=\"/hupili/python-for-data-and-media-communication-gitbook/search\" accept-charset=\"UTF-8\" method=\"get\"><input name=\"utf8\" type=\"hidden\" value=\"&#x2713;\" />\\n      <label class=\"form-control header-search-wrapper header-search-wrapper-jump-to position-relative d-flex flex-justify-between flex-items-center js-chromeless-input-container\">\\n        <input type=\"text\"\\n          class=\"form-control header-search-input jump-to-field js-jump-to-field js-site-search-focus js-site-search-field is-clearable\"\\n          data-hotkey=\"s,/\"\\n          name=\"q\"\\n          value=\"\"\\n          placeholder=\"Search\"\\n          data-unscoped-placeholder=\"Search GitHub\"\\n          data-scoped-placeholder=\"Search\"\\n          autocapitalize=\"off\"\\n          aria-autocomplete=\"list\"\\n          aria-controls=\"jump-to-results\"\\n          data-jump-to-suggestions-path=\"/_graphql/GetSuggestedNavigationDestinations#csrf-token=ztfIhodVKWapzZkbp3A5zZa2KUVpVlp3/IoXggduExoVDEYpwDSaH7Q089CB/eOy7K0nGlYn4APYaoGr/rgUtQ==\"\\n          spellcheck=\"false\"\\n          autocomplete=\"off\"\\n          >\\n          <input type=\"hidden\" class=\"js-site-search-type-field\" name=\"type\" >\\n            <img src=\"https://assets-cdn.github.com/images/search-shortcut-hint.svg\" alt=\"\" class=\"mr-2 header-search-key-slash\">\\n\\n            <div class=\"Box position-absolute overflow-hidden d-none jump-to-suggestions js-jump-to-suggestions-container\">\\n              <ul class=\"d-none js-jump-to-suggestions-template-container\">\\n                <li class=\"d-flex flex-justify-start flex-items-center p-0 f5 navigation-item js-navigation-item\" role=\"option\">\\n                  <a tabindex=\"-1\" class=\"no-underline d-flex flex-auto flex-items-center p-2 jump-to-suggestions-path js-jump-to-suggestion-path js-navigation-open\" href=\"\">\\n                    <div class=\"jump-to-octicon js-jump-to-octicon flex-shrink-0 mr-2 text-center d-none\">\\n                      <svg height=\"16\" width=\"16\" class=\"octicon octicon-repo flex-shrink-0 js-jump-to-octicon-repo d-none\" title=\"Repository\" aria-label=\"Repository\" viewBox=\"0 0 12 16\" version=\"1.1\" role=\"img\"><path fill-rule=\"evenodd\" d=\"M4 9H3V8h1v1zm0-3H3v1h1V6zm0-2H3v1h1V4zm0-2H3v1h1V2zm8-1v12c0 .55-.45 1-1 1H6v2l-1.5-1.5L3 16v-2H1c-.55 0-1-.45-1-1V1c0-.55.45-1 1-1h10c.55 0 1 .45 1 1zm-1 10H1v2h2v-1h3v1h5v-2zm0-10H2v9h9V1z\"/></svg>\\n                      <svg height=\"16\" width=\"16\" class=\"octicon octicon-project flex-shrink-0 js-jump-to-octicon-project d-none\" title=\"Project\" aria-label=\"Project\" viewBox=\"0 0 15 16\" version=\"1.1\" role=\"img\"><path fill-rule=\"evenodd\" d=\"M10 12h3V2h-3v10zm-4-2h3V2H6v8zm-4 4h3V2H2v12zm-1 1h13V1H1v14zM14 0H1a1 1 0 0 0-1 1v14a1 1 0 0 0 1 1h13a1 1 0 0 0 1-1V1a1 1 0 0 0-1-1z\"/></svg>\\n                      <svg height=\"16\" width=\"16\" class=\"octicon octicon-search flex-shrink-0 js-jump-to-octicon-search d-none\" title=\"Search\" aria-label=\"Search\" viewBox=\"0 0 16 16\" version=\"1.1\" role=\"img\"><path fill-rule=\"evenodd\" d=\"M15.7 13.3l-3.81-3.83A5.93 5.93 0 0 0 13 6c0-3.31-2.69-6-6-6S1 2.69 1 6s2.69 6 6 6c1.3 0 2.48-.41 3.47-1.11l3.83 3.81c.19.2.45.3.7.3.25 0 .52-.09.7-.3a.996.996 0 0 0 0-1.41v.01zM7 10.7c-2.59 0-4.7-2.11-4.7-4.7 0-2.59 2.11-4.7 4.7-4.7 2.59 0 4.7 2.11 4.7 4.7 0 2.59-2.11 4.7-4.7 4.7z\"/></svg>\\n                    </div>\\n\\n                    <img class=\"avatar mr-2 flex-shrink-0 js-jump-to-suggestion-avatar d-none\" alt=\"\" aria-label=\"Team\" src=\"\" width=\"28\" height=\"28\">\\n\\n                    <div class=\"jump-to-suggestion-name js-jump-to-suggestion-name flex-auto overflow-hidden text-left no-wrap css-truncate css-truncate-target\">\\n                    </div>\\n\\n                    <div class=\"border rounded-1 flex-shrink-0 bg-gray px-1 text-gray-light ml-1 f6 d-none js-jump-to-badge-search\">\\n                      <span class=\"js-jump-to-badge-search-text-default d-none\" aria-label=\"in this repository\">\\n                        In this repository\\n                      </span>\\n                      <span class=\"js-jump-to-badge-search-text-global d-none\" aria-label=\"in all of GitHub\">\\n                        All GitHub\\n                      </span>\\n                      <span aria-hidden=\"true\" class=\"d-inline-block ml-1 v-align-middle\">↵</span>\\n                    </div>\\n\\n                    <div aria-hidden=\"true\" class=\"border rounded-1 flex-shrink-0 bg-gray px-1 text-gray-light ml-1 f6 d-none d-on-nav-focus js-jump-to-badge-jump\">\\n                      Jump to\\n                      <span class=\"d-inline-block ml-1 v-align-middle\">↵</span>\\n                    </div>\\n                  </a>\\n                </li>\\n              </ul>\\n              <ul class=\"d-none js-jump-to-no-results-template-container\">\\n                <li class=\"d-flex flex-justify-center flex-items-center p-3 f5 d-none\">\\n                  <span class=\"text-gray\">No suggested jump to results</span>\\n                </li>\\n              </ul>\\n\\n              <ul id=\"jump-to-results\" role=\"listbox\" class=\"js-navigation-container jump-to-suggestions-results-container js-jump-to-suggestions-results-container\" >\\n                <li class=\"d-flex flex-justify-center flex-items-center p-0 f5\">\\n                  <img src=\"https://assets-cdn.github.com/images/spinners/octocat-spinner-128.gif\" alt=\"Octocat Spinner Icon\" class=\"m-2\" width=\"28\">\\n                </li>\\n              </ul>\\n            </div>\\n      </label>\\n</form>  </div>\\n</div>\\n\\n          </div>\\n\\n        <span class=\"d-inline-block\">\\n            <div class=\"HeaderNavlink px-0 py-2 m-0\">\\n              <a class=\"text-bold text-white no-underline\" href=\"/login?return_to=%2Fhupili%2Fpython-for-data-and-media-communication-gitbook%2Fblob%2Fmaster%2Fsession-F2018.md\" data-ga-click=\"(Logged out) Header, clicked Sign in, text:sign-in\">Sign in</a>\\n                <span class=\"text-gray\">or</span>\\n                <a class=\"text-bold text-white no-underline\" href=\"/join?source=header-repo\" data-ga-click=\"(Logged out) Header, clicked Sign up, text:sign-up\">Sign up</a>\\n            </div>\\n        </span>\\n      </div>\\n    </div>\\n  </div>\\n</header>\\n\\n  </div>\\n\\n  <div id=\"start-of-content\" class=\"show-on-focus\"></div>\\n\\n    <div id=\"js-flash-container\">\\n\\n\\n</div>\\n\\n\\n\\n  <div role=\"main\" class=\"application-main \">\\n        <div itemscope itemtype=\"http://schema.org/SoftwareSourceCode\" class=\"\">\\n    <div id=\"js-repo-pjax-container\" data-pjax-container >\\n      \\n\\n\\n\\n\\n\\n\\n\\n  <div class=\"pagehead repohead instapaper_ignore readability-menu experiment-repo-nav  \">\\n    <div class=\"repohead-details-container clearfix container\">\\n\\n      <ul class=\"pagehead-actions\">\\n  <li>\\n      <a href=\"/login?return_to=%2Fhupili%2Fpython-for-data-and-media-communication-gitbook\"\\n    class=\"btn btn-sm btn-with-count tooltipped tooltipped-s\"\\n    aria-label=\"You must be signed in to watch a repository\" rel=\"nofollow\">\\n    <svg class=\"octicon octicon-eye v-align-text-bottom\" viewBox=\"0 0 16 16\" version=\"1.1\" width=\"16\" height=\"16\" aria-hidden=\"true\"><path fill-rule=\"evenodd\" d=\"M8.06 2C3 2 0 8 0 8s3 6 8.06 6C13 14 16 8 16 8s-3-6-7.94-6zM8 12c-2.2 0-4-1.78-4-4 0-2.2 1.8-4 4-4 2.22 0 4 1.8 4 4 0 2.22-1.78 4-4 4zm2-4c0 1.11-.89 2-2 2-1.11 0-2-.89-2-2 0-1.11.89-2 2-2 1.11 0 2 .89 2 2z\"/></svg>\\n    Watch\\n  </a>\\n  <a class=\"social-count\" href=\"/hupili/python-for-data-and-media-communication-gitbook/watchers\"\\n     aria-label=\"7 users are watching this repository\">\\n    7\\n  </a>\\n\\n  </li>\\n\\n  <li>\\n      <a href=\"/login?return_to=%2Fhupili%2Fpython-for-data-and-media-communication-gitbook\"\\n    class=\"btn btn-sm btn-with-count tooltipped tooltipped-s\"\\n    aria-label=\"You must be signed in to star a repository\" rel=\"nofollow\">\\n    <svg class=\"octicon octicon-star v-align-text-bottom\" viewBox=\"0 0 14 16\" version=\"1.1\" width=\"14\" height=\"16\" aria-hidden=\"true\"><path fill-rule=\"evenodd\" d=\"M14 6l-4.9-.64L7 1 4.9 5.36 0 6l3.6 3.26L2.67 14 7 11.67 11.33 14l-.93-4.74L14 6z\"/></svg>\\n    Star\\n  </a>\\n\\n    <a class=\"social-count js-social-count\" href=\"/hupili/python-for-data-and-media-communication-gitbook/stargazers\"\\n      aria-label=\"36 users starred this repository\">\\n      36\\n    </a>\\n\\n  </li>\\n\\n  <li>\\n      <a href=\"/login?return_to=%2Fhupili%2Fpython-for-data-and-media-communication-gitbook\"\\n        class=\"btn btn-sm btn-with-count tooltipped tooltipped-s\"\\n        aria-label=\"You must be signed in to fork a repository\" rel=\"nofollow\">\\n        <svg class=\"octicon octicon-repo-forked v-align-text-bottom\" viewBox=\"0 0 10 16\" version=\"1.1\" width=\"10\" height=\"16\" aria-hidden=\"true\"><path fill-rule=\"evenodd\" d=\"M8 1a1.993 1.993 0 0 0-1 3.72V6L5 8 3 6V4.72A1.993 1.993 0 0 0 2 1a1.993 1.993 0 0 0-1 3.72V6.5l3 3v1.78A1.993 1.993 0 0 0 5 15a1.993 1.993 0 0 0 1-3.72V9.5l3-3V4.72A1.993 1.993 0 0 0 8 1zM2 4.2C1.34 4.2.8 3.65.8 3c0-.65.55-1.2 1.2-1.2.65 0 1.2.55 1.2 1.2 0 .65-.55 1.2-1.2 1.2zm3 10c-.66 0-1.2-.55-1.2-1.2 0-.65.55-1.2 1.2-1.2.65 0 1.2.55 1.2 1.2 0 .65-.55 1.2-1.2 1.2zm3-10c-.66 0-1.2-.55-1.2-1.2 0-.65.55-1.2 1.2-1.2.65 0 1.2.55 1.2 1.2 0 .65-.55 1.2-1.2 1.2z\"/></svg>\\n        Fork\\n      </a>\\n\\n    <a href=\"/hupili/python-for-data-and-media-communication-gitbook/network/members\" class=\"social-count\"\\n       aria-label=\"34 users forked this repository\">\\n      34\\n    </a>\\n  </li>\\n</ul>\\n\\n      <h1 class=\"public \">\\n  <svg class=\"octicon octicon-repo\" viewBox=\"0 0 12 16\" version=\"1.1\" width=\"12\" height=\"16\" aria-hidden=\"true\"><path fill-rule=\"evenodd\" d=\"M4 9H3V8h1v1zm0-3H3v1h1V6zm0-2H3v1h1V4zm0-2H3v1h1V2zm8-1v12c0 .55-.45 1-1 1H6v2l-1.5-1.5L3 16v-2H1c-.55 0-1-.45-1-1V1c0-.55.45-1 1-1h10c.55 0 1 .45 1 1zm-1 10H1v2h2v-1h3v1h5v-2zm0-10H2v9h9V1z\"/></svg>\\n  <span class=\"author\" itemprop=\"author\"><a class=\"url fn\" rel=\"author\" href=\"/hupili\">hupili</a></span><!--\\n--><span class=\"path-divider\">/</span><!--\\n--><strong itemprop=\"name\"><a data-pjax=\"#js-repo-pjax-container\" href=\"/hupili/python-for-data-and-media-communication-gitbook\">python-for-data-and-media-communication-gitbook</a></strong>\\n\\n</h1>\\n\\n    </div>\\n    \\n<nav class=\"reponav js-repo-nav js-sidenav-container-pjax container\"\\n     itemscope\\n     itemtype=\"http://schema.org/BreadcrumbList\"\\n     role=\"navigation\"\\n     data-pjax=\"#js-repo-pjax-container\">\\n\\n  <span itemscope itemtype=\"http://schema.org/ListItem\" itemprop=\"itemListElement\">\\n    <a class=\"js-selected-navigation-item selected reponav-item\" itemprop=\"url\" data-hotkey=\"g c\" data-selected-links=\"repo_source repo_downloads repo_commits repo_releases repo_tags repo_branches repo_packages /hupili/python-for-data-and-media-communication-gitbook\" href=\"/hupili/python-for-data-and-media-communication-gitbook\">\\n      <svg class=\"octicon octicon-code\" viewBox=\"0 0 14 16\" version=\"1.1\" width=\"14\" height=\"16\" aria-hidden=\"true\"><path fill-rule=\"evenodd\" d=\"M9.5 3L8 4.5 11.5 8 8 11.5 9.5 13 14 8 9.5 3zm-5 0L0 8l4.5 5L6 11.5 2.5 8 6 4.5 4.5 3z\"/></svg>\\n      <span itemprop=\"name\">Code</span>\\n      <meta itemprop=\"position\" content=\"1\">\\n</a>  </span>\\n\\n    <span itemscope itemtype=\"http://schema.org/ListItem\" itemprop=\"itemListElement\">\\n      <a itemprop=\"url\" data-hotkey=\"g i\" class=\"js-selected-navigation-item reponav-item\" data-selected-links=\"repo_issues repo_labels repo_milestones /hupili/python-for-data-and-media-communication-gitbook/issues\" href=\"/hupili/python-for-data-and-media-communication-gitbook/issues\">\\n        <svg class=\"octicon octicon-issue-opened\" viewBox=\"0 0 14 16\" version=\"1.1\" width=\"14\" height=\"16\" aria-hidden=\"true\"><path fill-rule=\"evenodd\" d=\"M7 2.3c3.14 0 5.7 2.56 5.7 5.7s-2.56 5.7-5.7 5.7A5.71 5.71 0 0 1 1.3 8c0-3.14 2.56-5.7 5.7-5.7zM7 1C3.14 1 0 4.14 0 8s3.14 7 7 7 7-3.14 7-7-3.14-7-7-7zm1 3H6v5h2V4zm0 6H6v2h2v-2z\"/></svg>\\n        <span itemprop=\"name\">Issues</span>\\n        <span class=\"Counter\">20</span>\\n        <meta itemprop=\"position\" content=\"2\">\\n</a>    </span>\\n\\n  <span itemscope itemtype=\"http://schema.org/ListItem\" itemprop=\"itemListElement\">\\n    <a data-hotkey=\"g p\" itemprop=\"url\" class=\"js-selected-navigation-item reponav-item\" data-selected-links=\"repo_pulls checks /hupili/python-for-data-and-media-communication-gitbook/pulls\" href=\"/hupili/python-for-data-and-media-communication-gitbook/pulls\">\\n      <svg class=\"octicon octicon-git-pull-request\" viewBox=\"0 0 12 16\" version=\"1.1\" width=\"12\" height=\"16\" aria-hidden=\"true\"><path fill-rule=\"evenodd\" d=\"M11 11.28V5c-.03-.78-.34-1.47-.94-2.06C9.46 2.35 8.78 2.03 8 2H7V0L4 3l3 3V4h1c.27.02.48.11.69.31.21.2.3.42.31.69v6.28A1.993 1.993 0 0 0 10 15a1.993 1.993 0 0 0 1-3.72zm-1 2.92c-.66 0-1.2-.55-1.2-1.2 0-.65.55-1.2 1.2-1.2.65 0 1.2.55 1.2 1.2 0 .65-.55 1.2-1.2 1.2zM4 3c0-1.11-.89-2-2-2a1.993 1.993 0 0 0-1 3.72v6.56A1.993 1.993 0 0 0 2 15a1.993 1.993 0 0 0 1-3.72V4.72c.59-.34 1-.98 1-1.72zm-.8 10c0 .66-.55 1.2-1.2 1.2-.65 0-1.2-.55-1.2-1.2 0-.65.55-1.2 1.2-1.2.65 0 1.2.55 1.2 1.2zM2 4.2C1.34 4.2.8 3.65.8 3c0-.65.55-1.2 1.2-1.2.65 0 1.2.55 1.2 1.2 0 .65-.55 1.2-1.2 1.2z\"/></svg>\\n      <span itemprop=\"name\">Pull requests</span>\\n      <span class=\"Counter\">1</span>\\n      <meta itemprop=\"position\" content=\"3\">\\n</a>  </span>\\n\\n\\n    <a data-hotkey=\"g b\" class=\"js-selected-navigation-item reponav-item\" data-selected-links=\"repo_projects new_repo_project repo_project /hupili/python-for-data-and-media-communication-gitbook/projects\" href=\"/hupili/python-for-data-and-media-communication-gitbook/projects\">\\n      <svg class=\"octicon octicon-project\" viewBox=\"0 0 15 16\" version=\"1.1\" width=\"15\" height=\"16\" aria-hidden=\"true\"><path fill-rule=\"evenodd\" d=\"M10 12h3V2h-3v10zm-4-2h3V2H6v8zm-4 4h3V2H2v12zm-1 1h13V1H1v14zM14 0H1a1 1 0 0 0-1 1v14a1 1 0 0 0 1 1h13a1 1 0 0 0 1-1V1a1 1 0 0 0-1-1z\"/></svg>\\n      Projects\\n      <span class=\"Counter\" >1</span>\\n</a>\\n\\n\\n  <a class=\"js-selected-navigation-item reponav-item\" data-selected-links=\"repo_graphs repo_contributors dependency_graph pulse alerts /hupili/python-for-data-and-media-communication-gitbook/pulse\" href=\"/hupili/python-for-data-and-media-communication-gitbook/pulse\">\\n    <svg class=\"octicon octicon-graph\" viewBox=\"0 0 16 16\" version=\"1.1\" width=\"16\" height=\"16\" aria-hidden=\"true\"><path fill-rule=\"evenodd\" d=\"M16 14v1H0V0h1v14h15zM5 13H3V8h2v5zm4 0H7V3h2v10zm4 0h-2V6h2v7z\"/></svg>\\n    Insights\\n</a>\\n\\n</nav>\\n\\n\\n  </div>\\n\\n<div class=\"container new-discussion-timeline experiment-repo-nav  \">\\n  <div class=\"repository-content \">\\n\\n    \\n\\n  \\n    <a class=\"d-none js-permalink-shortcut\" data-hotkey=\"y\" href=\"/hupili/python-for-data-and-media-communication-gitbook/blob/97d8208e43587621f4e4ca8c2b1bdcc0564569a0/session-F2018.md\">Permalink</a>\\n\\n    <!-- blob contrib key: blob_contributors:v21:88224d814ef071c3adc91afc15b25b21 -->\\n\\n        <div class=\"signup-prompt-bg rounded-1\">\\n      <div class=\"signup-prompt p-4 text-center mb-4 rounded-1\">\\n        <div class=\"position-relative\">\\n          <!-- \\'\"` --><!-- </textarea></xmp> --></option></form><form action=\"/site/dismiss_signup_prompt\" accept-charset=\"UTF-8\" method=\"post\"><input name=\"utf8\" type=\"hidden\" value=\"&#x2713;\" /><input type=\"hidden\" name=\"authenticity_token\" value=\"QcRwdGlzLkRKB/QeUEm7uDvnndRzIE4DRMFPeT8x4FP9QiB/VLJhDLblkpqU3e+1euT+CQ/UB6m8qM2tFaYCYA==\" />\\n            <button type=\"submit\" class=\"position-absolute top-0 right-0 btn-link link-gray\" data-ga-click=\"(Logged out) Sign up prompt, clicked Dismiss, text:dismiss\">\\n              Dismiss\\n            </button>\\n</form>          <h3 class=\"pt-2\">Join GitHub today</h3>\\n          <p class=\"col-6 mx-auto\">GitHub is home to over 28 million developers working together to host and review code, manage projects, and build software together.</p>\\n          <a class=\"btn btn-primary\" href=\"/join?source=prompt-blob-show\" data-ga-click=\"(Logged out) Sign up prompt, clicked Sign up, text:sign-up\">Sign up</a>\\n        </div>\\n      </div>\\n    </div>\\n\\n\\n    <div class=\"file-navigation\">\\n      \\n<div class=\"select-menu branch-select-menu js-menu-container js-select-menu float-left\">\\n  <button class=\" btn btn-sm select-menu-button js-menu-target css-truncate\" data-hotkey=\"w\"\\n    \\n    type=\"button\" aria-label=\"Switch branches or tags\" aria-expanded=\"false\" aria-haspopup=\"true\">\\n      <i>Branch:</i>\\n      <span class=\"js-select-button css-truncate-target\">master</span>\\n  </button>\\n\\n  <div class=\"select-menu-modal-holder js-menu-content js-navigation-container\" data-pjax>\\n\\n    <div class=\"select-menu-modal\">\\n      <div class=\"select-menu-header\">\\n        <svg class=\"octicon octicon-x js-menu-close\" role=\"img\" aria-label=\"Close\" viewBox=\"0 0 12 16\" version=\"1.1\" width=\"12\" height=\"16\"><path fill-rule=\"evenodd\" d=\"M7.48 8l3.75 3.75-1.48 1.48L6 9.48l-3.75 3.75-1.48-1.48L4.52 8 .77 4.25l1.48-1.48L6 6.52l3.75-3.75 1.48 1.48L7.48 8z\"/></svg>\\n        <span class=\"select-menu-title\">Switch branches/tags</span>\\n      </div>\\n\\n      <div class=\"select-menu-filters\">\\n        <div class=\"select-menu-text-filter\">\\n          <input type=\"text\" aria-label=\"Filter branches/tags\" id=\"context-commitish-filter-field\" class=\"form-control js-filterable-field js-navigation-enable\" placeholder=\"Filter branches/tags\">\\n        </div>\\n        <div class=\"select-menu-tabs\">\\n          <ul>\\n            <li class=\"select-menu-tab\">\\n              <a href=\"#\" data-tab-filter=\"branches\" data-filter-placeholder=\"Filter branches/tags\" class=\"js-select-menu-tab\" role=\"tab\">Branches</a>\\n            </li>\\n            <li class=\"select-menu-tab\">\\n              <a href=\"#\" data-tab-filter=\"tags\" data-filter-placeholder=\"Find a tag…\" class=\"js-select-menu-tab\" role=\"tab\">Tags</a>\\n            </li>\\n          </ul>\\n        </div>\\n      </div>\\n\\n      <div class=\"select-menu-list select-menu-tab-bucket js-select-menu-tab-bucket\" data-tab-filter=\"branches\" role=\"menu\">\\n\\n        <div data-filterable-for=\"context-commitish-filter-field\" data-filterable-type=\"substring\">\\n\\n\\n            <a class=\"select-menu-item js-navigation-item js-navigation-open selected\"\\n               href=\"/hupili/python-for-data-and-media-communication-gitbook/blob/master/session-F2018.md\"\\n               data-name=\"master\"\\n               data-skip-pjax=\"true\"\\n               rel=\"nofollow\">\\n              <svg class=\"octicon octicon-check select-menu-item-icon\" viewBox=\"0 0 12 16\" version=\"1.1\" width=\"12\" height=\"16\" aria-hidden=\"true\"><path fill-rule=\"evenodd\" d=\"M12 5l-8 8-4-4 1.5-1.5L4 10l6.5-6.5L12 5z\"/></svg>\\n              <span class=\"select-menu-item-text css-truncate-target js-select-menu-filter-text\">\\n                master\\n              </span>\\n            </a>\\n        </div>\\n\\n          <div class=\"select-menu-no-results\">Nothing to show</div>\\n      </div>\\n\\n      <div class=\"select-menu-list select-menu-tab-bucket js-select-menu-tab-bucket\" data-tab-filter=\"tags\">\\n        <div data-filterable-for=\"context-commitish-filter-field\" data-filterable-type=\"substring\">\\n\\n\\n        </div>\\n\\n        <div class=\"select-menu-no-results\">Nothing to show</div>\\n      </div>\\n\\n    </div>\\n  </div>\\n</div>\\n\\n      <div class=\"BtnGroup float-right\">\\n        <a href=\"/hupili/python-for-data-and-media-communication-gitbook/find/master\"\\n              class=\"js-pjax-capture-input btn btn-sm BtnGroup-item\"\\n              data-pjax\\n              data-hotkey=\"t\">\\n          Find file\\n        </a>\\n        <clipboard-copy for=\"blob-path\" class=\"btn btn-sm BtnGroup-item\">\\n          Copy path\\n        </clipboard-copy>\\n      </div>\\n      <div id=\"blob-path\" class=\"breadcrumb\">\\n        <span class=\"repo-root js-repo-root\"><span class=\"js-path-segment\"><a data-pjax=\"true\" href=\"/hupili/python-for-data-and-media-communication-gitbook\"><span>python-for-data-and-media-communication-gitbook</span></a></span></span><span class=\"separator\">/</span><strong class=\"final-path\">session-F2018.md</strong>\\n      </div>\\n    </div>\\n\\n\\n    \\n  <div class=\"commit-tease\">\\n      <span class=\"float-right\">\\n        <a class=\"commit-tease-sha\" href=\"/hupili/python-for-data-and-media-communication-gitbook/commit/5deece90e67ebeaed9a04b99733d59fd2f9d32f6\" data-pjax>\\n          5deece9\\n        </a>\\n        <relative-time datetime=\"2018-10-10T10:08:11Z\">Oct 10, 2018</relative-time>\\n      </span>\\n      <div>\\n        <a rel=\"contributor\" data-skip-pjax=\"true\" data-hovercard-type=\"user\" data-hovercard-url=\"/hovercards?user_id=37010763\" data-octo-click=\"hovercard-link-click\" data-octo-dimensions=\"link_type:self\" href=\"/ChicoXYC\"><img class=\"avatar\" src=\"https://avatars1.githubusercontent.com/u/37010763?s=40&amp;v=4\" width=\"20\" height=\"20\" alt=\"@ChicoXYC\" /></a>\\n        <a class=\"user-mention\" rel=\"contributor\" data-hovercard-type=\"user\" data-hovercard-url=\"/hovercards?user_id=37010763\" data-octo-click=\"hovercard-link-click\" data-octo-dimensions=\"link_type:self\" href=\"/ChicoXYC\">ChicoXYC</a>\\n          <a data-pjax=\"true\" title=\"Add one more student helper\" class=\"message\" href=\"/hupili/python-for-data-and-media-communication-gitbook/commit/5deece90e67ebeaed9a04b99733d59fd2f9d32f6\">Add one more student helper</a>\\n      </div>\\n\\n    <div class=\"commit-tease-contributors\">\\n      \\n<details class=\"details-reset details-overlay details-overlay-dark lh-default text-gray-dark float-left mr-2\" id=\"blob_contributors_box\">\\n  <summary class=\"btn-link\" aria-haspopup=\"dialog\"  >\\n    \\n    <span><strong>2</strong> contributors</span>\\n  </summary>\\n  <details-dialog class=\"Box Box--overlay d-flex flex-column anim-fade-in fast \" aria-label=\"Users who have contributed to this file\">\\n    <div class=\"Box-header\">\\n      <button class=\"Box-btn-octicon btn-octicon float-right\" type=\"button\" aria-label=\"Close dialog\" data-close-dialog>\\n        <svg class=\"octicon octicon-x\" viewBox=\"0 0 12 16\" version=\"1.1\" width=\"12\" height=\"16\" aria-hidden=\"true\"><path fill-rule=\"evenodd\" d=\"M7.48 8l3.75 3.75-1.48 1.48L6 9.48l-3.75 3.75-1.48-1.48L4.52 8 .77 4.25l1.48-1.48L6 6.52l3.75-3.75 1.48 1.48L7.48 8z\"/></svg>\\n      </button>\\n      <h3 class=\"Box-title\">Users who have contributed to this file</h3>\\n    </div>\\n    \\n        <ul class=\"list-style-none overflow-auto\">\\n            <li class=\"Box-row\">\\n              <a class=\"link-gray-dark no-underline\" href=\"/ChicoXYC\">\\n                <img class=\"avatar mr-2\" alt=\"\" src=\"https://avatars1.githubusercontent.com/u/37010763?s=40&amp;v=4\" width=\"20\" height=\"20\" />\\n                ChicoXYC\\n</a>            </li>\\n            <li class=\"Box-row\">\\n              <a class=\"link-gray-dark no-underline\" href=\"/hupili\">\\n                <img class=\"avatar mr-2\" alt=\"\" src=\"https://avatars1.githubusercontent.com/u/1227160?s=40&amp;v=4\" width=\"20\" height=\"20\" />\\n                hupili\\n</a>            </li>\\n        </ul>\\n\\n  </details-dialog>\\n</details>\\n          <a class=\"avatar-link\" data-hovercard-type=\"user\" data-hovercard-url=\"/hovercards?user_id=37010763\" data-octo-click=\"hovercard-link-click\" data-octo-dimensions=\"link_type:self\" href=\"/hupili/python-for-data-and-media-communication-gitbook/commits/master/session-F2018.md?author=ChicoXYC\">\\n      <img class=\"avatar\" src=\"https://avatars1.githubusercontent.com/u/37010763?s=40&amp;v=4\" width=\"20\" height=\"20\" alt=\"@ChicoXYC\" /> \\n</a>    <a class=\"avatar-link\" data-hovercard-type=\"user\" data-hovercard-url=\"/hovercards?user_id=1227160\" data-octo-click=\"hovercard-link-click\" data-octo-dimensions=\"link_type:self\" href=\"/hupili/python-for-data-and-media-communication-gitbook/commits/master/session-F2018.md?author=hupili\">\\n      <img class=\"avatar\" src=\"https://avatars1.githubusercontent.com/u/1227160?s=40&amp;v=4\" width=\"20\" height=\"20\" alt=\"@hupili\" /> \\n</a>\\n\\n    </div>\\n  </div>\\n\\n\\n\\n    <div class=\"file \">\\n      <div class=\"file-header\">\\n  <div class=\"file-actions\">\\n\\n    <div class=\"BtnGroup\">\\n      <a id=\"raw-url\" class=\"btn btn-sm BtnGroup-item\" href=\"/hupili/python-for-data-and-media-communication-gitbook/raw/master/session-F2018.md\">Raw</a>\\n        <a class=\"btn btn-sm js-update-url-with-hash BtnGroup-item\" data-hotkey=\"b\" href=\"/hupili/python-for-data-and-media-communication-gitbook/blame/master/session-F2018.md\">Blame</a>\\n      <a rel=\"nofollow\" class=\"btn btn-sm BtnGroup-item\" href=\"/hupili/python-for-data-and-media-communication-gitbook/commits/master/session-F2018.md\">History</a>\\n    </div>\\n\\n\\n        <button type=\"button\" class=\"btn-octicon disabled tooltipped tooltipped-nw\"\\n          aria-label=\"You must be signed in to make or propose changes\">\\n          <svg class=\"octicon octicon-pencil\" viewBox=\"0 0 14 16\" version=\"1.1\" width=\"14\" height=\"16\" aria-hidden=\"true\"><path fill-rule=\"evenodd\" d=\"M0 12v3h3l8-8-3-3-8 8zm3 2H1v-2h1v1h1v1zm10.3-9.3L12 6 9 3l1.3-1.3a.996.996 0 0 1 1.41 0l1.59 1.59c.39.39.39 1.02 0 1.41z\"/></svg>\\n        </button>\\n        <button type=\"button\" class=\"btn-octicon btn-octicon-danger disabled tooltipped tooltipped-nw\"\\n          aria-label=\"You must be signed in to make or propose changes\">\\n          <svg class=\"octicon octicon-trashcan\" viewBox=\"0 0 12 16\" version=\"1.1\" width=\"12\" height=\"16\" aria-hidden=\"true\"><path fill-rule=\"evenodd\" d=\"M11 2H9c0-.55-.45-1-1-1H5c-.55 0-1 .45-1 1H2c-.55 0-1 .45-1 1v1c0 .55.45 1 1 1v9c0 .55.45 1 1 1h7c.55 0 1-.45 1-1V5c.55 0 1-.45 1-1V3c0-.55-.45-1-1-1zm-1 12H3V5h1v8h1V5h1v8h1V5h1v8h1V5h1v9zm1-10H2V3h9v1z\"/></svg>\\n        </button>\\n  </div>\\n\\n  <div class=\"file-info\">\\n      61 lines (54 sloc)\\n      <span class=\"file-info-divider\"></span>\\n    2.95 KB\\n  </div>\\n</div>\\n\\n      \\n  <div id=\"readme\" class=\"readme blob instapaper_body\">\\n    <article class=\"markdown-body entry-content\" itemprop=\"text\"><h1><a id=\"user-content-fall-2018-offering-of-the-course\" class=\"anchor\" aria-hidden=\"true\" href=\"#fall-2018-offering-of-the-course\"><svg class=\"octicon octicon-link\" viewBox=\"0 0 16 16\" version=\"1.1\" width=\"16\" height=\"16\" aria-hidden=\"true\"><path fill-rule=\"evenodd\" d=\"M4 9h1v1H4c-1.5 0-3-1.69-3-3.5S2.55 3 4 3h4c1.45 0 3 1.69 3 3.5 0 1.41-.91 2.72-2 3.25V8.59c.58-.45 1-1.27 1-2.09C10 5.22 8.98 4 8 4H4c-.98 0-2 1.22-2 2.5S3 9 4 9zm9-3h-1v1h1c1 0 2 1.22 2 2.5S13.98 12 13 12H9c-.98 0-2-1.22-2-2.5 0-.83.42-1.64 1-2.09V6.25c-1.09.53-2 1.84-2 3.25C6 11.31 7.55 13 9 13h4c1.45 0 3-1.69 3-3.5S14.5 6 13 6z\"></path></svg></a>Fall 2018 offering of the course</h1>\\n<h2><a id=\"user-content-teaching-team\" class=\"anchor\" aria-hidden=\"true\" href=\"#teaching-team\"><svg class=\"octicon octicon-link\" viewBox=\"0 0 16 16\" version=\"1.1\" width=\"16\" height=\"16\" aria-hidden=\"true\"><path fill-rule=\"evenodd\" d=\"M4 9h1v1H4c-1.5 0-3-1.69-3-3.5S2.55 3 4 3h4c1.45 0 3 1.69 3 3.5 0 1.41-.91 2.72-2 3.25V8.59c.58-.45 1-1.27 1-2.09C10 5.22 8.98 4 8 4H4c-.98 0-2 1.22-2 2.5S3 9 4 9zm9-3h-1v1h1c1 0 2 1.22 2 2.5S13.98 12 13 12H9c-.98 0-2-1.22-2-2.5 0-.83.42-1.64 1-2.09V6.25c-1.09.53-2 1.84-2 3.25C6 11.31 7.55 13 9 13h4c1.45 0 3-1.69 3-3.5S14.5 6 13 6z\"></path></svg></a>Teaching team</h2>\\n<ul>\\n<li>Course instructor - Pili HU, <a href=\"https://github.com/hupili/\">@hupili</a></li>\\n<li>Teaching assistants:\\n<ul>\\n<li>Yucan XU, <a href=\"https://github.com/ChicoXYC/\">@chicoxyc</a></li>\\n<li>Serena Qiongyao HUANG, <a href=\"https://github.com/SerenaQYHuang\">@SerenaQYHuang</a></li>\\n</ul>\\n</li>\\n<li>COMM7780 class helpers:\\n<ul>\\n<li>Chenxi LI, <a href=\"https://github.com/ConnorLi96\">@ConnorLi96</a></li>\\n<li>Yujin FENG, <a href=\"https://github.com/Catmint1215\">@Catmint1215</a></li>\\n<li>Shiyu ZHANG, <a href=\"https://github.com/CathyChang1996\">@CathyChang1996</a></li>\\n<li>Sining ZENG, <a href=\"https://github.com/CelineTsang\">@CelineTsang</a></li>\\n<li>Ning ZHANG, <a href=\"https://github.com/iiiJenny\">@iiiJenny</a></li>\\n<li>Yitong LIN, <a href=\"https://github.com/graceyit\">@Graceyit</a></li>\\n</ul>\\n</li>\\n<li>JOUR7280 class helpers:\\n<ul>\\n<li>Jingwei ZHANG, <a href=\"https://github.com/zhangjingwei0512\">@zhangjingwei0512</a></li>\\n<li>Wen XU, <a href=\"https://github.com/warrior960812\">@warrior960812</a></li>\\n<li>Kaiwen XU, <a href=\"https://github.com/kaiwenxu94\">@kaiwenxu94</a></li>\\n<li>Menghan ZHAI, <a href=\"https://github.com/Zmh951010\">@Zmh951010</a></li>\\n<li>Lan YAO, <a href=\"https://github.com/lullabymia\">@lullabymia</a></li>\\n</ul>\\n</li>\\n</ul>\\n<h2><a id=\"user-content-list-of-comm7780-students\" class=\"anchor\" aria-hidden=\"true\" href=\"#list-of-comm7780-students\"><svg class=\"octicon octicon-link\" viewBox=\"0 0 16 16\" version=\"1.1\" width=\"16\" height=\"16\" aria-hidden=\"true\"><path fill-rule=\"evenodd\" d=\"M4 9h1v1H4c-1.5 0-3-1.69-3-3.5S2.55 3 4 3h4c1.45 0 3 1.69 3 3.5 0 1.41-.91 2.72-2 3.25V8.59c.58-.45 1-1.27 1-2.09C10 5.22 8.98 4 8 4H4c-.98 0-2 1.22-2 2.5S3 9 4 9zm9-3h-1v1h1c1 0 2 1.22 2 2.5S13.98 12 13 12H9c-.98 0-2-1.22-2-2.5 0-.83.42-1.64 1-2.09V6.25c-1.09.53-2 1.84-2 3.25C6 11.31 7.55 13 9 13h4c1.45 0 3-1.69 3-3.5S14.5 6 13 6z\"></path></svg></a>List of COMM7780 students</h2>\\n<ul>\\n<li>XueJiao CAI, <a href=\"https://github.com/PepperCai\">@PepperCai</a></li>\\n<li>Mengjie CHEN, <a href=\"https://github.com/DidoChan\">@DidoChan</a></li>\\n<li>Ye CHEN, <a href=\"https://github.com/Shinonomee\">@Shinonomee</a></li>\\n<li>Jiawei DU, <a href=\"https://github.com/jasmine-dudu\">@jasmine-dudu</a></li>\\n<li>Chao GAO, <a href=\"https://github.com/FLYSTEPHEN\">@FLYSTEPHEN</a></li>\\n<li>Minyi GU, <a href=\"https://github.com/guminyi\">@guminyi</a></li>\\n<li>Ting HUANG, <a href=\"https://github.com/trista520\">@trista520</a></li>\\n<li>Xin HUANG, <a href=\"https://github.com/Rita0719\">@Rita0719</a></li>\\n<li>Yangming HUANG, <a href=\"https://github.com/Wong-Ming\">@Wong-Ming</a></li>\\n<li>Huiqing LIN, <a href=\"https://github.com/18408532\">@18408532</a></li>\\n<li>Cong LIU, <a href=\"https://github.com/clairelau0108\">@clairelau0108</a></li>\\n<li>Yi LUO, <a href=\"https://github.com/hakutoccino\">@hakutoccino</a></li>\\n<li>Jieyi XIE, <a href=\"https://github.com/JIEYI22\">@JIEYI22</a></li>\\n<li>Haotian XU, <a href=\"https://github.com/coolxu8888\">@coolxu8888</a></li>\\n<li>Huashan ZENG, <a href=\"https://github.com/AlexZenghuashan\">@AlexZenghuashan</a></li>\\n<li>Xingjie ZENG, <a href=\"https://github.com/zacharyzeng\">@zacharyzeng</a></li>\\n<li>Ning ZHANG, <a href=\"https://github.com/ZhangNingNina/\">@ZhangNingNina</a></li>\\n</ul>\\n<h2><a id=\"user-content-list-of-jour7280-students\" class=\"anchor\" aria-hidden=\"true\" href=\"#list-of-jour7280-students\"><svg class=\"octicon octicon-link\" viewBox=\"0 0 16 16\" version=\"1.1\" width=\"16\" height=\"16\" aria-hidden=\"true\"><path fill-rule=\"evenodd\" d=\"M4 9h1v1H4c-1.5 0-3-1.69-3-3.5S2.55 3 4 3h4c1.45 0 3 1.69 3 3.5 0 1.41-.91 2.72-2 3.25V8.59c.58-.45 1-1.27 1-2.09C10 5.22 8.98 4 8 4H4c-.98 0-2 1.22-2 2.5S3 9 4 9zm9-3h-1v1h1c1 0 2 1.22 2 2.5S13.98 12 13 12H9c-.98 0-2-1.22-2-2.5 0-.83.42-1.64 1-2.09V6.25c-1.09.53-2 1.84-2 3.25C6 11.31 7.55 13 9 13h4c1.45 0 3-1.69 3-3.5S14.5 6 13 6z\"></path></svg></a>List of JOUR7280 students</h2>\\n<ul>\\n<li>Wenshu HE, <a href=\"https://github.com/elusiveburglar\">@elusiveburglar</a></li>\\n<li>Nixuan JIANG, <a href=\"https://github.com/maggie0114\">@maggie0114</a></li>\\n<li>Weiqi JIANG, <a href=\"https://github.com/efncij\">@efncij</a></li>\\n<li>Mengyu LI, <a href=\"https://github.com/ClioLI\">@ClioLI</a></li>\\n<li>Shengnan LI, <a href=\"https://github.com/Lsn-cecilia\">@Lsn-cecilia</a></li>\\n<li>Yijie LI, <a href=\"https://github.com/Alana-LI\">@Alana-LI</a></li>\\n<li>Yuning SHI, <a href=\"https://github.com/shiyuning0987\">@shiyuning0987</a></li>\\n<li>Ziwei WANG, <a href=\"https://github.com/ivywang958\">@ivywang958</a></li>\\n<li>Lin YANG, <a href=\"https://github.com/Yang9305\">@Yang9305</a></li>\\n<li>Lan YAO, <a href=\"https://github.com/lullabymia\">@lullabymia</a></li>\\n<li>Nuan YAO, <a href=\"https://github.com/yaonuan1995\">@yaonuan1995</a></li>\\n<li>Qing YU, <a href=\"https://github.com/18426425\">@18426425</a></li>\\n<li>Bohan ZHANG, <a href=\"https://github.com/ZHANGboh\">@ZHANGboh</a></li>\\n<li>Huimin ZHANG, <a href=\"https://github.com/ZhangHuimin97\">@ZhangHuimin97</a></li>\\n<li>Zichun ZHANG, <a href=\"https://github.com/NicoleZZC\">@NicoleZZC</a></li>\\n<li>Yuanyuan CHENG, <a href=\"https://github.com/niegung\">@niegung</a> // Setting in</li>\\n</ul>\\n</article>\\n  </div>\\n\\n    </div>\\n\\n  \\n\\n  <details class=\"details-reset details-overlay details-overlay-dark\">\\n    <summary data-hotkey=\"l\" aria-label=\"Jump to line\"></summary>\\n    <details-dialog class=\"Box Box--overlay d-flex flex-column anim-fade-in fast linejump\" aria-label=\"Jump to line\">\\n      <!-- \\'\"` --><!-- </textarea></xmp> --></option></form><form class=\"js-jump-to-line-form Box-body d-flex\" action=\"\" accept-charset=\"UTF-8\" method=\"get\"><input name=\"utf8\" type=\"hidden\" value=\"&#x2713;\" />\\n        <input class=\"form-control flex-auto mr-3 linejump-input js-jump-to-line-field\" type=\"text\" placeholder=\"Jump to line&hellip;\" aria-label=\"Jump to line\" autofocus>\\n        <button type=\"submit\" class=\"btn\" data-close-dialog>Go</button>\\n</form>    </details-dialog>\\n  </details>\\n\\n\\n  </div>\\n  <div class=\"modal-backdrop js-touch-events\"></div>\\n</div>\\n\\n    </div>\\n  </div>\\n\\n  </div>\\n\\n        \\n<div class=\"footer container-lg px-3\" role=\"contentinfo\">\\n  <div class=\"position-relative d-flex flex-justify-between pt-6 pb-2 mt-6 f6 text-gray border-top border-gray-light \">\\n    <ul class=\"list-style-none d-flex flex-wrap \">\\n      <li class=\"mr-3\">&copy; 2018 <span title=\"0.15204s from unicorn-3942428905-70tfk\">GitHub</span>, Inc.</li>\\n        <li class=\"mr-3\"><a data-ga-click=\"Footer, go to terms, text:terms\" href=\"https://github.com/site/terms\">Terms</a></li>\\n        <li class=\"mr-3\"><a data-ga-click=\"Footer, go to privacy, text:privacy\" href=\"https://github.com/site/privacy\">Privacy</a></li>\\n        <li class=\"mr-3\"><a href=\"https://help.github.com/articles/github-security/\" data-ga-click=\"Footer, go to security, text:security\">Security</a></li>\\n        <li class=\"mr-3\"><a href=\"https://status.github.com/\" data-ga-click=\"Footer, go to status, text:status\">Status</a></li>\\n        <li><a data-ga-click=\"Footer, go to help, text:help\" href=\"https://help.github.com\">Help</a></li>\\n    </ul>\\n\\n    <a aria-label=\"Homepage\" title=\"GitHub\" class=\"footer-octicon mr-lg-4\" href=\"https://github.com\">\\n      <svg height=\"24\" class=\"octicon octicon-mark-github\" viewBox=\"0 0 16 16\" version=\"1.1\" width=\"24\" aria-hidden=\"true\"><path fill-rule=\"evenodd\" d=\"M8 0C3.58 0 0 3.58 0 8c0 3.54 2.29 6.53 5.47 7.59.4.07.55-.17.55-.38 0-.19-.01-.82-.01-1.49-2.01.37-2.53-.49-2.69-.94-.09-.23-.48-.94-.82-1.13-.28-.15-.68-.52-.01-.53.63-.01 1.08.58 1.23.82.72 1.21 1.87.87 2.33.66.07-.52.28-.87.51-1.07-1.78-.2-3.64-.89-3.64-3.95 0-.87.31-1.59.82-2.15-.08-.2-.36-1.02.08-2.12 0 0 .67-.21 2.2.82.64-.18 1.32-.27 2-.27.68 0 1.36.09 2 .27 1.53-1.04 2.2-.82 2.2-.82.44 1.1.16 1.92.08 2.12.51.56.82 1.27.82 2.15 0 3.07-1.87 3.75-3.65 3.95.29.25.54.73.54 1.48 0 1.07-.01 1.93-.01 2.2 0 .21.15.46.55.38A8.013 8.013 0 0 0 16 8c0-4.42-3.58-8-8-8z\"/></svg>\\n</a>\\n   <ul class=\"list-style-none d-flex flex-wrap \">\\n        <li class=\"mr-3\"><a data-ga-click=\"Footer, go to contact, text:contact\" href=\"https://github.com/contact\">Contact GitHub</a></li>\\n        <li class=\"mr-3\"><a href=\"https://github.com/pricing\" data-ga-click=\"Footer, go to Pricing, text:Pricing\">Pricing</a></li>\\n      <li class=\"mr-3\"><a href=\"https://developer.github.com\" data-ga-click=\"Footer, go to api, text:api\">API</a></li>\\n      <li class=\"mr-3\"><a href=\"https://training.github.com\" data-ga-click=\"Footer, go to training, text:training\">Training</a></li>\\n        <li class=\"mr-3\"><a href=\"https://blog.github.com\" data-ga-click=\"Footer, go to blog, text:blog\">Blog</a></li>\\n        <li><a data-ga-click=\"Footer, go to about, text:about\" href=\"https://github.com/about\">About</a></li>\\n\\n    </ul>\\n  </div>\\n  <div class=\"d-flex flex-justify-center pb-6\">\\n    <span class=\"f6 text-gray-light\"></span>\\n  </div>\\n</div>\\n\\n\\n\\n  <div id=\"ajax-error-message\" class=\"ajax-error-message flash flash-error\">\\n    <svg class=\"octicon octicon-alert\" viewBox=\"0 0 16 16\" version=\"1.1\" width=\"16\" height=\"16\" aria-hidden=\"true\"><path fill-rule=\"evenodd\" d=\"M8.893 1.5c-.183-.31-.52-.5-.887-.5s-.703.19-.886.5L.138 13.499a.98.98 0 0 0 0 1.001c.193.31.53.501.886.501h13.964c.367 0 .704-.19.877-.5a1.03 1.03 0 0 0 .01-1.002L8.893 1.5zm.133 11.497H6.987v-2.003h2.039v2.003zm0-3.004H6.987V5.987h2.039v4.006z\"/></svg>\\n    <button type=\"button\" class=\"flash-close js-ajax-error-dismiss\" aria-label=\"Dismiss error\">\\n      <svg class=\"octicon octicon-x\" viewBox=\"0 0 12 16\" version=\"1.1\" width=\"12\" height=\"16\" aria-hidden=\"true\"><path fill-rule=\"evenodd\" d=\"M7.48 8l3.75 3.75-1.48 1.48L6 9.48l-3.75 3.75-1.48-1.48L4.52 8 .77 4.25l1.48-1.48L6 6.52l3.75-3.75 1.48 1.48L7.48 8z\"/></svg>\\n    </button>\\n    You can’t perform that action at this time.\\n  </div>\\n\\n\\n    <script crossorigin=\"anonymous\" integrity=\"sha512-BlCeoZU+kjn7xucWZBcl0n4Bn0P8dE19/sUfLHOxySQnsoy3ufEzapurMbZWSlwab5KGfnp1X5ipJvUDMLroqw==\" type=\"application/javascript\" src=\"https://assets-cdn.github.com/assets/compat-0f98b12d09f3ba331eef956ab02996e3.js\"></script>\\n    <script crossorigin=\"anonymous\" integrity=\"sha512-MvNlmXbTAwL0N0zMxw8W6vtjWLf0QFvwVzvN8rZIJNdzFy9OJp2d4LQD9WA2rDNcHewz0PB9x/0G0Z9FOuUWgw==\" type=\"application/javascript\" src=\"https://assets-cdn.github.com/assets/frameworks-a2f69f341e3df821fdcb56e335ef9920.js\"></script>\\n    \\n    <script crossorigin=\"anonymous\" async=\"async\" integrity=\"sha512-5F23kQ2rA0LdMtU8fkyoE9U6YvlarVX3KosXue8pto/SKLe95/vNgH3KiDhcA21NIgi5oHGlaIrIf6oxLWkLaA==\" type=\"application/javascript\" src=\"https://assets-cdn.github.com/assets/github-a197a3a1d6f6f99c256c47def56e3ee0.js\"></script>\\n    \\n    \\n    \\n  <div class=\"js-stale-session-flash stale-session-flash flash flash-warn flash-banner d-none\">\\n    <svg class=\"octicon octicon-alert\" viewBox=\"0 0 16 16\" version=\"1.1\" width=\"16\" height=\"16\" aria-hidden=\"true\"><path fill-rule=\"evenodd\" d=\"M8.893 1.5c-.183-.31-.52-.5-.887-.5s-.703.19-.886.5L.138 13.499a.98.98 0 0 0 0 1.001c.193.31.53.501.886.501h13.964c.367 0 .704-.19.877-.5a1.03 1.03 0 0 0 .01-1.002L8.893 1.5zm.133 11.497H6.987v-2.003h2.039v2.003zm0-3.004H6.987V5.987h2.039v4.006z\"/></svg>\\n    <span class=\"signed-in-tab-flash\">You signed in with another tab or window. <a href=\"\">Reload</a> to refresh your session.</span>\\n    <span class=\"signed-out-tab-flash\">You signed out in another tab or window. <a href=\"\">Reload</a> to refresh your session.</span>\\n  </div>\\n  <div class=\"facebox\" id=\"facebox\" style=\"display:none;\">\\n  <div class=\"facebox-popup\">\\n    <div class=\"facebox-content\" role=\"dialog\" aria-labelledby=\"facebox-header\" aria-describedby=\"facebox-description\">\\n    </div>\\n    <button type=\"button\" class=\"facebox-close js-facebox-close\" aria-label=\"Close modal\">\\n      <svg class=\"octicon octicon-x\" viewBox=\"0 0 12 16\" version=\"1.1\" width=\"12\" height=\"16\" aria-hidden=\"true\"><path fill-rule=\"evenodd\" d=\"M7.48 8l3.75 3.75-1.48 1.48L6 9.48l-3.75 3.75-1.48-1.48L4.52 8 .77 4.25l1.48-1.48L6 6.52l3.75-3.75 1.48 1.48L7.48 8z\"/></svg>\\n    </button>\\n  </div>\\n</div>\\n\\n  <template id=\"site-details-dialog\">\\n  <details class=\"details-reset details-overlay details-overlay-dark lh-default text-gray-dark\" open>\\n    <summary aria-haspopup=\"dialog\" aria-label=\"Close dialog\"></summary>\\n    <details-dialog class=\"Box Box--overlay d-flex flex-column anim-fade-in fast\">\\n      <button class=\"Box-btn-octicon m-0 btn-octicon position-absolute right-0 top-0\" type=\"button\" aria-label=\"Close dialog\" data-close-dialog>\\n        <svg class=\"octicon octicon-x\" viewBox=\"0 0 12 16\" version=\"1.1\" width=\"12\" height=\"16\" aria-hidden=\"true\"><path fill-rule=\"evenodd\" d=\"M7.48 8l3.75 3.75-1.48 1.48L6 9.48l-3.75 3.75-1.48-1.48L4.52 8 .77 4.25l1.48-1.48L6 6.52l3.75-3.75 1.48 1.48L7.48 8z\"/></svg>\\n      </button>\\n      <div class=\"octocat-spinner my-6 js-details-dialog-spinner\"></div>\\n    </details-dialog>\\n  </details>\\n</template>\\n\\n  <div class=\"Popover js-hovercard-content position-absolute\" style=\"display: none; outline: none;\" tabindex=\"0\">\\n  <div class=\"Popover-message Popover-message--bottom-left Popover-message--large Box box-shadow-large\" style=\"width:360px;\">\\n  </div>\\n</div>\\n\\n<div id=\"hovercard-aria-description\" class=\"sr-only\">\\n  Press h to open a hovercard with more details.\\n</div>\\n\\n\\n  </body>\\n</html>\\n\\n'"
      ]
     },
     "execution_count": 6,
     "metadata": {},
     "output_type": "execute_result"
    }
   ],
   "source": [
    "r.text"
   ]
  },
  {
   "cell_type": "code",
   "execution_count": 7,
   "metadata": {},
   "outputs": [
    {
     "ename": "ImportError",
     "evalue": "cannot import name 'Beautifulsoup'",
     "output_type": "error",
     "traceback": [
      "\u001b[0;31m---------------------------------------------------------------------------\u001b[0m",
      "\u001b[0;31mImportError\u001b[0m                               Traceback (most recent call last)",
      "\u001b[0;32m<ipython-input-7-eab54f05eca9>\u001b[0m in \u001b[0;36m<module>\u001b[0;34m()\u001b[0m\n\u001b[0;32m----> 1\u001b[0;31m \u001b[0;32mfrom\u001b[0m \u001b[0mbs4\u001b[0m \u001b[0;32mimport\u001b[0m \u001b[0mBeautifulsoup\u001b[0m\u001b[0;34m\u001b[0m\u001b[0m\n\u001b[0m",
      "\u001b[0;31mImportError\u001b[0m: cannot import name 'Beautifulsoup'"
     ]
    }
   ],
   "source": [
    "from bs4 import Beautifulsoup"
   ]
  },
  {
   "cell_type": "code",
   "execution_count": null,
   "metadata": {},
   "outputs": [],
   "source": []
  },
  {
   "cell_type": "code",
   "execution_count": 8,
   "metadata": {},
   "outputs": [],
   "source": [
    "import bs4"
   ]
  },
  {
   "cell_type": "code",
   "execution_count": 9,
   "metadata": {},
   "outputs": [],
   "source": [
    "from bs4 import BeautifulSoup"
   ]
  },
  {
   "cell_type": "code",
   "execution_count": 10,
   "metadata": {},
   "outputs": [
    {
     "name": "stderr",
     "output_type": "stream",
     "text": [
      "/Users/zengxingjie/anaconda3/lib/python3.6/site-packages/bs4/__init__.py:181: UserWarning: No parser was explicitly specified, so I'm using the best available HTML parser for this system (\"lxml\"). This usually isn't a problem, but if you run this code on another system, or in a different virtual environment, it may use a different parser and behave differently.\n",
      "\n",
      "The code that caused this warning is on line 193 of the file /Users/zengxingjie/anaconda3/lib/python3.6/runpy.py. To get rid of this warning, change code that looks like this:\n",
      "\n",
      " BeautifulSoup(YOUR_MARKUP})\n",
      "\n",
      "to this:\n",
      "\n",
      " BeautifulSoup(YOUR_MARKUP, \"lxml\")\n",
      "\n",
      "  markup_type=markup_type))\n"
     ]
    }
   ],
   "source": [
    "mypage = BeautifulSoup(r.text)"
   ]
  },
  {
   "cell_type": "code",
   "execution_count": 12,
   "metadata": {},
   "outputs": [],
   "source": [
    "#mypage"
   ]
  },
  {
   "cell_type": "code",
   "execution_count": 11,
   "metadata": {},
   "outputs": [
    {
     "data": {
      "text/plain": [
       "bs4.BeautifulSoup"
      ]
     },
     "execution_count": 11,
     "metadata": {},
     "output_type": "execute_result"
    }
   ],
   "source": [
    "type(mypage)"
   ]
  },
  {
   "cell_type": "code",
   "execution_count": 12,
   "metadata": {},
   "outputs": [
    {
     "name": "stdout",
     "output_type": "stream",
     "text": [
      "Help on method find in module bs4.element:\n",
      "\n",
      "find(name=None, attrs={}, recursive=True, text=None, **kwargs) method of bs4.BeautifulSoup instance\n",
      "    Return only the first child of this Tag matching the given\n",
      "    criteria.\n",
      "\n"
     ]
    }
   ],
   "source": [
    "help(mypage.find)"
   ]
  },
  {
   "cell_type": "code",
   "execution_count": 13,
   "metadata": {},
   "outputs": [
    {
     "data": {
      "text/plain": [
       "<a class=\"px-2 py-4 bg-blue text-white show-on-focus js-skip-to-content\" href=\"#start-of-content\" tabindex=\"1\">Skip to content</a>"
      ]
     },
     "execution_count": 13,
     "metadata": {},
     "output_type": "execute_result"
    }
   ],
   "source": [
    "mypage.find('a')"
   ]
  },
  {
   "cell_type": "code",
   "execution_count": 14,
   "metadata": {},
   "outputs": [],
   "source": [
    "myarticle = mypage.find('article')"
   ]
  },
  {
   "cell_type": "code",
   "execution_count": 15,
   "metadata": {},
   "outputs": [
    {
     "data": {
      "text/plain": [
       "<article class=\"markdown-body entry-content\" itemprop=\"text\"><h1><a aria-hidden=\"true\" class=\"anchor\" href=\"#fall-2018-offering-of-the-course\" id=\"user-content-fall-2018-offering-of-the-course\"><svg aria-hidden=\"true\" class=\"octicon octicon-link\" height=\"16\" version=\"1.1\" viewbox=\"0 0 16 16\" width=\"16\"><path d=\"M4 9h1v1H4c-1.5 0-3-1.69-3-3.5S2.55 3 4 3h4c1.45 0 3 1.69 3 3.5 0 1.41-.91 2.72-2 3.25V8.59c.58-.45 1-1.27 1-2.09C10 5.22 8.98 4 8 4H4c-.98 0-2 1.22-2 2.5S3 9 4 9zm9-3h-1v1h1c1 0 2 1.22 2 2.5S13.98 12 13 12H9c-.98 0-2-1.22-2-2.5 0-.83.42-1.64 1-2.09V6.25c-1.09.53-2 1.84-2 3.25C6 11.31 7.55 13 9 13h4c1.45 0 3-1.69 3-3.5S14.5 6 13 6z\" fill-rule=\"evenodd\"></path></svg></a>Fall 2018 offering of the course</h1>\n",
       "<h2><a aria-hidden=\"true\" class=\"anchor\" href=\"#teaching-team\" id=\"user-content-teaching-team\"><svg aria-hidden=\"true\" class=\"octicon octicon-link\" height=\"16\" version=\"1.1\" viewbox=\"0 0 16 16\" width=\"16\"><path d=\"M4 9h1v1H4c-1.5 0-3-1.69-3-3.5S2.55 3 4 3h4c1.45 0 3 1.69 3 3.5 0 1.41-.91 2.72-2 3.25V8.59c.58-.45 1-1.27 1-2.09C10 5.22 8.98 4 8 4H4c-.98 0-2 1.22-2 2.5S3 9 4 9zm9-3h-1v1h1c1 0 2 1.22 2 2.5S13.98 12 13 12H9c-.98 0-2-1.22-2-2.5 0-.83.42-1.64 1-2.09V6.25c-1.09.53-2 1.84-2 3.25C6 11.31 7.55 13 9 13h4c1.45 0 3-1.69 3-3.5S14.5 6 13 6z\" fill-rule=\"evenodd\"></path></svg></a>Teaching team</h2>\n",
       "<ul>\n",
       "<li>Course instructor - Pili HU, <a href=\"https://github.com/hupili/\">@hupili</a></li>\n",
       "<li>Teaching assistants:\n",
       "<ul>\n",
       "<li>Yucan XU, <a href=\"https://github.com/ChicoXYC/\">@chicoxyc</a></li>\n",
       "<li>Serena Qiongyao HUANG, <a href=\"https://github.com/SerenaQYHuang\">@SerenaQYHuang</a></li>\n",
       "</ul>\n",
       "</li>\n",
       "<li>COMM7780 class helpers:\n",
       "<ul>\n",
       "<li>Chenxi LI, <a href=\"https://github.com/ConnorLi96\">@ConnorLi96</a></li>\n",
       "<li>Yujin FENG, <a href=\"https://github.com/Catmint1215\">@Catmint1215</a></li>\n",
       "<li>Shiyu ZHANG, <a href=\"https://github.com/CathyChang1996\">@CathyChang1996</a></li>\n",
       "<li>Sining ZENG, <a href=\"https://github.com/CelineTsang\">@CelineTsang</a></li>\n",
       "<li>Ning ZHANG, <a href=\"https://github.com/iiiJenny\">@iiiJenny</a></li>\n",
       "<li>Yitong LIN, <a href=\"https://github.com/graceyit\">@Graceyit</a></li>\n",
       "</ul>\n",
       "</li>\n",
       "<li>JOUR7280 class helpers:\n",
       "<ul>\n",
       "<li>Jingwei ZHANG, <a href=\"https://github.com/zhangjingwei0512\">@zhangjingwei0512</a></li>\n",
       "<li>Wen XU, <a href=\"https://github.com/warrior960812\">@warrior960812</a></li>\n",
       "<li>Kaiwen XU, <a href=\"https://github.com/kaiwenxu94\">@kaiwenxu94</a></li>\n",
       "<li>Menghan ZHAI, <a href=\"https://github.com/Zmh951010\">@Zmh951010</a></li>\n",
       "<li>Lan YAO, <a href=\"https://github.com/lullabymia\">@lullabymia</a></li>\n",
       "</ul>\n",
       "</li>\n",
       "</ul>\n",
       "<h2><a aria-hidden=\"true\" class=\"anchor\" href=\"#list-of-comm7780-students\" id=\"user-content-list-of-comm7780-students\"><svg aria-hidden=\"true\" class=\"octicon octicon-link\" height=\"16\" version=\"1.1\" viewbox=\"0 0 16 16\" width=\"16\"><path d=\"M4 9h1v1H4c-1.5 0-3-1.69-3-3.5S2.55 3 4 3h4c1.45 0 3 1.69 3 3.5 0 1.41-.91 2.72-2 3.25V8.59c.58-.45 1-1.27 1-2.09C10 5.22 8.98 4 8 4H4c-.98 0-2 1.22-2 2.5S3 9 4 9zm9-3h-1v1h1c1 0 2 1.22 2 2.5S13.98 12 13 12H9c-.98 0-2-1.22-2-2.5 0-.83.42-1.64 1-2.09V6.25c-1.09.53-2 1.84-2 3.25C6 11.31 7.55 13 9 13h4c1.45 0 3-1.69 3-3.5S14.5 6 13 6z\" fill-rule=\"evenodd\"></path></svg></a>List of COMM7780 students</h2>\n",
       "<ul>\n",
       "<li>XueJiao CAI, <a href=\"https://github.com/PepperCai\">@PepperCai</a></li>\n",
       "<li>Mengjie CHEN, <a href=\"https://github.com/DidoChan\">@DidoChan</a></li>\n",
       "<li>Ye CHEN, <a href=\"https://github.com/Shinonomee\">@Shinonomee</a></li>\n",
       "<li>Jiawei DU, <a href=\"https://github.com/jasmine-dudu\">@jasmine-dudu</a></li>\n",
       "<li>Chao GAO, <a href=\"https://github.com/FLYSTEPHEN\">@FLYSTEPHEN</a></li>\n",
       "<li>Minyi GU, <a href=\"https://github.com/guminyi\">@guminyi</a></li>\n",
       "<li>Ting HUANG, <a href=\"https://github.com/trista520\">@trista520</a></li>\n",
       "<li>Xin HUANG, <a href=\"https://github.com/Rita0719\">@Rita0719</a></li>\n",
       "<li>Yangming HUANG, <a href=\"https://github.com/Wong-Ming\">@Wong-Ming</a></li>\n",
       "<li>Huiqing LIN, <a href=\"https://github.com/18408532\">@18408532</a></li>\n",
       "<li>Cong LIU, <a href=\"https://github.com/clairelau0108\">@clairelau0108</a></li>\n",
       "<li>Yi LUO, <a href=\"https://github.com/hakutoccino\">@hakutoccino</a></li>\n",
       "<li>Jieyi XIE, <a href=\"https://github.com/JIEYI22\">@JIEYI22</a></li>\n",
       "<li>Haotian XU, <a href=\"https://github.com/coolxu8888\">@coolxu8888</a></li>\n",
       "<li>Huashan ZENG, <a href=\"https://github.com/AlexZenghuashan\">@AlexZenghuashan</a></li>\n",
       "<li>Xingjie ZENG, <a href=\"https://github.com/zacharyzeng\">@zacharyzeng</a></li>\n",
       "<li>Ning ZHANG, <a href=\"https://github.com/ZhangNingNina/\">@ZhangNingNina</a></li>\n",
       "</ul>\n",
       "<h2><a aria-hidden=\"true\" class=\"anchor\" href=\"#list-of-jour7280-students\" id=\"user-content-list-of-jour7280-students\"><svg aria-hidden=\"true\" class=\"octicon octicon-link\" height=\"16\" version=\"1.1\" viewbox=\"0 0 16 16\" width=\"16\"><path d=\"M4 9h1v1H4c-1.5 0-3-1.69-3-3.5S2.55 3 4 3h4c1.45 0 3 1.69 3 3.5 0 1.41-.91 2.72-2 3.25V8.59c.58-.45 1-1.27 1-2.09C10 5.22 8.98 4 8 4H4c-.98 0-2 1.22-2 2.5S3 9 4 9zm9-3h-1v1h1c1 0 2 1.22 2 2.5S13.98 12 13 12H9c-.98 0-2-1.22-2-2.5 0-.83.42-1.64 1-2.09V6.25c-1.09.53-2 1.84-2 3.25C6 11.31 7.55 13 9 13h4c1.45 0 3-1.69 3-3.5S14.5 6 13 6z\" fill-rule=\"evenodd\"></path></svg></a>List of JOUR7280 students</h2>\n",
       "<ul>\n",
       "<li>Wenshu HE, <a href=\"https://github.com/elusiveburglar\">@elusiveburglar</a></li>\n",
       "<li>Nixuan JIANG, <a href=\"https://github.com/maggie0114\">@maggie0114</a></li>\n",
       "<li>Weiqi JIANG, <a href=\"https://github.com/efncij\">@efncij</a></li>\n",
       "<li>Mengyu LI, <a href=\"https://github.com/ClioLI\">@ClioLI</a></li>\n",
       "<li>Shengnan LI, <a href=\"https://github.com/Lsn-cecilia\">@Lsn-cecilia</a></li>\n",
       "<li>Yijie LI, <a href=\"https://github.com/Alana-LI\">@Alana-LI</a></li>\n",
       "<li>Yuning SHI, <a href=\"https://github.com/shiyuning0987\">@shiyuning0987</a></li>\n",
       "<li>Ziwei WANG, <a href=\"https://github.com/ivywang958\">@ivywang958</a></li>\n",
       "<li>Lin YANG, <a href=\"https://github.com/Yang9305\">@Yang9305</a></li>\n",
       "<li>Lan YAO, <a href=\"https://github.com/lullabymia\">@lullabymia</a></li>\n",
       "<li>Nuan YAO, <a href=\"https://github.com/yaonuan1995\">@yaonuan1995</a></li>\n",
       "<li>Qing YU, <a href=\"https://github.com/18426425\">@18426425</a></li>\n",
       "<li>Bohan ZHANG, <a href=\"https://github.com/ZHANGboh\">@ZHANGboh</a></li>\n",
       "<li>Huimin ZHANG, <a href=\"https://github.com/ZhangHuimin97\">@ZhangHuimin97</a></li>\n",
       "<li>Zichun ZHANG, <a href=\"https://github.com/NicoleZZC\">@NicoleZZC</a></li>\n",
       "<li>Yuanyuan CHENG, <a href=\"https://github.com/niegung\">@niegung</a> // Setting in</li>\n",
       "</ul>\n",
       "</article>"
      ]
     },
     "execution_count": 15,
     "metadata": {},
     "output_type": "execute_result"
    }
   ],
   "source": [
    "myarticle"
   ]
  },
  {
   "cell_type": "code",
   "execution_count": 16,
   "metadata": {},
   "outputs": [
    {
     "data": {
      "text/plain": [
       "<a aria-hidden=\"true\" class=\"anchor\" href=\"#fall-2018-offering-of-the-course\" id=\"user-content-fall-2018-offering-of-the-course\"><svg aria-hidden=\"true\" class=\"octicon octicon-link\" height=\"16\" version=\"1.1\" viewbox=\"0 0 16 16\" width=\"16\"><path d=\"M4 9h1v1H4c-1.5 0-3-1.69-3-3.5S2.55 3 4 3h4c1.45 0 3 1.69 3 3.5 0 1.41-.91 2.72-2 3.25V8.59c.58-.45 1-1.27 1-2.09C10 5.22 8.98 4 8 4H4c-.98 0-2 1.22-2 2.5S3 9 4 9zm9-3h-1v1h1c1 0 2 1.22 2 2.5S13.98 12 13 12H9c-.98 0-2-1.22-2-2.5 0-.83.42-1.64 1-2.09V6.25c-1.09.53-2 1.84-2 3.25C6 11.31 7.55 13 9 13h4c1.45 0 3-1.69 3-3.5S14.5 6 13 6z\" fill-rule=\"evenodd\"></path></svg></a>"
      ]
     },
     "execution_count": 16,
     "metadata": {},
     "output_type": "execute_result"
    }
   ],
   "source": [
    "myarticle.find('a')"
   ]
  },
  {
   "cell_type": "code",
   "execution_count": 34,
   "metadata": {},
   "outputs": [],
   "source": [
    "myul = myarticle.find_all('a')"
   ]
  },
  {
   "cell_type": "code",
   "execution_count": 37,
   "metadata": {},
   "outputs": [
    {
     "data": {
      "text/plain": [
       "[<a aria-hidden=\"true\" class=\"anchor\" href=\"#fall-2018-offering-of-the-course\" id=\"user-content-fall-2018-offering-of-the-course\"><svg aria-hidden=\"true\" class=\"octicon octicon-link\" height=\"16\" version=\"1.1\" viewbox=\"0 0 16 16\" width=\"16\"><path d=\"M4 9h1v1H4c-1.5 0-3-1.69-3-3.5S2.55 3 4 3h4c1.45 0 3 1.69 3 3.5 0 1.41-.91 2.72-2 3.25V8.59c.58-.45 1-1.27 1-2.09C10 5.22 8.98 4 8 4H4c-.98 0-2 1.22-2 2.5S3 9 4 9zm9-3h-1v1h1c1 0 2 1.22 2 2.5S13.98 12 13 12H9c-.98 0-2-1.22-2-2.5 0-.83.42-1.64 1-2.09V6.25c-1.09.53-2 1.84-2 3.25C6 11.31 7.55 13 9 13h4c1.45 0 3-1.69 3-3.5S14.5 6 13 6z\" fill-rule=\"evenodd\"></path></svg></a>,\n",
       " <a aria-hidden=\"true\" class=\"anchor\" href=\"#teaching-team\" id=\"user-content-teaching-team\"><svg aria-hidden=\"true\" class=\"octicon octicon-link\" height=\"16\" version=\"1.1\" viewbox=\"0 0 16 16\" width=\"16\"><path d=\"M4 9h1v1H4c-1.5 0-3-1.69-3-3.5S2.55 3 4 3h4c1.45 0 3 1.69 3 3.5 0 1.41-.91 2.72-2 3.25V8.59c.58-.45 1-1.27 1-2.09C10 5.22 8.98 4 8 4H4c-.98 0-2 1.22-2 2.5S3 9 4 9zm9-3h-1v1h1c1 0 2 1.22 2 2.5S13.98 12 13 12H9c-.98 0-2-1.22-2-2.5 0-.83.42-1.64 1-2.09V6.25c-1.09.53-2 1.84-2 3.25C6 11.31 7.55 13 9 13h4c1.45 0 3-1.69 3-3.5S14.5 6 13 6z\" fill-rule=\"evenodd\"></path></svg></a>,\n",
       " <a href=\"https://github.com/hupili/\">@hupili</a>,\n",
       " <a href=\"https://github.com/ChicoXYC/\">@chicoxyc</a>,\n",
       " <a href=\"https://github.com/SerenaQYHuang\">@SerenaQYHuang</a>,\n",
       " <a href=\"https://github.com/ConnorLi96\">@ConnorLi96</a>,\n",
       " <a href=\"https://github.com/Catmint1215\">@Catmint1215</a>,\n",
       " <a href=\"https://github.com/CathyChang1996\">@CathyChang1996</a>,\n",
       " <a href=\"https://github.com/CelineTsang\">@CelineTsang</a>,\n",
       " <a href=\"https://github.com/iiiJenny\">@iiiJenny</a>,\n",
       " <a href=\"https://github.com/graceyit\">@Graceyit</a>,\n",
       " <a href=\"https://github.com/zhangjingwei0512\">@zhangjingwei0512</a>,\n",
       " <a href=\"https://github.com/warrior960812\">@warrior960812</a>,\n",
       " <a href=\"https://github.com/kaiwenxu94\">@kaiwenxu94</a>,\n",
       " <a href=\"https://github.com/Zmh951010\">@Zmh951010</a>,\n",
       " <a href=\"https://github.com/lullabymia\">@lullabymia</a>,\n",
       " <a aria-hidden=\"true\" class=\"anchor\" href=\"#list-of-comm7780-students\" id=\"user-content-list-of-comm7780-students\"><svg aria-hidden=\"true\" class=\"octicon octicon-link\" height=\"16\" version=\"1.1\" viewbox=\"0 0 16 16\" width=\"16\"><path d=\"M4 9h1v1H4c-1.5 0-3-1.69-3-3.5S2.55 3 4 3h4c1.45 0 3 1.69 3 3.5 0 1.41-.91 2.72-2 3.25V8.59c.58-.45 1-1.27 1-2.09C10 5.22 8.98 4 8 4H4c-.98 0-2 1.22-2 2.5S3 9 4 9zm9-3h-1v1h1c1 0 2 1.22 2 2.5S13.98 12 13 12H9c-.98 0-2-1.22-2-2.5 0-.83.42-1.64 1-2.09V6.25c-1.09.53-2 1.84-2 3.25C6 11.31 7.55 13 9 13h4c1.45 0 3-1.69 3-3.5S14.5 6 13 6z\" fill-rule=\"evenodd\"></path></svg></a>,\n",
       " <a href=\"https://github.com/PepperCai\">@PepperCai</a>,\n",
       " <a href=\"https://github.com/DidoChan\">@DidoChan</a>,\n",
       " <a href=\"https://github.com/Shinonomee\">@Shinonomee</a>,\n",
       " <a href=\"https://github.com/jasmine-dudu\">@jasmine-dudu</a>,\n",
       " <a href=\"https://github.com/FLYSTEPHEN\">@FLYSTEPHEN</a>,\n",
       " <a href=\"https://github.com/guminyi\">@guminyi</a>,\n",
       " <a href=\"https://github.com/trista520\">@trista520</a>,\n",
       " <a href=\"https://github.com/Rita0719\">@Rita0719</a>,\n",
       " <a href=\"https://github.com/Wong-Ming\">@Wong-Ming</a>,\n",
       " <a href=\"https://github.com/18408532\">@18408532</a>,\n",
       " <a href=\"https://github.com/clairelau0108\">@clairelau0108</a>,\n",
       " <a href=\"https://github.com/hakutoccino\">@hakutoccino</a>,\n",
       " <a href=\"https://github.com/JIEYI22\">@JIEYI22</a>,\n",
       " <a href=\"https://github.com/coolxu8888\">@coolxu8888</a>,\n",
       " <a href=\"https://github.com/AlexZenghuashan\">@AlexZenghuashan</a>,\n",
       " <a href=\"https://github.com/zacharyzeng\">@zacharyzeng</a>,\n",
       " <a href=\"https://github.com/ZhangNingNina/\">@ZhangNingNina</a>,\n",
       " <a aria-hidden=\"true\" class=\"anchor\" href=\"#list-of-jour7280-students\" id=\"user-content-list-of-jour7280-students\"><svg aria-hidden=\"true\" class=\"octicon octicon-link\" height=\"16\" version=\"1.1\" viewbox=\"0 0 16 16\" width=\"16\"><path d=\"M4 9h1v1H4c-1.5 0-3-1.69-3-3.5S2.55 3 4 3h4c1.45 0 3 1.69 3 3.5 0 1.41-.91 2.72-2 3.25V8.59c.58-.45 1-1.27 1-2.09C10 5.22 8.98 4 8 4H4c-.98 0-2 1.22-2 2.5S3 9 4 9zm9-3h-1v1h1c1 0 2 1.22 2 2.5S13.98 12 13 12H9c-.98 0-2-1.22-2-2.5 0-.83.42-1.64 1-2.09V6.25c-1.09.53-2 1.84-2 3.25C6 11.31 7.55 13 9 13h4c1.45 0 3-1.69 3-3.5S14.5 6 13 6z\" fill-rule=\"evenodd\"></path></svg></a>,\n",
       " <a href=\"https://github.com/elusiveburglar\">@elusiveburglar</a>,\n",
       " <a href=\"https://github.com/maggie0114\">@maggie0114</a>,\n",
       " <a href=\"https://github.com/efncij\">@efncij</a>,\n",
       " <a href=\"https://github.com/ClioLI\">@ClioLI</a>,\n",
       " <a href=\"https://github.com/Lsn-cecilia\">@Lsn-cecilia</a>,\n",
       " <a href=\"https://github.com/Alana-LI\">@Alana-LI</a>,\n",
       " <a href=\"https://github.com/shiyuning0987\">@shiyuning0987</a>,\n",
       " <a href=\"https://github.com/ivywang958\">@ivywang958</a>,\n",
       " <a href=\"https://github.com/Yang9305\">@Yang9305</a>,\n",
       " <a href=\"https://github.com/lullabymia\">@lullabymia</a>,\n",
       " <a href=\"https://github.com/yaonuan1995\">@yaonuan1995</a>,\n",
       " <a href=\"https://github.com/18426425\">@18426425</a>,\n",
       " <a href=\"https://github.com/ZHANGboh\">@ZHANGboh</a>,\n",
       " <a href=\"https://github.com/ZhangHuimin97\">@ZhangHuimin97</a>,\n",
       " <a href=\"https://github.com/NicoleZZC\">@NicoleZZC</a>,\n",
       " <a href=\"https://github.com/niegung\">@niegung</a>]"
      ]
     },
     "execution_count": 37,
     "metadata": {},
     "output_type": "execute_result"
    }
   ],
   "source": [
    "myul"
   ]
  },
  {
   "cell_type": "code",
   "execution_count": 42,
   "metadata": {},
   "outputs": [],
   "source": [
    "list = myul[17:34]"
   ]
  },
  {
   "cell_type": "code",
   "execution_count": 53,
   "metadata": {},
   "outputs": [
    {
     "name": "stdout",
     "output_type": "stream",
     "text": [
      "('@PepperCai', 'https://github.com/PepperCai')\n",
      "('@DidoChan', 'https://github.com/DidoChan')\n",
      "('@Shinonomee', 'https://github.com/Shinonomee')\n",
      "('@jasmine-dudu', 'https://github.com/jasmine-dudu')\n",
      "('@FLYSTEPHEN', 'https://github.com/FLYSTEPHEN')\n",
      "('@guminyi', 'https://github.com/guminyi')\n",
      "('@trista520', 'https://github.com/trista520')\n",
      "('@Rita0719', 'https://github.com/Rita0719')\n",
      "('@Wong-Ming', 'https://github.com/Wong-Ming')\n",
      "('@18408532', 'https://github.com/18408532')\n",
      "('@clairelau0108', 'https://github.com/clairelau0108')\n",
      "('@hakutoccino', 'https://github.com/hakutoccino')\n",
      "('@JIEYI22', 'https://github.com/JIEYI22')\n",
      "('@coolxu8888', 'https://github.com/coolxu8888')\n",
      "('@AlexZenghuashan', 'https://github.com/AlexZenghuashan')\n",
      "('@zacharyzeng', 'https://github.com/zacharyzeng')\n",
      "('@ZhangNingNina', 'https://github.com/ZhangNingNina/')\n"
     ]
    }
   ],
   "source": [
    "for i in list:\n",
    "    print((i.text,i.attrs['href']))"
   ]
  },
  {
   "cell_type": "code",
   "execution_count": 52,
   "metadata": {},
   "outputs": [
    {
     "data": {
      "text/plain": [
       "'https://github.com/ZhangNingNina/'"
      ]
     },
     "execution_count": 52,
     "metadata": {},
     "output_type": "execute_result"
    }
   ],
   "source": [
    "with open('list.csv','w',newline='')as f:\n",
    "    "
   ]
  },
  {
   "cell_type": "code",
   "execution_count": 54,
   "metadata": {},
   "outputs": [],
   "source": [
    "myul = myarticle.find_all('ul')"
   ]
  },
  {
   "cell_type": "code",
   "execution_count": 56,
   "metadata": {},
   "outputs": [
    {
     "data": {
      "text/plain": [
       "'https://github.com/ZhangNingNina/'"
      ]
     },
     "execution_count": 56,
     "metadata": {},
     "output_type": "execute_result"
    }
   ],
   "source": [
    "i.attrs['href']"
   ]
  },
  {
   "cell_type": "code",
   "execution_count": 57,
   "metadata": {},
   "outputs": [
    {
     "data": {
      "text/plain": [
       "6"
      ]
     },
     "execution_count": 57,
     "metadata": {},
     "output_type": "execute_result"
    }
   ],
   "source": [
    "len(myul)"
   ]
  },
  {
   "cell_type": "code",
   "execution_count": 95,
   "metadata": {},
   "outputs": [
    {
     "data": {
      "text/plain": [
       "[<li>XueJiao CAI, <a href=\"https://github.com/PepperCai\">@PepperCai</a></li>,\n",
       " <li>Mengjie CHEN, <a href=\"https://github.com/DidoChan\">@DidoChan</a></li>,\n",
       " <li>Ye CHEN, <a href=\"https://github.com/Shinonomee\">@Shinonomee</a></li>,\n",
       " <li>Jiawei DU, <a href=\"https://github.com/jasmine-dudu\">@jasmine-dudu</a></li>,\n",
       " <li>Chao GAO, <a href=\"https://github.com/FLYSTEPHEN\">@FLYSTEPHEN</a></li>,\n",
       " <li>Minyi GU, <a href=\"https://github.com/guminyi\">@guminyi</a></li>,\n",
       " <li>Ting HUANG, <a href=\"https://github.com/trista520\">@trista520</a></li>,\n",
       " <li>Xin HUANG, <a href=\"https://github.com/Rita0719\">@Rita0719</a></li>,\n",
       " <li>Yangming HUANG, <a href=\"https://github.com/Wong-Ming\">@Wong-Ming</a></li>,\n",
       " <li>Huiqing LIN, <a href=\"https://github.com/18408532\">@18408532</a></li>,\n",
       " <li>Cong LIU, <a href=\"https://github.com/clairelau0108\">@clairelau0108</a></li>,\n",
       " <li>Yi LUO, <a href=\"https://github.com/hakutoccino\">@hakutoccino</a></li>,\n",
       " <li>Jieyi XIE, <a href=\"https://github.com/JIEYI22\">@JIEYI22</a></li>,\n",
       " <li>Haotian XU, <a href=\"https://github.com/coolxu8888\">@coolxu8888</a></li>,\n",
       " <li>Huashan ZENG, <a href=\"https://github.com/AlexZenghuashan\">@AlexZenghuashan</a></li>,\n",
       " <li>Xingjie ZENG, <a href=\"https://github.com/zacharyzeng\">@zacharyzeng</a></li>,\n",
       " <li>Ning ZHANG, <a href=\"https://github.com/ZhangNingNina/\">@ZhangNingNina</a></li>]"
      ]
     },
     "execution_count": 95,
     "metadata": {},
     "output_type": "execute_result"
    }
   ],
   "source": [
    "a = myul[4].find_all('li')\n",
    "a"
   ]
  },
  {
   "cell_type": "code",
   "execution_count": 102,
   "metadata": {},
   "outputs": [
    {
     "data": {
      "text/plain": [
       "'[<a href=\"https://github.com/PepperCai\">@PepperCai</a>, <a href=\"https://github.com/DidoChan\">@DidoChan</a>, <a href=\"https://github.com/Shinonomee\">@Shinonomee</a>, <a href=\"https://github.com/jasmine-dudu\">@jasmine-dudu</a>, <a href=\"https://github.com/FLYSTEPHEN\">@FLYSTEPHEN</a>, <a href=\"https://github.com/guminyi\">@guminyi</a>, <a href=\"https://github.com/trista520\">@trista520</a>, <a href=\"https://github.com/Rita0719\">@Rita0719</a>, <a href=\"https://github.com/Wong-Ming\">@Wong-Ming</a>, <a href=\"https://github.com/18408532\">@18408532</a>, <a href=\"https://github.com/clairelau0108\">@clairelau0108</a>, <a href=\"https://github.com/hakutoccino\">@hakutoccino</a>, <a href=\"https://github.com/JIEYI22\">@JIEYI22</a>, <a href=\"https://github.com/coolxu8888\">@coolxu8888</a>, <a href=\"https://github.com/AlexZenghuashan\">@AlexZenghuashan</a>, <a href=\"https://github.com/zacharyzeng\">@zacharyzeng</a>, <a href=\"https://github.com/ZhangNingNina/\">@ZhangNingNina</a>]'"
      ]
     },
     "execution_count": 102,
     "metadata": {},
     "output_type": "execute_result"
    }
   ],
   "source": [
    "b= str(myul[4].find_all('a'))\n",
    "b\n",
    "    "
   ]
  },
  {
   "cell_type": "code",
   "execution_count": 106,
   "metadata": {},
   "outputs": [
    {
     "data": {
      "text/plain": [
       "['[<a href',\n",
       " '\"https://github.com/PepperCai\">@PepperCai</a>, <a href',\n",
       " '\"https://github.com/DidoChan\">@DidoChan</a>, <a href',\n",
       " '\"https://github.com/Shinonomee\">@Shinonomee</a>, <a href',\n",
       " '\"https://github.com/jasmine-dudu\">@jasmine-dudu</a>, <a href',\n",
       " '\"https://github.com/FLYSTEPHEN\">@FLYSTEPHEN</a>, <a href',\n",
       " '\"https://github.com/guminyi\">@guminyi</a>, <a href',\n",
       " '\"https://github.com/trista520\">@trista520</a>, <a href',\n",
       " '\"https://github.com/Rita0719\">@Rita0719</a>, <a href',\n",
       " '\"https://github.com/Wong-Ming\">@Wong-Ming</a>, <a href',\n",
       " '\"https://github.com/18408532\">@18408532</a>, <a href',\n",
       " '\"https://github.com/clairelau0108\">@clairelau0108</a>, <a href',\n",
       " '\"https://github.com/hakutoccino\">@hakutoccino</a>, <a href',\n",
       " '\"https://github.com/JIEYI22\">@JIEYI22</a>, <a href',\n",
       " '\"https://github.com/coolxu8888\">@coolxu8888</a>, <a href',\n",
       " '\"https://github.com/AlexZenghuashan\">@AlexZenghuashan</a>, <a href',\n",
       " '\"https://github.com/zacharyzeng\">@zacharyzeng</a>, <a href',\n",
       " '\"https://github.com/ZhangNingNina/\">@ZhangNingNina</a>]']"
      ]
     },
     "execution_count": 106,
     "metadata": {},
     "output_type": "execute_result"
    }
   ],
   "source": [
    "b.split('=')"
   ]
  },
  {
   "cell_type": "code",
   "execution_count": 72,
   "metadata": {},
   "outputs": [
    {
     "name": "stdout",
     "output_type": "stream",
     "text": [
      "XueJiao CAI, @PepperCai\n",
      "Mengjie CHEN, @DidoChan\n",
      "Ye CHEN, @Shinonomee\n",
      "Jiawei DU, @jasmine-dudu\n",
      "Chao GAO, @FLYSTEPHEN\n",
      "Minyi GU, @guminyi\n",
      "Ting HUANG, @trista520\n",
      "Xin HUANG, @Rita0719\n",
      "Yangming HUANG, @Wong-Ming\n",
      "Huiqing LIN, @18408532\n",
      "Cong LIU, @clairelau0108\n",
      "Yi LUO, @hakutoccino\n",
      "Jieyi XIE, @JIEYI22\n",
      "Haotian XU, @coolxu8888\n",
      "Huashan ZENG, @AlexZenghuashan\n",
      "Xingjie ZENG, @zacharyzeng\n",
      "Ning ZHANG, @ZhangNingNina\n"
     ]
    }
   ],
   "source": [
    "for i in a:\n",
    "    print((i.text))"
   ]
  },
  {
   "cell_type": "code",
   "execution_count": 73,
   "metadata": {},
   "outputs": [
    {
     "ename": "KeyError",
     "evalue": "'href'",
     "output_type": "error",
     "traceback": [
      "\u001b[0;31m---------------------------------------------------------------------------\u001b[0m",
      "\u001b[0;31mKeyError\u001b[0m                                  Traceback (most recent call last)",
      "\u001b[0;32m<ipython-input-73-ab7970ce1589>\u001b[0m in \u001b[0;36m<module>\u001b[0;34m()\u001b[0m\n\u001b[0;32m----> 1\u001b[0;31m \u001b[0mi\u001b[0m\u001b[0;34m.\u001b[0m\u001b[0mattrs\u001b[0m\u001b[0;34m[\u001b[0m\u001b[0;34m'href'\u001b[0m\u001b[0;34m]\u001b[0m\u001b[0;34m\u001b[0m\u001b[0m\n\u001b[0m",
      "\u001b[0;31mKeyError\u001b[0m: 'href'"
     ]
    }
   ],
   "source": [
    "i.attrs['href']"
   ]
  },
  {
   "cell_type": "code",
   "execution_count": 26,
   "metadata": {},
   "outputs": [
    {
     "data": {
      "text/plain": [
       "dict"
      ]
     },
     "execution_count": 26,
     "metadata": {},
     "output_type": "execute_result"
    }
   ],
   "source": [
    "type(mya.attrs)"
   ]
  },
  {
   "cell_type": "code",
   "execution_count": 27,
   "metadata": {},
   "outputs": [
    {
     "data": {
      "text/plain": [
       "'https://github.com/hupili/'"
      ]
     },
     "execution_count": 27,
     "metadata": {},
     "output_type": "execute_result"
    }
   ],
   "source": [
    "mya.attrs['href']"
   ]
  },
  {
   "cell_type": "code",
   "execution_count": 29,
   "metadata": {},
   "outputs": [
    {
     "data": {
      "text/plain": [
       "'@hupili'"
      ]
     },
     "execution_count": 29,
     "metadata": {},
     "output_type": "execute_result"
    }
   ],
   "source": [
    "mya.text"
   ]
  },
  {
   "cell_type": "code",
   "execution_count": 30,
   "metadata": {},
   "outputs": [
    {
     "data": {
      "text/plain": [
       "('@hupili', 'https://github.com/hupili/')"
      ]
     },
     "execution_count": 30,
     "metadata": {},
     "output_type": "execute_result"
    }
   ],
   "source": [
    "(mya.text, mya.attrs['href'])"
   ]
  },
  {
   "cell_type": "code",
   "execution_count": 31,
   "metadata": {},
   "outputs": [],
   "source": [
    "myas = myul.find_all('a')"
   ]
  },
  {
   "cell_type": "code",
   "execution_count": 35,
   "metadata": {},
   "outputs": [],
   "source": [
    "data = []\n",
    "for mya in myas:\n",
    "    data.append([mya.text, mya.attrs['href']])"
   ]
  },
  {
   "cell_type": "code",
   "execution_count": 36,
   "metadata": {},
   "outputs": [
    {
     "data": {
      "text/plain": [
       "[['@hupili', 'https://github.com/hupili/'],\n",
       " ['@chicoxyc', 'https://github.com/ChicoXYC/'],\n",
       " ['@SerenaQYHuang', 'https://github.com/SerenaQYHuang'],\n",
       " ['@ConnorLi96', 'https://github.com/ConnorLi96'],\n",
       " ['@Catmint1215', 'https://github.com/Catmint1215'],\n",
       " ['@CathyChang1996', 'https://github.com/CathyChang1996'],\n",
       " ['@CelineTsang', 'https://github.com/CelineTsang'],\n",
       " ['@iiiJenny', 'https://github.com/iiiJenny'],\n",
       " ['@Graceyit', 'https://github.com/graceyit'],\n",
       " ['@zhangjingwei0512', 'https://github.com/zhangjingwei0512'],\n",
       " ['@warrior960812', 'https://github.com/warrior960812'],\n",
       " ['@kaiwenxu94', 'https://github.com/kaiwenxu94'],\n",
       " ['@Zmh951010', 'https://github.com/Zmh951010'],\n",
       " ['@lullabymia', 'https://github.com/lullabymia']]"
      ]
     },
     "execution_count": 36,
     "metadata": {},
     "output_type": "execute_result"
    }
   ],
   "source": [
    "data"
   ]
  },
  {
   "cell_type": "code",
   "execution_count": null,
   "metadata": {},
   "outputs": [],
   "source": []
  }
 ],
 "metadata": {
  "kernelspec": {
   "display_name": "Python 3",
   "language": "python",
   "name": "python3"
  },
  "language_info": {
   "codemirror_mode": {
    "name": "ipython",
    "version": 3
   },
   "file_extension": ".py",
   "mimetype": "text/x-python",
   "name": "python",
   "nbconvert_exporter": "python",
   "pygments_lexer": "ipython3",
   "version": "3.6.5"
  }
 },
 "nbformat": 4,
 "nbformat_minor": 2
}
