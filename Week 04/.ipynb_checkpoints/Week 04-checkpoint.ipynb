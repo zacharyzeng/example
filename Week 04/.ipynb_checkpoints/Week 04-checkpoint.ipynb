{
 "cells": [
  {
   "cell_type": "markdown",
   "metadata": {},
   "source": [
    "# Week 04"
   ]
  },
  {
   "cell_type": "markdown",
   "metadata": {},
   "source": [
    "## 目标\n",
    "### 1.学习使用Jupyter\n",
    "### 2.了解API/JSON, 从在线数据库(twitter, GitHub, weibo, douban等)抓取数据\n",
    "### 3.了解基本文件格式: CSV/JSON\n",
    "   #### 能够掌握好复合结构:比如 {} 和 []\n",
    "   #### 能够良好使用多层的 for循环 和 re-format 数据\n",
    "   #### 能够使用连载器对文件进行输入和输出"
   ]
  },
  {
   "cell_type": "markdown",
   "metadata": {},
   "source": [
    "## Learn to use Jupyter Notebook\n",
    "\n",
    "#### originally called \"IPython notebook\" (interactive Python notebook), so having the .ipynb suffix/ extention name\n",
    "#### provides a web-based interface to interactively test and build Python codes(suited for a bottom-up approach when buiding larger projects)\n",
    "\n",
    "### Virtual environment(虚拟环境)\n",
    "#### \"environment\" refers to the context where the program is executed (The context can be time, operating system, current working folder, Python version, dependent module version(从属模块版本), the status of system, the status of dependent components, ...)\n",
    "\n",
    "#### **TIP**: 环境不同两段代码可以表现地不同\n",
    "#### Python有一个虚拟环境的概念，可以使用虚拟化确保项目在同一类环境中执行(Python2 and Python3 in same computer)  也用虚拟化确定从属Python模块，在*requirements.txt*具体说明\n",
    "\n",
    "#### 两种命令方式建立*virtualenv*\n",
    "   #### *virtualenv* -- old executable usually used in Python2.\n",
    "   #### *pyvenv* -- the default and recommended way of setting up virtualenv in Python3. (安装时已经自带)\n",
    "\n",
    "### Setup virtualenv and install Jupyter Notebook\n",
    "#### 如果出现in [ * ], 可以在kernel目录下，点击stop或者按两次 “ I ”\n",
    "#### Cell目录下，run cell是一步一步运行；run all above是运行和检查之前的所有代码\n",
    "#### Kernel是交互输入或输出从头到尾的所有内容，？点击restart可以赋予变量一个另外的值？"
   ]
  },
  {
   "cell_type": "markdown",
   "metadata": {},
   "source": [
    "## File operation\n",
    "\n",
    "### Write a file\n",
    "#### 1. 创立文件"
   ]
  },
  {
   "cell_type": "code",
   "execution_count": null,
   "metadata": {},
   "outputs": [],
   "source": [
    "f = open(\"test.txt\",\"w\")"
   ]
  },
  {
   "cell_type": "markdown",
   "metadata": {},
   "source": [
    "#### 通过不同名字可以创立不同的文件，例如*name.txt, name.json*，但不同文件有不同的读写方式\n",
    "#### ‘w’即write"
   ]
  },
  {
   "cell_type": "markdown",
   "metadata": {},
   "source": [
    "#### 2.写内容"
   ]
  },
  {
   "cell_type": "code",
   "execution_count": 1,
   "metadata": {},
   "outputs": [],
   "source": [
    "f = open(\"test.txt\",\"w\")\n",
    "\n",
    "f.write('python tutorial')\n",
    "f.close()"
   ]
  },
  {
   "cell_type": "markdown",
   "metadata": {},
   "source": [
    "#### f.close( )即停止写入，关掉文件并存储\n",
    "#### (文档里出现了一个叫‘text.txt’的文件，并且里面内容为‘python tutorial’"
   ]
  },
  {
   "cell_type": "markdown",
   "metadata": {},
   "source": [
    "### Read a file\n",
    "\n",
    "#### 首先打开文件，读取内容\n",
    "\n",
    "#### Syntax:(句法)"
   ]
  },
  {
   "cell_type": "code",
   "execution_count": 3,
   "metadata": {},
   "outputs": [],
   "source": [
    "f = open(\"test.txt\", \"r+\")\n",
    "contents = f.read()\n",
    "content = f.read(6)"
   ]
  },
  {
   "cell_type": "markdown",
   "metadata": {},
   "source": [
    "#### ‘r’即读取，‘r+’即从头开始读取，如果想要读取？字符串的某一部分，需要使用这种方法？"
   ]
  },
  {
   "cell_type": "code",
   "execution_count": null,
   "metadata": {},
   "outputs": [],
   "source": []
  },
  {
   "cell_type": "code",
   "execution_count": null,
   "metadata": {},
   "outputs": [],
   "source": []
  }
 ],
 "metadata": {
  "kernelspec": {
   "display_name": "Python 3",
   "language": "python",
   "name": "python3"
  },
  "language_info": {
   "codemirror_mode": {
    "name": "ipython",
    "version": 3
   },
   "file_extension": ".py",
   "mimetype": "text/x-python",
   "name": "python",
   "nbconvert_exporter": "python",
   "pygments_lexer": "ipython3",
   "version": "3.6.5"
  }
 },
 "nbformat": 4,
 "nbformat_minor": 2
}
