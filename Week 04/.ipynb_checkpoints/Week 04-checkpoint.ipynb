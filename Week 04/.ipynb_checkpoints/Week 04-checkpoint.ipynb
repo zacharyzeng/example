{
 "cells": [
  {
   "cell_type": "markdown",
   "metadata": {},
   "source": [
    "# Week 04"
   ]
  },
  {
   "cell_type": "markdown",
   "metadata": {},
   "source": [
    "## 目标\n",
    "### 1.学习使用Jupyter\n",
    "### 2.了解API/JSON, 从在线数据库(twitter, GitHub, weibo, douban等)抓取数据\n",
    "### 3.了解基本文件格式: CSV/JSON\n",
    "   #### 能够掌握好复合结构:比如 {} 和 []\n",
    "   #### 能够良好使用多层的 for循环 和 re-format 数据\n",
    "   #### 能够使用连载器对文件进行输入和输出"
   ]
  },
  {
   "cell_type": "markdown",
   "metadata": {},
   "source": [
    "## Learn to use Jupyter Notebook\n",
    "\n",
    "#### originally called \"IPython notebook\" (interactive Python notebook), so having the .ipynb suffix/ extention name\n",
    "#### provides a web-based interface to interactively test and build Python codes(suited for a bottom-up approach when buiding larger projects)\n",
    "\n",
    "### Virtual environment(虚拟环境)\n",
    "#### \"environment\" refers to the context where the program is executed (The context can be time, operating system, current working folder, Python version, dependent module version(从属模块版本), the status of system, the status of dependent components, ...)\n",
    "\n",
    "#### **TIP**: 环境不同两段代码可以表现地不同\n",
    "#### Python有一个虚拟环境的概念，可以使用虚拟化确保项目在同一类环境中执行(Python2 and Python3 in same computer)  也用虚拟化确定从属Python模块，在*requirements.txt*具体说明\n",
    "\n",
    "#### 两种命令方式建立*virtualenv*\n",
    "   #### *virtualenv* -- old executable usually used in Python2.\n",
    "   #### *pyvenv* -- the default and recommended way of setting up virtualenv in Python3. (安装时已经自带)\n",
    "\n",
    "### Setup virtualenv and install Jupyter Notebook\n",
    "#### 如果出现in [ * ], 可以在kernel目录下，点击stop或者按两次 “ I ”\n",
    "#### Cell目录下，run cell是一步一步运行；run all above是运行和检查之前的所有代码\n",
    "#### Kernel是交互输入或输出从头到尾的所有内容，？点击restart可以赋予变量一个另外的值？"
   ]
  },
  {
   "cell_type": "markdown",
   "metadata": {},
   "source": [
    "## File operation\n",
    "\n",
    "### Write a file\n",
    "#### 1. 创立文件"
   ]
  },
  {
   "cell_type": "code",
   "execution_count": 1,
   "metadata": {},
   "outputs": [],
   "source": [
    "f = open(\"test.txt\",\"w\")"
   ]
  },
  {
   "cell_type": "markdown",
   "metadata": {},
   "source": [
    "#### 通过不同名字可以创立不同的文件，例如*name.txt, name.json*，但不同文件有不同的读写方式\n",
    "#### ‘w’即write"
   ]
  },
  {
   "cell_type": "markdown",
   "metadata": {},
   "source": [
    "#### 2.写内容"
   ]
  },
  {
   "cell_type": "code",
   "execution_count": 2,
   "metadata": {},
   "outputs": [],
   "source": [
    "f = open(\"test.txt\",\"w\")\n",
    "\n",
    "f.write('python tutorial')\n",
    "f.close()"
   ]
  },
  {
   "cell_type": "markdown",
   "metadata": {},
   "source": [
    "#### f.close( )即停止写入，关掉文件并存储\n",
    "#### (文档里出现了一个叫‘text.txt’的文件，并且里面内容为‘python tutorial’"
   ]
  },
  {
   "cell_type": "markdown",
   "metadata": {},
   "source": [
    "### Read a file\n",
    "\n",
    "#### 首先打开文件，读取内容"
   ]
  },
  {
   "cell_type": "code",
   "execution_count": 3,
   "metadata": {},
   "outputs": [],
   "source": [
    "f = open(\"test.txt\", \"r+\")\n",
    "contents = f.read()\n",
    "content = f.read(6)"
   ]
  },
  {
   "cell_type": "markdown",
   "metadata": {},
   "source": [
    "#### ‘r’即读取，‘r+’即从头开始读取，如果想要读取？字符串的某一部分，需要使用这种方法？"
   ]
  },
  {
   "cell_type": "markdown",
   "metadata": {},
   "source": [
    "### Append( )  追加内容\n",
    "#### 即使附加内容而不是覆盖原文件，要打开原文件，只用在append mode里输入(\"a\")"
   ]
  },
  {
   "cell_type": "code",
   "execution_count": 4,
   "metadata": {},
   "outputs": [],
   "source": [
    "h = open(\"Hello.txt\", \"a\")\n",
    "h.write(\"Hello World again\")\n",
    "h.close()"
   ]
  },
  {
   "cell_type": "code",
   "execution_count": 5,
   "metadata": {},
   "outputs": [],
   "source": [
    "h = open(\"Hello.txt\", \"a\")\n",
    "h.write(\", I am coming!\")\n",
    "h.close()"
   ]
  },
  {
   "cell_type": "markdown",
   "metadata": {},
   "source": [
    "#### 文件内容多了新输入的', I am coming!'"
   ]
  },
  {
   "cell_type": "markdown",
   "metadata": {},
   "source": [
    "## CSV\n",
    "#### CSV (Comma Separated Values) 是电子数据表格(spreadsheets)最常用的输入输出形式 以及 数据库，如‘xlsx’文件\n",
    "#### 使用之前输入*import csv*即可\n",
    "\n",
    "#### CSV有两种基本functions: *reader* and *writer*. 对应读和写\n",
    "\n",
    "\n",
    "### csv.reader\n",
    "#### 返回到reader对象，读取给定的CSV文件；从CSV文件读取的每一排都返回到字符串的一个list；不会自动执行的数据类型转换"
   ]
  },
  {
   "cell_type": "code",
   "execution_count": 6,
   "metadata": {},
   "outputs": [
    {
     "name": "stdout",
     "output_type": "stream",
     "text": [
      "['\\ufeffname', 'id', 'gender', 'location', 'phone']\n",
      "['Chico', '1742', 'M', 'KLN', '3344']\n",
      "['Ri', '1743', 'F', 'LOS', '5168']\n",
      "['Ivy', '1655', 'F', 'MK', '7323']\n"
     ]
    }
   ],
   "source": [
    "import csv\n",
    "with open(\"chapter4-example-name_list.csv\",\"r\") as f:\n",
    "    rows = csv.reader(f)\n",
    "    for row in rows:\n",
    "        print(row)"
   ]
  },
  {
   "cell_type": "markdown",
   "metadata": {},
   "source": [
    "#### 名字出问题 \\ufeffname\n",
    "#### as ‘f’ 这个‘f’可以随意命名\n",
    "#### for后面的row也是可以随意替换\n",
    "\n",
    "#### Note:\n",
    "#### · *with open(....) as f* 表示给了f一个定义，代表打开文件；‘f’能被任意字符代替，它只意味着你重新命名了打开的这个步骤；它相当于‘ f = open('chapter4-example-name_list.csv',mode='r') ’\n",
    "#### · *open()* 意味着打开文件，如果这里没有相关文件，它会创建一个新的文件；如果已经有存在的文件，写入function会清空之前的所有内容，然后写入新内容\n",
    "#### · 输出结果的开头出现了编译问题，U+FEFF是byte order mark, or BOM(字节顺序标记)，常用于区别编译‘big-’ 和 ‘little-endian’(字节存储顺序) UTF-16. 为了删掉BOM，只需要在‘with....open’里增加一个编译线*with open('chapter4-example-name_list.csv',encoding='utf-8-sig') as f:*"
   ]
  },
  {
   "cell_type": "code",
   "execution_count": 7,
   "metadata": {},
   "outputs": [
    {
     "name": "stdout",
     "output_type": "stream",
     "text": [
      "['name', 'id', 'gender', 'location', 'phone']\n",
      "['Chico', '1742', 'M', 'KLN', '3344']\n",
      "['Ri', '1743', 'F', 'LOS', '5168']\n",
      "['Ivy', '1655', 'F', 'MK', '7323']\n"
     ]
    }
   ],
   "source": [
    "import csv\n",
    "with open(\"chapter4-example-name_list.csv\",encoding='utf-8-sig') as f:\n",
    "    rows = csv.reader(f)\n",
    "    for row in rows:\n",
    "        print(row)"
   ]
  },
  {
   "cell_type": "markdown",
   "metadata": {},
   "source": [
    "### csv.writer\n",
    "#### 返回一个写入对象将用户的数据转换成限定的字符串。CSV可以通过*write()*方法成为任何对象。如果CSV是文件对象，它打开的方式应该为 *newline=''* , 如果* newline=' ' * 没有具体说明，插入引用段的newlines将不会被正确解释；所以需要具体说明‘ newline=' ' ’，因为csv模块有自己的处理newline的方式。\n",
    "\n",
    "### Write row"
   ]
  },
  {
   "cell_type": "code",
   "execution_count": 8,
   "metadata": {},
   "outputs": [],
   "source": [
    "import csv\n",
    "with open('name.csv','w',newline='') as z:\n",
    "    mywriter=csv.writer(z)\n",
    "    mywriter.writerow(['Zach','Male'])\n",
    "    mywriter.writerow(['Pig','Animal'])"
   ]
  },
  {
   "cell_type": "markdown",
   "metadata": {},
   "source": [
    "#### Note:\n",
    "#### ‘w’代表写入，如果想要读取，则相应输入‘r’.\n",
    "#### ‘csv.writer( )’代表写入一些内容在‘name.csv’的文件里\n",
    "#### ‘writerow( )’代表写入一排，再写入另一排；输入的应该是list类型。\n",
    "#### ‘writerows( )’代表写入一排以后继续写入，知道循环list中的所有元素。\n",
    "#### ‘writerow( )’里的arguments(参数)应该是一个list，因为csv function把row当做一个list，因此需要用[ ] 包裹参数。\n",
    "\n",
    "### Write rows\n",
    "\n",
    "#### 方法1:"
   ]
  },
  {
   "cell_type": "code",
   "execution_count": 9,
   "metadata": {},
   "outputs": [],
   "source": [
    "import csv\n",
    "mylist=[['HKG',1000,3332],['KLT',1001,2333]]\n",
    "with open('location.csv','w',newline='') as z:\n",
    "    mywriter=csv.writer(z)\n",
    "    mywriter.writerows(mylist)"
   ]
  },
  {
   "cell_type": "markdown",
   "metadata": {},
   "source": [
    "#### 方法2:"
   ]
  },
  {
   "cell_type": "code",
   "execution_count": 10,
   "metadata": {},
   "outputs": [],
   "source": [
    "import csv\n",
    "number_list = [11,22,33,44,55,66]\n",
    "with open('number.csv','w',newline='') as x:\n",
    "    mywriter=csv.writer(x)\n",
    "    mywriter.writerows([[number] for number in number_list])"
   ]
  },
  {
   "cell_type": "markdown",
   "metadata": {},
   "source": [
    "##### 为什么列表是纵向的不是横向的？\n",
    "##### [number]代表的是什么？"
   ]
  },
  {
   "cell_type": "markdown",
   "metadata": {},
   "source": [
    "#### 方法3:"
   ]
  },
  {
   "cell_type": "code",
   "execution_count": 11,
   "metadata": {},
   "outputs": [],
   "source": [
    "student_list = ['Zach','Pig','Zeng','Xing','Jie']\n",
    "with open('student.csv','w',newline='') as j:\n",
    "    writer=csv.writer(j)\n",
    "    for j in range(0,len(student_list)):\n",
    "        writer.writerow(student_list[j])"
   ]
  },
  {
   "cell_type": "markdown",
   "metadata": {},
   "source": [
    "#### Note:\n",
    "#### ‘writerows( )’代表一次性写入所以rows。它写入list中的每一项到一个row里。\n",
    "#### ‘csv.writerow’把row看作是一个list，如上，它把第一排的‘Zach’作为5个字符的list或者strings；接着把它们放入5个cells里。那么，怎样避免把一个字符串的5个characters分别放入不同的cells里？"
   ]
  },
  {
   "cell_type": "code",
   "execution_count": 12,
   "metadata": {},
   "outputs": [],
   "source": [
    "student_list = ['Zach','Pig','Zeng','Xing','Jie']\n",
    "with open('student.csv','w',newline='') as j:\n",
    "    writer=csv.writer(j,delimiter=' ')\n",
    "    for j in range(0,len(student_list)):\n",
    "        writer.writerow(student_list[j])"
   ]
  },
  {
   "cell_type": "markdown",
   "metadata": {},
   "source": [
    "#### ‘ delimiter=' ' ’ 两个' '之间一定要有空格！才能被识别"
   ]
  },
  {
   "cell_type": "markdown",
   "metadata": {},
   "source": [
    "### Exercise\n",
    "#### 1.Write row ['hello','python'] in A1 in the CSV file"
   ]
  },
  {
   "cell_type": "code",
   "execution_count": 13,
   "metadata": {},
   "outputs": [],
   "source": [
    "hello_python = ['hello','python']\n",
    "with open('hello_python.csv','w',newline='') as z:\n",
    "    writer=csv.writer(z,delimiter=' ')\n",
    "    writer.writerow(hello_python)"
   ]
  },
  {
   "cell_type": "markdown",
   "metadata": {},
   "source": [
    "#### 模板答案(两个值被分在了不同的cell)——同样，增加了‘ delimiter=' ' ’后即可出现在一个cell里"
   ]
  },
  {
   "cell_type": "code",
   "execution_count": 14,
   "metadata": {},
   "outputs": [],
   "source": [
    "import csv\n",
    "with open('hello.csv','w') as f:\n",
    "    mywriter=csv.writer(f,delimiter=' ')\n",
    "    mywriter.writerow(['hello','python'])"
   ]
  },
  {
   "cell_type": "markdown",
   "metadata": {},
   "source": [
    "#### 2.Use writerows to write [['spam','1'],['22','333'],['OK','Good']] in the CSV file"
   ]
  },
  {
   "cell_type": "code",
   "execution_count": 15,
   "metadata": {},
   "outputs": [],
   "source": [
    "import csv\n",
    "spam = [['spam','1'],['22','333'],['OK','Good']]\n",
    "with open('spam.csv','w',newline='') as j:\n",
    "    writer=csv.writer(j)\n",
    "    writer.writerows(spam)"
   ]
  },
  {
   "cell_type": "markdown",
   "metadata": {},
   "source": [
    "## JSON\n",
    "\n",
    "#### JSON (JavaScript Object Notation) 是一个轻量数据交换格式，通过JavaScript句法引出\n",
    "\n",
    "#### JSON是一个存储和交换数据的句法\n",
    "#### JSON是文本(text)，伴随JavaScript对象注解写入\n",
    "\n",
    "### JSON啥样？"
   ]
  },
  {
   "cell_type": "code",
   "execution_count": 16,
   "metadata": {},
   "outputs": [
    {
     "data": {
      "text/plain": [
       "{'firstName': 'Jane',\n",
       " 'lastName': 'Doe',\n",
       " 'hobbies': ['running', 'sky diving', 'singing'],\n",
       " 'age': 35,\n",
       " 'children': [{'firstName': 'Alice', 'age': 6},\n",
       "  {'firstName': 'Bob', 'age': 8}]}"
      ]
     },
     "execution_count": 16,
     "metadata": {},
     "output_type": "execute_result"
    }
   ],
   "source": [
    "{\n",
    "    'firstName': \"Jane\",\n",
    "    \"lastName\": \"Doe\",\n",
    "    \"hobbies\": [\"running\", \"sky diving\", \"singing\"],\n",
    "    \"age\": 35,\n",
    "    \"children\": [\n",
    "        {\n",
    "            \"firstName\": \"Alice\",\n",
    "            \"age\": 6\n",
    "        },\n",
    "        {\n",
    "            \"firstName\": \"Bob\",\n",
    "            \"age\": 8\n",
    "        }\n",
    "    ]\n",
    "}"
   ]
  },
  {
   "cell_type": "markdown",
   "metadata": {},
   "source": [
    "### 为什么要使用JSON？\n",
    "\n",
    "#### JSON的优势:\n",
    "##### 1.数据规模小。相较于XML文件类型去存储和交换数据，JSON的数据规模小，传输速度更快\n",
    "##### 2.传输速度快\n",
    "##### 3.数据格式简单，方便读和写，格式也是压缩过的\n",
    "##### 4.方便在python中使用，JSON是k-v structure的一种形式\n",
    "\n",
    "#### 简单来说，JSON是一个dict，包含keys，每一个key相对应一个value。中间被‘ : ’分开，最外层被‘ { } ’包裹，而不同的‘key-value’组又被‘ , ’给分开\n",
    "\n",
    "#### 例如："
   ]
  },
  {
   "cell_type": "code",
   "execution_count": 17,
   "metadata": {},
   "outputs": [
    {
     "data": {
      "text/plain": [
       "{'key1': 'value1', 'key2': 'value2', 'key3': 'value3'}"
      ]
     },
     "execution_count": 17,
     "metadata": {},
     "output_type": "execute_result"
    }
   ],
   "source": [
    "{'key1': 'value1', 'key2': 'value2', 'key3': 'value3'}"
   ]
  },
  {
   "cell_type": "markdown",
   "metadata": {},
   "source": [
    "#### 如果一个key相对应多个values，那么用‘ [ ] ’来包括相应的values"
   ]
  },
  {
   "cell_type": "code",
   "execution_count": null,
   "metadata": {},
   "outputs": [],
   "source": [
    "{'key1': ['v11', 'v12', 'v13'], 'key2': 'v22'}"
   ]
  },
  {
   "cell_type": "markdown",
   "metadata": {},
   "source": [
    "### JSON functions\n",
    "\n",
    "#### json.dumps: Serialize object to a JSON formatted str (连载对象到一个JSON模式的字符串)\n"
   ]
  },
  {
   "cell_type": "code",
   "execution_count": null,
   "metadata": {},
   "outputs": [],
   "source": []
  },
  {
   "cell_type": "code",
   "execution_count": null,
   "metadata": {},
   "outputs": [],
   "source": []
  },
  {
   "cell_type": "code",
   "execution_count": null,
   "metadata": {},
   "outputs": [],
   "source": []
  },
  {
   "cell_type": "code",
   "execution_count": null,
   "metadata": {},
   "outputs": [],
   "source": []
  }
 ],
 "metadata": {
  "kernelspec": {
   "display_name": "Python 3",
   "language": "python",
   "name": "python3"
  },
  "language_info": {
   "codemirror_mode": {
    "name": "ipython",
    "version": 3
   },
   "file_extension": ".py",
   "mimetype": "text/x-python",
   "name": "python",
   "nbconvert_exporter": "python",
   "pygments_lexer": "ipython3",
   "version": "3.6.5"
  }
 },
 "nbformat": 4,
 "nbformat_minor": 2
}
