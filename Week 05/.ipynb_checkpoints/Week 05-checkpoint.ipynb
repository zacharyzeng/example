{
 "cells": [
  {
   "cell_type": "markdown",
   "metadata": {},
   "source": [
    "# Get semi-structured data: Web scraping [获取半结构化的数据：网页抓取]\n",
    "\n",
    "\n",
    "## A word on unified environment [统一环境上同样的字]\n",
    "\n",
    "### virtualenv(创建虚拟化python环境), Python3 and Python2\n",
    "    Python3是python现在的标准版本。在Python3广泛传播前，这个社区花了大约十年时间的努力。标准和解释器核心离开市场了很长时间，但是许多有用的libraries都等着支持Python3。人们建立了一道耻辱之墙，之后却变成了\"超级大国之墙\"，去追踪移向Python3的进展。这都是因为Python3不是相对于Python2向后兼容的升级版。从Python2升级到Python3以后，过去的代码会无效/中止。\n",
    "    \n",
    "#### TIP: 如果现在开始一个新的项目，使用Python3, *Python3*, Python3\n",
    "\n",
    "    然而，在一些地方，特别是老的系统或环境里，仍然有Python2，或者依赖于Python2。为了让事情不凌乱，请安装virtualenv以及在virtualenv安装Jupyter notebook。\n",
    "\n",
    "### Jupyter notebook\n",
    "    Windows使用者和Mac OS X使用者在1-3章里经历了不同的环境设置问题。从第4章开始，所有的工作将基于virtualenv和Jupyter notebook完成。所以，每个人在将来都会看见同样的输入/输出。\n",
    "    A big cheers! -- you have already passed through the most difficult part of the whole course.（还有点懵...）\n",
    "    欲知更多有关Jupter的信息，详见\"FQA on Jupyter\"(Open book里有链接)\n",
    "\n",
    "\n",
    "## Knowledge about HTML [HTML的知识]\n",
    "\n",
    "### Chrome DevTools Chrome [开发者工具]\n",
    "    Chrome开发者工具是一套直接内建在谷歌Chrome浏览器里的网站开发者工具。对于我们来说，Chrome开发者工具能够帮助更好学习观看甚至改变一个页面代码的基础，我们便可更好地理解到一个网页的结构，一个网站如何存储数据，呈现信息以及最重要的是，我们如何定位/找到想要的信息并且提取它们到结构化的数据以进行更深入的分析。\n",
    "    \n",
    "### How to use Chrome DevTools [如何使用Chrome开发者工具]\n",
    "    1.首先，建议使用Chrome作为浏览器\n",
    "    2.在Chrome里，'option+command+i'键可以打开Chrome开发者工具，也叫作Chrome开发者控制台(Chrome developer console)\n",
    "    3.点击控制台的左上角，可以在网页里选择一个元素去审视/检查它。可以通过移动光标(cursor)到其之上看它的源代码。\n",
    "\n",
    "比如: 查看一个网页的结构, 一个关于特朗普推文的项目: https://initiumlab.com/blog/20170329-trump-and-ivanka/. 比如，移动光标去查看每个H2标题。\n",
    "\n",
    "### Frontend three: HTML, JS, and CSS [前端3佬:HTML, JS, CSS]\n",
    "    · HTML是一种网页的机器语言。在HTML里写一些东西意味着创建一个网页。它是一个多种标签的结构。这些标签都是成对出现，通过开标签和闭标签包裹住我们想要呈现的内容。比如，<p> content </p> 。\n",
    "    · CSS代表Cascading Style Sheets(层叠式样表)。CSS描述HTML元素如何被展示在屏幕，纸或者其他媒体上。\n",
    "    · JavaScrip是HTML和网站的编程语言，主要用于图形操作，表格确认以及内容的动态改变。\n",
    "    \n",
    "### HTML\n",
    "    HTM是一种“说明性语言”，然而Python是“解释性语言”(总而言之，宽松的条件)。这里的关键不同在于“说明性语言”不能指示机器如何去解决一个问题/一步一步形式的呈现结果。相反，它告诉机器想要的输出结果是什么，以及它受机器的支配如何用其自己的方式产出结果。\n",
    "    \n",
    "    整个互联网都依赖于HTML，所以能找到大量的免费在线资源深入学习HTML，比如，在这里。我们的主要目的不是教授每一个人去写网页(前端发展)。我们着重于理解HTML页面，以及从句法上分析来自页面里有用的结构数据。\n",
    "    下面是HTML的核心概念:\n",
    "#### · 它是一种基于标记的语言。常用标记可以是“p, h1, h2, h3, ul, ol, li, img, a”\n",
    "#### · 标记是成对出现，并且按照嵌套顺序: \n",
    "      #Paired# —— 如果看见<p>,那之后肯定会有一个</p>；文件看起来就像:\n"
   ]
  },
  {
   "cell_type": "code",
   "execution_count": null,
   "metadata": {},
   "outputs": [],
   "source": [
    "<p>\n",
    "  ... content is here ...\n",
    "</p>"
   ]
  },
  {
   "cell_type": "markdown",
   "metadata": {},
   "source": [
    "      #Nested# —— 相信一个list的购物商品在页面上，每一个商品都是一个图片链接，当点击的时候会带到详情页面。这个结构就像：\n"
   ]
  },
  {
   "cell_type": "code",
   "execution_count": null,
   "metadata": {},
   "outputs": [],
   "source": [
    "<ul>\n",
    "  <li>\n",
    "      <a href=\"link to the destination when click\">\n",
    "          <img src=\"link to the thumbnail image\">\n",
    "      </a>\n",
    "  </li>\n",
    "<ul>"
   ]
  },
  {
   "cell_type": "markdown",
   "metadata": {},
   "source": [
    "    这样，便可以建立一个网页的复杂结构。里面的标记叫作外面标记的“children”(小孩)。也可以在心中描绘出HTML文件像大树的结构一样，“<html></html>”是“root”，然后每一个其他的标记是一个“branch”，“branch”又有其“child”标记和“parent”标记。值得注意的是，在上述例子中，图片标记并没有成对出现。这是因为不能再图片中放入任何内容。它就像是一片“leaf”，我们不能再在它里面附上标记。朝着这个目标，我们能简略的删去闭合标记“</img>”。这曾经是一个很好的方式使得标记成对出现。因为”HTML5“的创始，它则被建议保留成“leaf”标记本来的形式，比如，没有成对的闭合标记以及里面没有内容。\n",
    "    为了便于讨论，我们也称呼“HTML标记”为“HTML element”(HTML元素)或者“HTML node”(HTML节点)"
   ]
  },
  {
   "cell_type": "markdown",
   "metadata": {},
   "source": [
    "## Scraper\n",
    "\n",
    "### Basic logic [基本逻辑]\n",
    "    在尝试去获取数据之前，这是我们需要知道的逻辑。基本来说，当我们爬取一个网站，首先我们需要知道这个网站。\n",
    "    1.这个网站是否提供它自己的API去获取数据？\n",
    "    2.如果没有，我们将从它的html来抓取数据。\n",
    "    3.所有数据或信息被存储在html标记里。标记名称由网站创建者设置，通常都是成对出现。所以，我们需要去做的就是找到包含我们需要数据的标记(tags)。比如，文章标题通常是在“h1”里，文本通常是“p”里。可以通过Chrome开发者工具找到这些标记。\n",
    "    4.在我们找到数据和标记之后，我们需要写代码去获取它们(使用control flows)，清除它们(操作字符串，strip()，replace()...)，然后把它们存储进文件(CSV,JSON)。\n",
    "    \n",
    "### New module: BeautifulSoup [新的moudle: BeautifulSoup]\n",
    "#### “bs4”是“BeautifulSoup4”的缩写。Beautiful Soup是一个为了把数据从HTML和XML文件中取出的Python library。\n",
    "    换句话说，BeautifulSoup按句法分析要求到结构性数据的html的内容，以便我们能轻松地找到我们想要的元素。\n",
    "\n",
    "    安装BeautifulSoup"
   ]
  },
  {
   "cell_type": "code",
   "execution_count": 1,
   "metadata": {},
   "outputs": [
    {
     "name": "stdout",
     "output_type": "stream",
     "text": [
      "Collecting bs4\n",
      "  Downloading https://files.pythonhosted.org/packages/10/ed/7e8b97591f6f456174139ec089c769f89a94a1a4025fe967691de971f314/bs4-0.0.1.tar.gz\n",
      "Requirement already satisfied: beautifulsoup4 in /Users/zengxingjie/anaconda3/lib/python3.6/site-packages (from bs4) (4.6.0)\n",
      "Building wheels for collected packages: bs4\n",
      "  Running setup.py bdist_wheel for bs4 ... \u001b[?25ldone\n",
      "\u001b[?25h  Stored in directory: /Users/zengxingjie/Library/Caches/pip/wheels/a0/b0/b2/4f80b9456b87abedbc0bf2d52235414c3467d8889be38dd472\n",
      "Successfully built bs4\n",
      "Installing collected packages: bs4\n",
      "Successfully installed bs4-0.0.1\n"
     ]
    }
   ],
   "source": [
    "!pip3 install --user bs4"
   ]
  },
  {
   "cell_type": "markdown",
   "metadata": {},
   "source": [
    "    引入moudle"
   ]
  },
  {
   "cell_type": "code",
   "execution_count": 2,
   "metadata": {},
   "outputs": [],
   "source": [
    "from bs4 import BeautifulSoup"
   ]
  },
  {
   "cell_type": "markdown",
   "metadata": {},
   "source": [
    "#### Use BeautifulSoup parser [使用BeautifulSoup句法分析器]\n",
    "    BeautifulSoup句法分析器能够我们请求的结果转换到结构性数据，以便我们能更方便地找到我们想要的数据。\n",
    "    例如: https://initiumlab.com/blog/20170329-trump-and-ivanka/"
   ]
  },
  {
   "cell_type": "code",
   "execution_count": 5,
   "metadata": {},
   "outputs": [],
   "source": [
    "import requests \n",
    "from bs4 import BeautifulSoup \n",
    "r = requests.get('https://initiumlab.com/blog/20170329-trump-and-ivanka/')\n",
    "html_str = r.text"
   ]
  },
  {
   "cell_type": "markdown",
   "metadata": {},
   "source": [
    "r = requests.get('https://initiumlab.com/blog/20170329-trump-and-ivanka/')\n",
    "    #print(r) 将会得到 <Response [200]> 表示请求成功\n",
    "html_str = r.text\n",
    "    #获取请求的内容\n",
    "    \n",
    "    ·存储网站作为“r”，“get()”表示尝试去得到网页的回应，传递url字符串到“()”里面。\n",
    "    ·“text”表示展示 网页的文本"
   ]
  },
  {
   "cell_type": "code",
   "execution_count": 2,
   "metadata": {},
   "outputs": [
    {
     "data": {
      "text/plain": [
       "'<!doctype html>\\n<html>\\n  <head>\\n    \\n\\n<meta charset=\"UTF-8\"/>\\n<meta http-equiv=\"X-UA-Compatible\" content=\"IE=edge,chrome=1\" />\\n<meta name=\"viewport\" content=\"width=device-width, initial-scale=1, maximum-scale=1\"/>\\n<meta http-equiv=\"Cache-Control\" content=\"no-transform\" />\\n<meta http-equiv=\"Cache-Control\" content=\"no-siteapp\" />\\n\\n\\n\\n\\n\\n  <meta name=\"keywords\" content=\"data journalism,data analysis,data visualization,design,new media,technology,hackathon,Twitter,Trump,Ivanka,\" />\\n\\n\\n\\n\\n  <link rel=\"alternate\" href=\"../../feed.xml\" title=\"Initium Lab | Exploratory Arm of Initium Media\" type=\"application/atom+xml\" />\\n\\n\\n<link rel=\"shortcut icon\" type=\"image/x-icon\" href=\"../../images/favicon.ico?v=2.1.0\" />\\n<link rel=\"icon\" type=\"image/png\" href=\"../../images/favicon.png?v=2.1.0\" />\\n\\n<meta name=\"description\" content=\"美國新晉總統唐納德·特朗普（Donald Trump）以其極端言論在一眾政客裡獨領風騷。端Lab曾於2016年撰文分析特朗普與其競選對手希拉里·柯林頓（Hillary Clinton）面對媒體採訪時不同的言論風格，發現特朗普發言多用簡單句型，且善於用第二人稱敘事獲取觀眾共鳴。除去媒體採訪，推特發言亦是特朗普競選的宣傳的另一愨道。因此本文選取唐納德·特朗普（下簡稱特朗普）及其女兒伊萬卡·特朗普（下簡\">\\n<meta property=\"og:type\" content=\"article\">\\n<meta property=\"og:title\" content=\"特朗普父女推特解密\">\\n<meta property=\"og:url\" content=\"http://initiumlab.com/blog/20170329-trump-and-ivanka/index.html\">\\n<meta property=\"og:site_name\" content=\"Initium Lab | Exploratory Arm of Initium Media\">\\n<meta property=\"og:description\" content=\"美國新晉總統唐納德·特朗普（Donald Trump）以其極端言論在一眾政客裡獨領風騷。端Lab曾於2016年撰文分析特朗普與其競選對手希拉里·柯林頓（Hillary Clinton）面對媒體採訪時不同的言論風格，發現特朗普發言多用簡單句型，且善於用第二人稱敘事獲取觀眾共鳴。除去媒體採訪，推特發言亦是特朗普競選的宣傳的另一愨道。因此本文選取唐納德·特朗普（下簡稱特朗普）及其女兒伊萬卡·特朗普（下簡\">\\n<meta property=\"og:image\" content=\"http://initiumlab.com/blog/20170329-trump-and-ivanka/ivanka-tweets-by-time-and-device.svg\">\\n<meta property=\"og:updated_time\" content=\"2018-04-23T14:43:46.608Z\">\\n<meta name=\"twitter:card\" content=\"summary\">\\n<meta name=\"twitter:title\" content=\"特朗普父女推特解密\">\\n<meta name=\"twitter:description\" content=\"美國新晉總統唐納德·特朗普（Donald Trump）以其極端言論在一眾政客裡獨領風騷。端Lab曾於2016年撰文分析特朗普與其競選對手希拉里·柯林頓（Hillary Clinton）面對媒體採訪時不同的言論風格，發現特朗普發言多用簡單句型，且善於用第二人稱敘事獲取觀眾共鳴。除去媒體採訪，推特發言亦是特朗普競選的宣傳的另一愨道。因此本文選取唐納德·特朗普（下簡稱特朗普）及其女兒伊萬卡·特朗普（下簡\">\\n<meta name=\"twitter:image\" content=\"http://initiumlab.com/blog/20170329-trump-and-ivanka/ivanka-tweets-by-time-and-device.svg\">\\n<meta name=\"twitter:creator\" content=\"@initiumnews\">\\n\\n<link rel=\"stylesheet\" href=\"../../css/main.css?v=2.1.0\" type=\"text/css\">\\n\\n\\n\\n<script src=\"//cdnjs.cloudflare.com/ajax/libs/jquery/3.1.0/jquery.min.js\"></script>\\n<script src=\"../../vendors/libs.js?v=2.1.0\" type=\"text/javascript\"></script>\\n\\n<!-- Begin comScore Tag -->\\n<script>\\n  var _comscore = _comscore || [];\\n  _comscore.push({ c1: \"2\", c2: \"20515846\" });\\n  (function() { var s = document.createElement(\"script\"), el = document.getElementsByTagName(\"script\")[0];\\n    s.async = true;\\n    s.src = (document.location.protocol == \"https:\" ? \"https://sb\" : \"http://b\") + \".scorecardresearch.com/beacon.js\";\\n    el.parentNode.insertBefore(s, el); }\\n  )();\\n</script>\\n<noscript>\\n  <img src=\"http://b.scorecardresearch.com/p?c1=2&c2=20515846&cv=2.0&cj=1\" />\\n</noscript>\\n<!-- End comScore Tag -->\\n    <title> 特朗普父女推特解密 | Initium Lab | Exploratory Arm of Initium Media </title>\\n  </head>\\n\\n  <body itemscope itemtype=\"http://schema.org/WebPage\" lang=\"en\">\\n    <!--[if lte IE 9]>\\n  <div style=\\' clear: both; height: 59px; padding:0 0 0 15px; position: relative;margin:0 auto;\\'>\\n    <a href=\"http://windows.microsoft.com/en-US/internet-explorer/products/ie/home?ocid=ie6_countdown_bannercode\">\\n      <img src=\"http://7u2nvr.com1.z0.glb.clouddn.com/picouterie.jpg\" border=\"0\" height=\"42\" width=\"820\"\\n           alt=\"You are using an outdated browser. For a faster, safer browsing experience, upgrade for free today or use other browser ,like chrome firefox safari.\"\\n           style=\\'margin-left:auto;margin-right:auto;display: block;\\'/>\\n    </a>\\n  </div>\\n<![endif]-->\\n\\n    <aside class=\"sidebar animate\" itemscope itemtype=\"http://schema.org/WPSideBar\">\\n  \\n  <a href=\"../../\" class=\"sidebar__logo\">\\n    \\n    <img src=\"../../images/logo.svg\" alt=\"initiumlab logo\">\\n  </a>\\n  <div class=\"sidebar__content\">\\n    \\n    <nav class=\"sidebar__nav\">\\n      <ul>\\n        \\n          <li class=\"sidebar__nav--home\">\\n            <a href=\"../../\" >\\n              <span>首頁</span>\\n            </a>\\n          </li>\\n        \\n          <li class=\"sidebar__nav--blog\">\\n            <a href=\"../../blog\" class=\"active\">\\n              <span>文章</span>\\n            </a>\\n          </li>\\n        \\n          <li class=\"sidebar__nav--project\">\\n            <a href=\"../../projects\" >\\n              <span>專題</span>\\n            </a>\\n          </li>\\n        \\n          <li class=\"sidebar__nav--event\">\\n            <a href=\"../../events\" >\\n              <span>活動</span>\\n            </a>\\n          </li>\\n        \\n          <li class=\"sidebar__nav--career\">\\n            <a href=\"../../career\" >\\n              <span>職位</span>\\n            </a>\\n          </li>\\n        \\n          <li class=\"sidebar__nav--about\">\\n            <a href=\"../../about\" >\\n              <span>團隊</span>\\n            </a>\\n          </li>\\n        \\n      </ul>\\n    </nav>\\n    \\n    <section class=\"sidebar__social\">\\n      \\n        <a href=\"//www.facebook.com/initiumlab\" target=\"_blank\" data-social=\"facebook\">\\n          \\n\\n<svg class=\"icon icon--facebook\" viewBox=\"0 0 53 100\" xmlns=\"http://www.w3.org/2000/svg\">\\n  <use xlink:href=\"../../images/icons/svg-sprite.svg#facebook\"></use>\\n</svg>\\n        </a>\\n      \\n        <a href=\"//youtube.com/channel/UC6A8BFtKG3sRcExuOomA_tA\" target=\"_blank\" data-social=\"youtube\">\\n          \\n\\n<svg class=\"icon icon--youtube\" viewBox=\"0 0 141 100\" xmlns=\"http://www.w3.org/2000/svg\">\\n  <use xlink:href=\"../../images/icons/svg-sprite.svg#youtube\"></use>\\n</svg>\\n        </a>\\n      \\n        <a href=\"//www.linkedin.com/groups/7048631\" target=\"_blank\" data-social=\"linkedin\">\\n          \\n\\n<svg class=\"icon icon--linkedin\" viewBox=\"0 0 105 100\" xmlns=\"http://www.w3.org/2000/svg\">\\n  <use xlink:href=\"../../images/icons/svg-sprite.svg#linkedin\"></use>\\n</svg>\\n        </a>\\n      \\n      <a href=\"../../feed.xml\" target=\"_blank\" data-social=\"rss\">\\n        \\n\\n<svg class=\"icon icon--rss\" viewBox=\"0 0 100 100\" xmlns=\"http://www.w3.org/2000/svg\">\\n  <use xlink:href=\"../../images/icons/svg-sprite.svg#rss\"></use>\\n</svg>\\n      </a>\\n    </section>\\n    \\n    \\n      <section class=\"subscribe\">\\n  <button class=\"subscribe__btn subscribe__btn--popup\" type=\"button\">\\n    <span>訂閱</span>\\n  </button>\\n  <div class=\"subscribe__content\">\\n    <form class=\"subscribe__form\">\\n        <input type=\"email\" name=\"EMAIL\" placeholder=\"* 郵箱\" required>\\n        <input type=\"text\" name=\"FNAME\" placeholder=\"名字\">\\n        <input type=\"text\" name=\"LNAME\" placeholder=\"姓氏\">\\n        <button class=\"subscribe__btn subscribe__btn--submit animate\" type=\"submit\" disabled>提交</button>\\n        <div class=\"subscribe__msg\">\\n          <div class=\"subscribe__msg__content\">\\n            <section>\\n              \\n\\n<svg class=\"icon icon--spin\" viewBox=\"0 0 100 100\" xmlns=\"http://www.w3.org/2000/svg\">\\n  <use xlink:href=\"../../images/icons/svg-sprite.svg#spin\"></use>\\n</svg>\\n              \\n\\n<svg class=\"icon icon--success\" viewBox=\"0 0 124 101\" xmlns=\"http://www.w3.org/2000/svg\">\\n  <use xlink:href=\"../../images/icons/svg-sprite.svg#success\"></use>\\n</svg>\\n              \\n\\n<svg class=\"icon icon--error\" viewBox=\"0 0 100 100\" xmlns=\"http://www.w3.org/2000/svg\">\\n  <use xlink:href=\"../../images/icons/svg-sprite.svg#error\"></use>\\n</svg>\\n            </section>\\n            <section><p data-msg=\"\"></p></section>\\n          </div>\\n        </div>\\n    </form>\\n  </div>\\n  <script>\\n    ;(function() {\\n      var $popupBtn = $(\\'.subscribe__btn--popup\\');\\n      var $content = $(\\'.subscribe__content\\');\\n      var $form = $(\\'.subscribe__form\\');\\n      var $submitBtn = $(\\'.subscribe__btn--submit\\');\\n      var $msgBox = $(\\'.subscribe__msg\\');\\n      var $msg = $msgBox.find(\\'[data-msg]\\');\\n      var $icons = $msgBox.find(\\'.icon\\');\\n\\n      // Toggle Form\\n      $popupBtn.click(function() {\\n        $content.fadeIn();\\n\\n        $(window).click(function() {\\n          $content.fadeOut();\\n          $msgBox.fadeOut();\\n          $(window).off(\\'click\\');\\n        });\\n\\n        ga(\\'send\\', \\'event\\', \\'subscribe-button\\', \\'click\\');\\n      });\\n      $(\\'.subscribe__form, .subscribe__btn--popup\\').click(function(e) {\\n        e.stopPropagation();\\n      });\\n\\n      // Handle Form change\\n      $form\\n      .on(\\'input\\', function() {\\n        $submitBtn[0].disabled = !$form[0].checkValidity();\\n      })\\n      .on(\\'submit\\', function(e) {\\n        e.preventDefault();\\n\\n        // Init data\\n        var request_data = {};\\n        $.each($form.serializeArray(), function(index, item) {\\n          request_data[item.name] = item.value;\\n        });\\n\\n        // Post data\\n        $msg.attr(\\'data-msg\\', \\'\\');\\n        $icons.hide().filter(\\'.icon--spin\\').show();\\n        $msgBox.fadeIn();\\n\\n        $.ajax({\\n          url: \\'//initiumlab.us11.list-manage.com/subscribe/post-json?u=0af72d56ccd0f8ef2d17e12a2&id=64252e9209&c=?\\',\\n          data: request_data,\\n          dataType: \\'jsonp\\'\\n        })\\n        .done(function(data) {\\n          $icons.hide().filter(\\'.icon--success\\').show();\\n        })\\n        .always(function(data) {\\n          var msg = data.msg;\\n\\n          if (msg.match(/finished/i)) return;\\n\\n          $icons.hide().filter(\\'.icon--error\\').show();\\n          $msg.attr(\\'data-msg\\', msg);\\n        });\\n      });\\n    })()\\n  </script>\\n</section>\\n    \\n  </div>\\n</aside>\\n<script>\\n  ;(function() {\\n    var $w = $(window);\\n    var $sidebar = $(\\'.sidebar\\');\\n    var $sidebarContent = $(\\'.sidebar__content\\');\\n    var yPositionToHide = $w.height();\\n\\n    if ($w.width() < 990) return;\\n\\n    $w\\n    .on(\\'scroll\\', function() {\\n      if ($w.scrollTop() > yPositionToHide) {\\n        toggleSidebar(\\'hide\\');\\n      } else {\\n        toggleSidebar(\\'show\\');\\n      }\\n    })\\n    .on(\\'resize\\', function() {\\n      yPositionToHide = $w.height();\\n    });\\n\\n    $sidebar.on(\\'mouseover\\', function() {\\n      if ($sidebarContent.css(\\'display\\') === \\'none\\') {\\n        toggleSidebar(\\'show\\');\\n\\n        $sidebar.on(\\'mouseleave\\', function() {\\n          toggleSidebar(\\'hide\\');\\n          $sidebar.off(\\'mouseleave\\');\\n        });\\n      }\\n    });\\n\\n    // GA\\n    $(\\'[data-social]\\').each(function() {\\n      $(this).click(function() {\\n        ga(\\'send\\', \\'event\\', \\'social_button\\', \\'click\\', this.getAttribute(\\'data-social\\'));\\n      });\\n    });\\n\\n    function toggleSidebar(type) {\\n      var isShow = type === \\'show\\';\\n\\n      $sidebar[isShow ? \\'removeClass\\' : \\'addClass\\'](\\'sidebar--fixed\\');\\n      $sidebarContent[isShow ? \\'fadeIn\\' : \\'fadeOut\\']();\\n    }\\n  })()\\n</script>\\n    <header class=\"mobile-header\">\\n  <button type=\"button\" class=\"mobile-header__logo animate\">\\n    <img src=\"../../images/logo.svg\" alt=\"initiumlab logo\">\\n  </button>\\n</header>\\n<script>\\n  ;(function() {\\n    var $mobileHeader = $(\\'.mobile-header\\');\\n    var $mobileLogo = $(\\'.mobile-header__logo\\');\\n    var $mobileNav = $(\\'.sidebar\\');\\n\\n    $mobileLogo.click(function() {\\n      $(\\'body\\').toggleClass(\\'fixed\\');\\n      $mobileHeader.toggleClass(\\'mobile-header--nav-open\\');\\n      $mobileNav.toggleClass(\\'sidebar--nav-open\\');\\n    });\\n  })()\\n</script>\\n\\n    <main class=\"main \">\\n      <div class=\"main__container\">\\n        \\n  \\n  <article class=\"post post--normal \" itemscope itemtype=\"http://schema.org/Article\">\\n    <header>\\n      \\n      \\n      \\n        <h1 class=\"post__title\" itemprop=\"name headline\">\\n          \\n            \\n              特朗普父女推特解密\\n            \\n          \\n        </h1>\\n      \\n\\n      \\n      \\n\\n      \\n      <div class=\"post__meta\">\\n        <table>\\n          <tbody>\\n            <tr class=\"post__time\">\\n              <td>\\n\\n<svg class=\"icon icon--clock\" viewBox=\"0 0 100 100\" xmlns=\"http://www.w3.org/2000/svg\">\\n  <use xlink:href=\"../../images/icons/svg-sprite.svg#clock\"></use>\\n</svg></td>\\n              <td>\\n                <time itemprop=\"dateCreated\" datetime=\"2017-03-29T18:00:00+08:00\" content=\"2017-03-29\">\\n                  2017-03-29\\n                </time>\\n              </td>\\n            </tr>\\n\\n            <tr class=\"post__authors\">\\n              <td>\\n\\n<svg class=\"icon icon--pen\" viewBox=\"0 0 35 100\" xmlns=\"http://www.w3.org/2000/svg\">\\n  <use xlink:href=\"../../images/icons/svg-sprite.svg#pen\"></use>\\n</svg></td>\\n              <td>\\n                \\n                  <span>Li Yiming</span>\\n                \\n                  <span>Li Yuqiong</span>\\n                \\n              </td>\\n            </tr>\\n\\n            \\n              <tr class=\\'post__tags\\'>\\n                <td>\\n\\n<svg class=\"icon icon--tag\" viewBox=\"0 0 69 100\" xmlns=\"http://www.w3.org/2000/svg\">\\n  <use xlink:href=\"../../images/icons/svg-sprite.svg#tag\"></use>\\n</svg></td>\\n                <td>\\n                \\n                  <span class=\"tag\">\\n                    <a href=\"../../tags/Twitter/\">\\n                      Twitter\\n                      </a>\\n                  </span>\\n                \\n                  <span class=\"tag\">\\n                    <a href=\"../../tags/Trump/\">\\n                      Trump\\n                      </a>\\n                  </span>\\n                \\n                  <span class=\"tag\">\\n                    <a href=\"../../tags/Ivanka/\">\\n                      Ivanka\\n                      </a>\\n                  </span>\\n                \\n                </td>\\n              </tr>\\n            \\n          </tbody>\\n        </table>\\n      </div>\\n    </header>\\n\\n    \\n    <div class=\"post__body\" itemprop=\"articleBody\">\\n      <p>美國新晉總統唐納德·特朗普（Donald Trump）以其極端言論在一眾政客裡獨領風騷。<a href=\"http://initiumlab.com/\">端Lab</a>曾於2016年<a href=\"http://initiumlab.com/blog/20160704-trump-hillary-language/\">撰文分析</a>特朗普與其競選對手希拉里·柯林頓（Hillary Clinton）面對媒體採訪時不同的言論風格，發現特朗普發言多用簡單句型，且善於用第二人稱敘事獲取觀眾共鳴。</p>\\n<p>除去媒體採訪，推特發言亦是特朗普競選的宣傳的另一愨道。因此本文選取唐納德·特朗普（下簡稱特朗普）及其女兒伊萬卡·特朗普（下簡稱伊萬卡）的推特數據作為樣本，利用文本信息挖掘方法（text mining methods），來分析他們在社交網絡上展示的話語特點。</p>\\n<h2 id=\"話癆特朗普\"><a href=\"#話癆特朗普\" class=\"headerlink\" title=\"話癆特朗普\"></a>話癆特朗普</h2><p>從發推文總數量來看，特朗普遠勝其女伊萬卡。2009到2016年，特朗普發布推文總數量三萬餘條，平均每天十條。而其女伊萬卡發文總量為一萬一千餘條，平均每天三條。二人皆疑似推特深度用戶。</p>\\n<p>下圖顯示，特朗普推文数量從2011年起開始狂飆突進，並於2013年和2015年分別達到峰值。而伊萬卡的發文風格則更加穩健，只是在2016年時有所增加，可能是為特朗普競選造勢之故？</p>\\n<p><img src=\"trump-ivanka-number-of-tweets-by-time.svg\" alt=\"\"></p>\\n<h2 id=\"特朗普家族最喜愛的推特發佈平台\"><a href=\"#特朗普家族最喜愛的推特發佈平台\" class=\"headerlink\" title=\"特朗普家族最喜愛的推特發佈平台\"></a>特朗普家族最喜愛的推特發佈平台</h2><p>特朗普與伊萬卡身為上流社會人士，當然不能滿足於用單一平台發布推文。</p>\\n<p>下表展示了特朗普父女較常使用的推特客戶端。他們在這些客戶端上發布的推文條數大於100。可以看出特朗普鍾愛安卓和網頁客戶端，而伊萬卡口味更加多元，除去推特網頁客戶端之外，更勇於嘗試 Buffer， Instagram， Sprout，BlackBerry，UberSocial 等各種較新的平台。她似乎並不鍾愛安卓手機。</p>\\n<p>加入發文時間後，我們的分析發現，特朗普最初多使用网页推特发布消息，於2013年左右開始使用安卓手機系統客戶端發推特。2016左右，設備鳥槍換炮，用起了高大上的蘋果iOS系統客戶端。相比之下，伊萬卡發文的平台有較強階段性。2010年左右她與其父一樣是推特網頁版的忠實用戶，2011到2012年間還使用了其他設備和平台，如 Uber， BlackBerry等。2012年後她似乎開始喜愛上Instagram和iPhone平台。有意思的是，2015年她突然開始頻繁使用Buffer這款軟件，2016年則移情Sprout。這兩款均為社交網站管理平台，可以同時連結並管理Facebook、Twitter、Instagram等帳戶。從圖上來看，使用Buffer的時間段和Sprout的時間段並無交接，因此伊萬卡女士似乎更鍾意Sprout的用戶體驗。</p>\\n<p><img src=\"ivanka-tweets-by-time-and-device.svg\" alt=\"\"></p>\\n<h2 id=\"詞彙偏好\"><a href=\"#詞彙偏好\" class=\"headerlink\" title=\"詞彙偏好\"></a>詞彙偏好</h2><p>下圖列出不同詞彙在特朗普和伊萬卡的推特中分別出現的比例。可以發現，兩人共同姓氏「trump」，以及一些常用詞「tonight」，「world」，「win」， 「forward」在雙方微博中出現的比例均較高。</p>\\n<p>同時，和上文發現類似的是，伊萬卡常用詞更偏向時尚、商業和生活，例如「advice」，「shops」，「chic」，「founder」，「intern」 等等。而特朗普有更多和政治、政策以及競選相關的詞彙，如「senator」，「endorsement」，「broken」，「complete」等。最能體現這一區別的一個例子是，伊萬卡大量使用了「tips」這一詞彙，儼然一位人生導師。而特朗普則大量使用了「Obama」，和他總統競選人的身份相符。</p>\\n<p><img src=\"top-distinctive-words.svg\" alt=\"\"></p>\\n<h2 id=\"父女口癖變遷史\"><a href=\"#父女口癖變遷史\" class=\"headerlink\" title=\"父女口癖變遷史\"></a>父女口癖變遷史</h2><p>下圖列出09年到16年之間，Trump 的 tweets 中常用詞彙的變化。09年到12年間，「Apprentice」頻繁出現在 Trump 的 tweets 中。這緣於一部真人職場秀<a href=\"https://en.wikipedia.org/wiki/The_Apprentice_%28U.S._TV_series%29\" target=\"_blank\" rel=\"external\">The Apprentice</a>，求職者在節目中分成兩組比賽，並在每一集中從輸的隊伍中淘汰一名貢獻最小的成員。節目最後的優勝者，有機會去經營Trump旗下的一個公司。在這個節目中，Trump做了14季的Host；決定參選總統後，他辭去了這個職位。當Trump獲勝的時候，人們驚呼其在 Twitter 上強大的影響力。可是回過去看，Trump 在利用媒體方面的技能，確實勝過世界上的很多領導者 – 從「TV Show 億萬富豪」到「Twitter 治國總統」，似乎並不意外。</p>\\n<p><img src=\"top-8-trending-words-trump.svg\" alt=\"\"></p>\\n<p>上文提到，「Tips」是 Ivanka 的口頭禪之一。細看其中內容，除了大量轉推的經驗分享，大多還添加了特定的 Twitter 標籤，（hashtag）比如「#interntips」、「#healthtips」等等。而另一方面，「trump」的提及卻越來越少，在總統競選期間降到最低；同一時期「Tips」出現最爲頻繁。09年到14年間，Ivanka 的 tweets 中大量出現「trump」，大多與 Trump 家族的產業有關，比如 「@trumpgolf」、「#trumptower」、「@trumpwinery」、「#trumphotels」、…… 這些 Twitter 帳號和 hashtag 之間，大量互動和互聯，都吸引了不少粉絲。看罷數據，不得不感嘆， Ivanka 在運營 Twitter 方面的技能，與專業團隊無異。如果說15年前 Ivanka 的運作手法是「硬廣」，那麼從15年中旬開始，放棄「trump」、轉推「tips」、搖身一變人生導師，則更是技高一籌。</p>\\n<p><img src=\"top-3-trending-words-trump.svg\" alt=\"\"></p>\\n<h2 id=\"最易引發「轉發」和「喜歡」的詞彙\"><a href=\"#最易引發「轉發」和「喜歡」的詞彙\" class=\"headerlink\" title=\"最易引發「轉發」和「喜歡」的詞彙\"></a>最易引發「轉發」和「喜歡」的詞彙</h2><p>「轉發」和「喜歡」均為發布者和關注者的某種互動形式。因此，通過分析獲得更多「轉發」和「喜歡」的推特詞彙特點，既可以分析出發布者的心態，也可以分析出關注群體對特定內容的偏好。紐約時報2011年一項針對社交媒體的調查發現，用戶在社交媒體上分享信息主要有五種情況：分享娛樂性消息、自我包裝和認同、增強社交關係、進行對話，以及推廣新聞、產品信息等【注2】。</p>\\n<p>下圖展示了在特朗普和伊萬卡的推特數據裡，哪些詞彙容易引發更多轉發。特朗普的推特詞彙中，獲取轉發數最高的為「hamilton」，「praying」和「wikileaks」。而伊萬卡的則為「policy」，「family」，「theodore」。這些詞彙個人性較弱，更類似對特定消息的推廣，符合二人公眾人物的身分。</p>\\n<p>「Hamilton」的高出鏡率可能因為如下這條推特 -</p>\\n<blockquote>\\n<p>Donald J. Trump  ✔@realDonaldTrump<br>The Theater must always be a safe and special place.The cast of Hamilton was very rude last &gt; night to a very good man, Mike Pence. Apologize!<br>9:56 PM - 19 Nov 2016<br>43,592 43,592 Retweets   149,734 149,734 likes</p>\\n</blockquote>\\n<p>在這條發布與2016年11月19日，獲得四萬三千多條轉發的推文中，特朗普指責音樂劇 「Hamilton」的劇組對副總統 Mike Pence 進行騷擾。Mike Pence 之前觀賞了該音樂劇。表演結束後，劇組成員當眾向他表達了對新當選政府的不信任，和對未來的期待。這一舉動似乎激怒了特朗普，他在推特上發文要求劇組向副總統道歉。</p>\\n<p>詞彙「praying」的信息量較少。「wikileaks」可能與特朗普競選時多次強調該網站揭露的希拉里郵件醜聞有關。可以想像，含有類似內容的推特因為具有新聞性，較易引發交流，從而引起轉發和討論。</p>\\n<p>關於伊萬卡的推特分析，「theodore」是她新出生兒子的名字，這也和「family」獲得較高轉發量相吻合。另一方面，這可能反映出美國文化對家庭價值的重視。與上文類似，包含詞彙「policy」的推特，可能因為其新聞性和內容性而獲得較高轉發。</p>\\n<p><img src=\"top-10-words-for-retweet.svg\" alt=\"\"></p>\\n<h2 id=\"最易引發「喜歡」的詞彙\"><a href=\"#最易引發「喜歡」的詞彙\" class=\"headerlink\" title=\"最易引發「喜歡」的詞彙\"></a>最易引發「喜歡」的詞彙</h2><p>關於社交媒體上用戶「喜歡」某條推特，或者「點贊」的行為，來自社交媒體管理網站Buffer（伊萬卡之前最愛）分析認為，點贊的行為動機可分為四種：類似線下交流時點頭等打招呼的行為，對自己認同的某些價值再度肯定，表達同情，以及獲取現實回報（如餐廳打折等）。分析特朗普和伊萬卡獲取「點贊」數最多的推特詞彙可以發現，兩人的前三名大致與獲取轉發數較高的推特相同。唯一區別在於特朗普發布的「electoral」詞彙亦獲得較多喜歡。這可能是支持者表達鼓勵的行為反映。</p>\\n<p><img src=\"top-10-words-for-favourite.svg\" alt=\"\"></p>\\n<hr>\\n<p>註釋：</p>\\n<ul>\\n<li>本文所用原始數據及代碼見GitHub： <a href=\"https://github.com/kestrel614/HKODD17-Trump\" target=\"_blank\" rel=\"external\">https://github.com/kestrel614/HKODD17-Trump</a></li>\\n<li>本文使用主要文本分析工具是R，部分分析方法參考網站 <a href=\"http://tidytextmining.com/\" target=\"_blank\" rel=\"external\">http://tidytextmining.com/</a> 。</li>\\n<li>注【2】：<a href=\"http://text-ex-machina.co.uk/blog/new-york-times-study.html\" target=\"_blank\" rel=\"external\">http://text-ex-machina.co.uk/blog/new-york-times-study.html</a></li>\\n<li>注【3】：<a href=\"https://blog.bufferapp.com/psychology-of-facebook\" target=\"_blank\" rel=\"external\">https://blog.bufferapp.com/psychology-of-facebook</a></li>\\n</ul>\\n\\n    </div>\\n    \\n  </article>\\n\\n  <div class=\"share\">\\n  <div class=\"share__icons\">\\n    \\n\\n<svg class=\"icon icon--share\" viewBox=\"0 0 93 101\" xmlns=\"http://www.w3.org/2000/svg\">\\n  <use xlink:href=\"../../images/icons/svg-sprite.svg#share\"></use>\\n</svg>\\n    \\n      <button data-share=\"facebook\" type=\"button\">\\n        \\n\\n<svg class=\"icon icon--facebook\" viewBox=\"0 0 53 100\" xmlns=\"http://www.w3.org/2000/svg\">\\n  <use xlink:href=\"../../images/icons/svg-sprite.svg#facebook\"></use>\\n</svg>\\n        \\n      </button>\\n    \\n      <button data-share=\"twitter\" type=\"button\">\\n        \\n\\n<svg class=\"icon icon--twitter\" viewBox=\"0 0 127 100\" xmlns=\"http://www.w3.org/2000/svg\">\\n  <use xlink:href=\"../../images/icons/svg-sprite.svg#twitter\"></use>\\n</svg>\\n        \\n      </button>\\n    \\n      <button data-share=\"wechat\" type=\"button\">\\n        \\n\\n<svg class=\"icon icon--wechat\" viewBox=\"0 0 127 100\" xmlns=\"http://www.w3.org/2000/svg\">\\n  <use xlink:href=\"../../images/icons/svg-sprite.svg#wechat\"></use>\\n</svg>\\n        \\n          <span class=\"wechat_share_qrcode\"></span>\\n        \\n      </button>\\n    \\n      <button data-share=\"weibo\" type=\"button\">\\n        \\n\\n<svg class=\"icon icon--weibo\" viewBox=\"0 0 123 99\" xmlns=\"http://www.w3.org/2000/svg\">\\n  <use xlink:href=\"../../images/icons/svg-sprite.svg#weibo\"></use>\\n</svg>\\n        \\n      </button>\\n    \\n  </div>\\n\\n  \\n  <div id=\"fb-root\"></div>\\n  <script>(function(d, s, id) {\\n    var js, fjs = d.getElementsByTagName(s)[0];\\n    if (d.getElementById(id)) return;\\n    js = d.createElement(s); js.id = id;\\n    js.src = \"//connect.facebook.net/zh_HK/sdk.js#xfbml=1&version=v2.7\";\\n    fjs.parentNode.insertBefore(js, fjs);\\n  }(document, \\'script\\', \\'facebook-jssdk\\'));</script>\\n  <style>\\n    .fb-like {\\n      position: absolute;\\n      right: 0;\\n      bottom: 0;\\n    }\\n  </style>\\n  <div class=\"fb-like\" data-colorscheme=\"dark\" data-href=\"http://initiumlab.com/blog/20170329-trump-and-ivanka/\" data-layout=\"box_count\" data-action=\"like\" data-size=\"large\" data-show-faces=\"false\" data-share=\"false\"></div>\\n</div>\\n  <div class=\"cc\" style=\"font-size: 12px; color: #838383;\">\\n  <a rel=\"license\" href=\"http://creativecommons.org/licenses/by/4.0/\"><img alt=\"知识共享许可协议\" style=\"border-width:0; margin: 0;\" src=\"https://i.creativecommons.org/l/by/4.0/80x15.png\" /></a><br />本作品采用<a rel=\"license\" href=\"http://creativecommons.org/licenses/by/4.0/\">知识共享署名 4.0 国际许可协议</a>进行许可。\\n</div>\\n  <div class=\"sticky-tools\">\\n  \\n  <section class=\"sticky-tools__toc\">\\n    <button type=\"button\">\\n      \\n\\n<svg class=\"icon icon--list\" viewBox=\"0 0 100 100\" xmlns=\"http://www.w3.org/2000/svg\">\\n  <use xlink:href=\"../../images/icons/svg-sprite.svg#list\"></use>\\n</svg>\\n    </button>\\n    <div class=\"toc-wrapper\">\\n      <h3>目錄</h3>\\n      <ol class=\"toc\"><li class=\"toc-item toc-level-2\"><a class=\"toc-link\" href=\"#話癆特朗普\"><span class=\"toc-number\">1.</span> <span class=\"toc-text\">話癆特朗普</span></a></li><li class=\"toc-item toc-level-2\"><a class=\"toc-link\" href=\"#特朗普家族最喜愛的推特發佈平台\"><span class=\"toc-number\">2.</span> <span class=\"toc-text\">特朗普家族最喜愛的推特發佈平台</span></a></li><li class=\"toc-item toc-level-2\"><a class=\"toc-link\" href=\"#詞彙偏好\"><span class=\"toc-number\">3.</span> <span class=\"toc-text\">詞彙偏好</span></a></li><li class=\"toc-item toc-level-2\"><a class=\"toc-link\" href=\"#父女口癖變遷史\"><span class=\"toc-number\">4.</span> <span class=\"toc-text\">父女口癖變遷史</span></a></li><li class=\"toc-item toc-level-2\"><a class=\"toc-link\" href=\"#最易引發「轉發」和「喜歡」的詞彙\"><span class=\"toc-number\">5.</span> <span class=\"toc-text\">最易引發「轉發」和「喜歡」的詞彙</span></a></li><li class=\"toc-item toc-level-2\"><a class=\"toc-link\" href=\"#最易引發「喜歡」的詞彙\"><span class=\"toc-number\">6.</span> <span class=\"toc-text\">最易引發「喜歡」的詞彙</span></a></li></ol>\\n    </div>\\n  </section>\\n  \\n  <section class=\"sticky-tools__share\">\\n    <button type=\"button\">\\n      \\n\\n<svg class=\"icon icon--share\" viewBox=\"0 0 93 101\" xmlns=\"http://www.w3.org/2000/svg\">\\n  <use xlink:href=\"../../images/icons/svg-sprite.svg#share\"></use>\\n</svg>\\n    </button>\\n    <div class=\"sticky-tools__share__icons\">\\n      \\n        <button data-share=\"facebook\" type=\"button\">\\n          \\n\\n<svg class=\"icon icon--facebook\" viewBox=\"0 0 53 100\" xmlns=\"http://www.w3.org/2000/svg\">\\n  <use xlink:href=\"../../images/icons/svg-sprite.svg#facebook\"></use>\\n</svg>\\n          \\n        </button>\\n      \\n        <button data-share=\"twitter\" type=\"button\">\\n          \\n\\n<svg class=\"icon icon--twitter\" viewBox=\"0 0 127 100\" xmlns=\"http://www.w3.org/2000/svg\">\\n  <use xlink:href=\"../../images/icons/svg-sprite.svg#twitter\"></use>\\n</svg>\\n          \\n        </button>\\n      \\n        <button data-share=\"wechat\" type=\"button\">\\n          \\n\\n<svg class=\"icon icon--wechat\" viewBox=\"0 0 127 100\" xmlns=\"http://www.w3.org/2000/svg\">\\n  <use xlink:href=\"../../images/icons/svg-sprite.svg#wechat\"></use>\\n</svg>\\n          \\n            <span class=\"wechat_share_qrcode\"></span>\\n          \\n        </button>\\n      \\n        <button data-share=\"weibo\" type=\"button\">\\n          \\n\\n<svg class=\"icon icon--weibo\" viewBox=\"0 0 123 99\" xmlns=\"http://www.w3.org/2000/svg\">\\n  <use xlink:href=\"../../images/icons/svg-sprite.svg#weibo\"></use>\\n</svg>\\n          \\n        </button>\\n      \\n    </div>\\n  </section>\\n  <section class=\"sticky-tools__btt\">\\n    <button type=\"button\">\\n      \\n\\n<svg class=\"icon icon--chevron-top\" viewBox=\"0 0 159 100\" xmlns=\"http://www.w3.org/2000/svg\">\\n  <use xlink:href=\"../../images/icons/svg-sprite.svg#chevron-top\"></use>\\n</svg>\\n    </button>\\n  </section>\\n</div>\\n\\n<script>\\n;(function() {\\n  var $w = $(window);\\n\\n  ;(function() {\\n    var $tools = $(\\'.sticky-tools\\');\\n    var yPositionToShow = $w.height();\\n\\n    if ($w.width() < 990) return;\\n\\n    $w\\n    .on(\\'scroll\\', function() {\\n      if ($w.scrollTop() > yPositionToShow && !$(\\'footer\\').visible(true)) {\\n        $tools.fadeIn();\\n      } else {\\n        $tools.fadeOut();\\n      }\\n    })\\n    .on(\\'resize\\', function() {\\n      yPositionToShow = $w.height();\\n    });\\n  })()\\n  /**\\n   * Share\\n   *\\n   */\\n  var $shareBtn = $(\\'.sticky-tools__share > button\\');\\n  var $shareIcons = $(\\'.sticky-tools__share__icons\\');\\n  var handleShareFadeOut = function() {\\n    $shareIcons.fadeOut();\\n    $shareBtn.removeClass(\\'active\\');\\n  };\\n  $shareBtn.click(function() {\\n    $shareIcons.fadeToggle();\\n    $shareBtn.toggleClass(\\'active\\');\\n  });\\n\\n  /**\\n   * ToC\\n   *\\n   */\\n  var $toc = $(\\'.sticky-tools__toc\\');\\n  var $tocBtn = $toc.find(\\'button\\');\\n  var $tocWrapper = $(\\'.toc-wrapper\\');\\n\\n  if (!$tocWrapper.find(\\'.toc\\')[0]) {\\n    $toc.remove();\\n    return;\\n  }\\n\\n  var handleToCFadeOut = function() {\\n    $tocWrapper.fadeOut();\\n    $tocBtn.removeClass(\\'active\\');\\n    $(\\'body\\').removeClass(\\'fixed\\');\\n    $w.off(\\'click\\');\\n  };\\n  // toggle toc\\n  $tocBtn.click(function() {\\n    if ($tocWrapper.css(\\'display\\') === \\'none\\') {\\n      $tocWrapper.fadeIn();\\n      $tocBtn.addClass(\\'active\\');\\n      $(\\'body\\').addClass(\\'fixed\\');\\n      handleShareFadeOut();\\n\\n      $w.click(function() {\\n        handleToCFadeOut();\\n      });\\n    } else {\\n      handleToCFadeOut();\\n    }\\n  });\\n  $toc.click(function(e) {\\n    e.stopPropagation();\\n  });\\n  // click toc\\'s link\\n  $(\\'.toc-link\\').click(function(e) {\\n    e.preventDefault();\\n\\n    var hash = $(this).attr(\\'href\\');\\n    var target = $(\\'.headerlink[href=\"\\' + hash + \\'\"]\\')[0];\\n\\n    Jump(target, {\\n      offset: $(\\'.mobile-header\\').height() * -1\\n    });\\n    window.location.hash = hash;\\n    handleToCFadeOut();\\n  });\\n\\n  /**\\n   * Back to Top\\n   *\\n   */\\n  var backToTopBtn = $(\\'.sticky-tools__btt button\\');\\n  backToTopBtn.click(function() {\\n    backToTopBtn.addClass(\\'active\\');\\n\\n    Jump(\\'body\\', {\\n      callback: function() {\\n        backToTopBtn.removeClass(\\'active\\');\\n      }\\n    });\\n  });\\n})()\\n</script>\\n\\n\\n        \\n          <div class=\"comments\">\\n            \\n              <div id=\"disqus_thread\">\\n                <noscript>Please enable JavaScript to view the <a href=\"//disqus.com/?ref_noscript\">comments powered by Disqus.</a></noscript>\\n              </div>\\n            \\n          </div>\\n        \\n      </div>\\n    </main>\\n    <footer class=\"footer\">\\n  <section class=\"footer--sidebar\">\\n    <span>© 2016 InitiumLab.</span>\\n  </section>\\n  <section class=\"footer--main\">\\n    <table class=\"footer--main__content\">\\n      <tbody>\\n        <tr>\\n          <td>\\n\\n<svg class=\"icon icon--mail\" viewBox=\"0 0 134 100\" xmlns=\"http://www.w3.org/2000/svg\">\\n  <use xlink:href=\"../../images/icons/svg-sprite.svg#mail\"></use>\\n</svg></td>\\n          <td>\\n            <a href=\"mailto:editors@initiumlab.com\" target=\"_blank\">\\n              <span>editors@initiumlab.com</span>\\n            </a>\\n          </td>\\n\\n        </tr>\\n        <tr>\\n          <td>\\n\\n<svg class=\"icon icon--map2\" viewBox=\"0 0 100 100\" xmlns=\"http://www.w3.org/2000/svg\">\\n  <use xlink:href=\"../../images/icons/svg-sprite.svg#map2\"></use>\\n</svg></td>\\n          <td>\\n            <a href=\"//www.google.com/maps/place/22%C2%B017\\'30.3%22N+114%C2%B012\\'30.9%22E\" target=\"_blank\">\\n              <span>香港北角英皇道 663 號泓富產業千禧廣場 1907 室</span>\\n            </a>\\n          </td>\\n        </tr>\\n      </tbody>\\n    </div>\\n  </section>\\n </footer>\\n\\n\\n    \\n\\n    \\n      \\n  <script type=\"text/javascript\">\\n    var disqus_shortname = \\'initium1ab\\';\\n    var disqus_identifier = \\'blog/20170329-trump-and-ivanka/\\';\\n    var disqus_title = \\'特朗普父女推特解密\\';\\n    var disqus_url = \\'http://initiumlab.com/blog/20170329-trump-and-ivanka/\\';\\n\\n    function run_disqus_script(disqus_script){\\n      var dsq = document.createElement(\\'script\\');\\n      var head = document.getElementsByTagName(\\'head\\')[0];\\n      var body = document.getElementsByTagName(\\'body\\')[0];\\n\\n      dsq.type = \\'text/javascript\\';\\n      dsq.async = true;\\n      dsq.src = \\'//\\' + disqus_shortname + \\'.disqus.com/\\' + disqus_script;\\n\\n      (head || body).appendChild(dsq);\\n    }\\n\\n    run_disqus_script(\\'count.js\\');\\n    \\n      run_disqus_script(\\'embed.js\\');\\n    \\n  </script>\\n\\n    \\n\\n    \\n    <script src=\"//cdnjs.cloudflare.com/ajax/libs/fastclick/1.0.6/fastclick.min.js\"></script>\\n    <script>\\n      $(function() {\\n        FastClick.attach(document.body);\\n      });\\n    </script>\\n\\n    \\n    <script src=\"//cdnjs.cloudflare.com/ajax/libs/jquery.qrcode/1.0/jquery.qrcode.min.js\"></script>\\n    <script type=\"text/javascript\" src=\"../../js/share.js?v=2.1.0\"></script>\\n\\n\\n    \\n<script>\\n  (function(i,s,o,g,r,a,m){i[\\'GoogleAnalyticsObject\\']=r;i[r]=i[r]||function(){\\n            (i[r].q=i[r].q||[]).push(arguments)},i[r].l=1*new Date();a=s.createElement(o),\\n          m=s.getElementsByTagName(o)[0];a.async=1;a.src=g;m.parentNode.insertBefore(a,m)\\n  })(window,document,\\'script\\',\\'//www.google-analytics.com/analytics.js\\',\\'ga\\');\\n  ga(\\'create\\', \\'UA-66625644-1\\', \\'auto\\');\\n  ga(\\'send\\', \\'pageview\\');\\n</script>\\n\\n    \\n  </body>\\n</html>\\n'"
      ]
     },
     "execution_count": 2,
     "metadata": {},
     "output_type": "execute_result"
    }
   ],
   "source": [
    "import requests \n",
    "from bs4 import BeautifulSoup \n",
    "r = requests.get('https://initiumlab.com/blog/20170329-trump-and-ivanka/')\n",
    "html_str = r.text\n",
    "html_str"
   ]
  },
  {
   "cell_type": "markdown",
   "metadata": {},
   "source": [
    "    #输出: 这是进行句法分析步骤之前，可以 它们很混乱。"
   ]
  },
  {
   "cell_type": "code",
   "execution_count": null,
   "metadata": {},
   "outputs": [],
   "source": [
    "data = BeautifulSoup(html_str,\"html.parser\") "
   ]
  },
  {
   "cell_type": "markdown",
   "metadata": {},
   "source": [
    "#### 注意它的句法"
   ]
  },
  {
   "cell_type": "code",
   "execution_count": 6,
   "metadata": {},
   "outputs": [
    {
     "data": {
      "text/plain": [
       "<!DOCTYPE doctype html>\n",
       "\n",
       "<html>\n",
       "<head>\n",
       "<meta charset=\"utf-8\"/>\n",
       "<meta content=\"IE=edge,chrome=1\" http-equiv=\"X-UA-Compatible\"/>\n",
       "<meta content=\"width=device-width, initial-scale=1, maximum-scale=1\" name=\"viewport\"/>\n",
       "<meta content=\"no-transform\" http-equiv=\"Cache-Control\"/>\n",
       "<meta content=\"no-siteapp\" http-equiv=\"Cache-Control\"/>\n",
       "<meta content=\"data journalism,data analysis,data visualization,design,new media,technology,hackathon,Twitter,Trump,Ivanka,\" name=\"keywords\"/>\n",
       "<link href=\"../../feed.xml\" rel=\"alternate\" title=\"Initium Lab | Exploratory Arm of Initium Media\" type=\"application/atom+xml\"/>\n",
       "<link href=\"../../images/favicon.ico?v=2.1.0\" rel=\"shortcut icon\" type=\"image/x-icon\"/>\n",
       "<link href=\"../../images/favicon.png?v=2.1.0\" rel=\"icon\" type=\"image/png\"/>\n",
       "<meta content=\"美國新晉總統唐納德·特朗普（Donald Trump）以其極端言論在一眾政客裡獨領風騷。端Lab曾於2016年撰文分析特朗普與其競選對手希拉里·柯林頓（Hillary Clinton）面對媒體採訪時不同的言論風格，發現特朗普發言多用簡單句型，且善於用第二人稱敘事獲取觀眾共鳴。除去媒體採訪，推特發言亦是特朗普競選的宣傳的另一愨道。因此本文選取唐納德·特朗普（下簡稱特朗普）及其女兒伊萬卡·特朗普（下簡\" name=\"description\"/>\n",
       "<meta content=\"article\" property=\"og:type\"/>\n",
       "<meta content=\"特朗普父女推特解密\" property=\"og:title\"/>\n",
       "<meta content=\"http://initiumlab.com/blog/20170329-trump-and-ivanka/index.html\" property=\"og:url\"/>\n",
       "<meta content=\"Initium Lab | Exploratory Arm of Initium Media\" property=\"og:site_name\"/>\n",
       "<meta content=\"美國新晉總統唐納德·特朗普（Donald Trump）以其極端言論在一眾政客裡獨領風騷。端Lab曾於2016年撰文分析特朗普與其競選對手希拉里·柯林頓（Hillary Clinton）面對媒體採訪時不同的言論風格，發現特朗普發言多用簡單句型，且善於用第二人稱敘事獲取觀眾共鳴。除去媒體採訪，推特發言亦是特朗普競選的宣傳的另一愨道。因此本文選取唐納德·特朗普（下簡稱特朗普）及其女兒伊萬卡·特朗普（下簡\" property=\"og:description\"/>\n",
       "<meta content=\"http://initiumlab.com/blog/20170329-trump-and-ivanka/ivanka-tweets-by-time-and-device.svg\" property=\"og:image\"/>\n",
       "<meta content=\"2018-04-23T14:43:46.608Z\" property=\"og:updated_time\"/>\n",
       "<meta content=\"summary\" name=\"twitter:card\"/>\n",
       "<meta content=\"特朗普父女推特解密\" name=\"twitter:title\"/>\n",
       "<meta content=\"美國新晉總統唐納德·特朗普（Donald Trump）以其極端言論在一眾政客裡獨領風騷。端Lab曾於2016年撰文分析特朗普與其競選對手希拉里·柯林頓（Hillary Clinton）面對媒體採訪時不同的言論風格，發現特朗普發言多用簡單句型，且善於用第二人稱敘事獲取觀眾共鳴。除去媒體採訪，推特發言亦是特朗普競選的宣傳的另一愨道。因此本文選取唐納德·特朗普（下簡稱特朗普）及其女兒伊萬卡·特朗普（下簡\" name=\"twitter:description\"/>\n",
       "<meta content=\"http://initiumlab.com/blog/20170329-trump-and-ivanka/ivanka-tweets-by-time-and-device.svg\" name=\"twitter:image\"/>\n",
       "<meta content=\"@initiumnews\" name=\"twitter:creator\"/>\n",
       "<link href=\"../../css/main.css?v=2.1.0\" rel=\"stylesheet\" type=\"text/css\"/>\n",
       "<script src=\"//cdnjs.cloudflare.com/ajax/libs/jquery/3.1.0/jquery.min.js\"></script>\n",
       "<script src=\"../../vendors/libs.js?v=2.1.0\" type=\"text/javascript\"></script>\n",
       "<!-- Begin comScore Tag -->\n",
       "<script>\n",
       "  var _comscore = _comscore || [];\n",
       "  _comscore.push({ c1: \"2\", c2: \"20515846\" });\n",
       "  (function() { var s = document.createElement(\"script\"), el = document.getElementsByTagName(\"script\")[0];\n",
       "    s.async = true;\n",
       "    s.src = (document.location.protocol == \"https:\" ? \"https://sb\" : \"http://b\") + \".scorecardresearch.com/beacon.js\";\n",
       "    el.parentNode.insertBefore(s, el); }\n",
       "  )();\n",
       "</script>\n",
       "<noscript>\n",
       "<img src=\"http://b.scorecardresearch.com/p?c1=2&amp;c2=20515846&amp;cv=2.0&amp;cj=1\"/>\n",
       "</noscript>\n",
       "<!-- End comScore Tag -->\n",
       "<title> 特朗普父女推特解密 | Initium Lab | Exploratory Arm of Initium Media </title>\n",
       "</head>\n",
       "<body itemscope=\"\" itemtype=\"http://schema.org/WebPage\" lang=\"en\">\n",
       "<!--[if lte IE 9]>\n",
       "  <div style=' clear: both; height: 59px; padding:0 0 0 15px; position: relative;margin:0 auto;'>\n",
       "    <a href=\"http://windows.microsoft.com/en-US/internet-explorer/products/ie/home?ocid=ie6_countdown_bannercode\">\n",
       "      <img src=\"http://7u2nvr.com1.z0.glb.clouddn.com/picouterie.jpg\" border=\"0\" height=\"42\" width=\"820\"\n",
       "           alt=\"You are using an outdated browser. For a faster, safer browsing experience, upgrade for free today or use other browser ,like chrome firefox safari.\"\n",
       "           style='margin-left:auto;margin-right:auto;display: block;'/>\n",
       "    </a>\n",
       "  </div>\n",
       "<![endif]-->\n",
       "<aside class=\"sidebar animate\" itemscope=\"\" itemtype=\"http://schema.org/WPSideBar\">\n",
       "<a class=\"sidebar__logo\" href=\"../../\">\n",
       "<img alt=\"initiumlab logo\" src=\"../../images/logo.svg\"/>\n",
       "</a>\n",
       "<div class=\"sidebar__content\">\n",
       "<nav class=\"sidebar__nav\">\n",
       "<ul>\n",
       "<li class=\"sidebar__nav--home\">\n",
       "<a href=\"../../\">\n",
       "<span>首頁</span>\n",
       "</a>\n",
       "</li>\n",
       "<li class=\"sidebar__nav--blog\">\n",
       "<a class=\"active\" href=\"../../blog\">\n",
       "<span>文章</span>\n",
       "</a>\n",
       "</li>\n",
       "<li class=\"sidebar__nav--project\">\n",
       "<a href=\"../../projects\">\n",
       "<span>專題</span>\n",
       "</a>\n",
       "</li>\n",
       "<li class=\"sidebar__nav--event\">\n",
       "<a href=\"../../events\">\n",
       "<span>活動</span>\n",
       "</a>\n",
       "</li>\n",
       "<li class=\"sidebar__nav--career\">\n",
       "<a href=\"../../career\">\n",
       "<span>職位</span>\n",
       "</a>\n",
       "</li>\n",
       "<li class=\"sidebar__nav--about\">\n",
       "<a href=\"../../about\">\n",
       "<span>團隊</span>\n",
       "</a>\n",
       "</li>\n",
       "</ul>\n",
       "</nav>\n",
       "<section class=\"sidebar__social\">\n",
       "<a data-social=\"facebook\" href=\"//www.facebook.com/initiumlab\" target=\"_blank\">\n",
       "<svg class=\"icon icon--facebook\" viewbox=\"0 0 53 100\" xmlns=\"http://www.w3.org/2000/svg\">\n",
       "<use xlink:href=\"../../images/icons/svg-sprite.svg#facebook\"></use>\n",
       "</svg>\n",
       "</a>\n",
       "<a data-social=\"youtube\" href=\"//youtube.com/channel/UC6A8BFtKG3sRcExuOomA_tA\" target=\"_blank\">\n",
       "<svg class=\"icon icon--youtube\" viewbox=\"0 0 141 100\" xmlns=\"http://www.w3.org/2000/svg\">\n",
       "<use xlink:href=\"../../images/icons/svg-sprite.svg#youtube\"></use>\n",
       "</svg>\n",
       "</a>\n",
       "<a data-social=\"linkedin\" href=\"//www.linkedin.com/groups/7048631\" target=\"_blank\">\n",
       "<svg class=\"icon icon--linkedin\" viewbox=\"0 0 105 100\" xmlns=\"http://www.w3.org/2000/svg\">\n",
       "<use xlink:href=\"../../images/icons/svg-sprite.svg#linkedin\"></use>\n",
       "</svg>\n",
       "</a>\n",
       "<a data-social=\"rss\" href=\"../../feed.xml\" target=\"_blank\">\n",
       "<svg class=\"icon icon--rss\" viewbox=\"0 0 100 100\" xmlns=\"http://www.w3.org/2000/svg\">\n",
       "<use xlink:href=\"../../images/icons/svg-sprite.svg#rss\"></use>\n",
       "</svg>\n",
       "</a>\n",
       "</section>\n",
       "<section class=\"subscribe\">\n",
       "<button class=\"subscribe__btn subscribe__btn--popup\" type=\"button\">\n",
       "<span>訂閱</span>\n",
       "</button>\n",
       "<div class=\"subscribe__content\">\n",
       "<form class=\"subscribe__form\">\n",
       "<input name=\"EMAIL\" placeholder=\"* 郵箱\" required=\"\" type=\"email\"/>\n",
       "<input name=\"FNAME\" placeholder=\"名字\" type=\"text\"/>\n",
       "<input name=\"LNAME\" placeholder=\"姓氏\" type=\"text\"/>\n",
       "<button class=\"subscribe__btn subscribe__btn--submit animate\" disabled=\"\" type=\"submit\">提交</button>\n",
       "<div class=\"subscribe__msg\">\n",
       "<div class=\"subscribe__msg__content\">\n",
       "<section>\n",
       "<svg class=\"icon icon--spin\" viewbox=\"0 0 100 100\" xmlns=\"http://www.w3.org/2000/svg\">\n",
       "<use xlink:href=\"../../images/icons/svg-sprite.svg#spin\"></use>\n",
       "</svg>\n",
       "<svg class=\"icon icon--success\" viewbox=\"0 0 124 101\" xmlns=\"http://www.w3.org/2000/svg\">\n",
       "<use xlink:href=\"../../images/icons/svg-sprite.svg#success\"></use>\n",
       "</svg>\n",
       "<svg class=\"icon icon--error\" viewbox=\"0 0 100 100\" xmlns=\"http://www.w3.org/2000/svg\">\n",
       "<use xlink:href=\"../../images/icons/svg-sprite.svg#error\"></use>\n",
       "</svg>\n",
       "</section>\n",
       "<section><p data-msg=\"\"></p></section>\n",
       "</div>\n",
       "</div>\n",
       "</form>\n",
       "</div>\n",
       "<script>\n",
       "    ;(function() {\n",
       "      var $popupBtn = $('.subscribe__btn--popup');\n",
       "      var $content = $('.subscribe__content');\n",
       "      var $form = $('.subscribe__form');\n",
       "      var $submitBtn = $('.subscribe__btn--submit');\n",
       "      var $msgBox = $('.subscribe__msg');\n",
       "      var $msg = $msgBox.find('[data-msg]');\n",
       "      var $icons = $msgBox.find('.icon');\n",
       "\n",
       "      // Toggle Form\n",
       "      $popupBtn.click(function() {\n",
       "        $content.fadeIn();\n",
       "\n",
       "        $(window).click(function() {\n",
       "          $content.fadeOut();\n",
       "          $msgBox.fadeOut();\n",
       "          $(window).off('click');\n",
       "        });\n",
       "\n",
       "        ga('send', 'event', 'subscribe-button', 'click');\n",
       "      });\n",
       "      $('.subscribe__form, .subscribe__btn--popup').click(function(e) {\n",
       "        e.stopPropagation();\n",
       "      });\n",
       "\n",
       "      // Handle Form change\n",
       "      $form\n",
       "      .on('input', function() {\n",
       "        $submitBtn[0].disabled = !$form[0].checkValidity();\n",
       "      })\n",
       "      .on('submit', function(e) {\n",
       "        e.preventDefault();\n",
       "\n",
       "        // Init data\n",
       "        var request_data = {};\n",
       "        $.each($form.serializeArray(), function(index, item) {\n",
       "          request_data[item.name] = item.value;\n",
       "        });\n",
       "\n",
       "        // Post data\n",
       "        $msg.attr('data-msg', '');\n",
       "        $icons.hide().filter('.icon--spin').show();\n",
       "        $msgBox.fadeIn();\n",
       "\n",
       "        $.ajax({\n",
       "          url: '//initiumlab.us11.list-manage.com/subscribe/post-json?u=0af72d56ccd0f8ef2d17e12a2&id=64252e9209&c=?',\n",
       "          data: request_data,\n",
       "          dataType: 'jsonp'\n",
       "        })\n",
       "        .done(function(data) {\n",
       "          $icons.hide().filter('.icon--success').show();\n",
       "        })\n",
       "        .always(function(data) {\n",
       "          var msg = data.msg;\n",
       "\n",
       "          if (msg.match(/finished/i)) return;\n",
       "\n",
       "          $icons.hide().filter('.icon--error').show();\n",
       "          $msg.attr('data-msg', msg);\n",
       "        });\n",
       "      });\n",
       "    })()\n",
       "  </script>\n",
       "</section>\n",
       "</div>\n",
       "</aside>\n",
       "<script>\n",
       "  ;(function() {\n",
       "    var $w = $(window);\n",
       "    var $sidebar = $('.sidebar');\n",
       "    var $sidebarContent = $('.sidebar__content');\n",
       "    var yPositionToHide = $w.height();\n",
       "\n",
       "    if ($w.width() < 990) return;\n",
       "\n",
       "    $w\n",
       "    .on('scroll', function() {\n",
       "      if ($w.scrollTop() > yPositionToHide) {\n",
       "        toggleSidebar('hide');\n",
       "      } else {\n",
       "        toggleSidebar('show');\n",
       "      }\n",
       "    })\n",
       "    .on('resize', function() {\n",
       "      yPositionToHide = $w.height();\n",
       "    });\n",
       "\n",
       "    $sidebar.on('mouseover', function() {\n",
       "      if ($sidebarContent.css('display') === 'none') {\n",
       "        toggleSidebar('show');\n",
       "\n",
       "        $sidebar.on('mouseleave', function() {\n",
       "          toggleSidebar('hide');\n",
       "          $sidebar.off('mouseleave');\n",
       "        });\n",
       "      }\n",
       "    });\n",
       "\n",
       "    // GA\n",
       "    $('[data-social]').each(function() {\n",
       "      $(this).click(function() {\n",
       "        ga('send', 'event', 'social_button', 'click', this.getAttribute('data-social'));\n",
       "      });\n",
       "    });\n",
       "\n",
       "    function toggleSidebar(type) {\n",
       "      var isShow = type === 'show';\n",
       "\n",
       "      $sidebar[isShow ? 'removeClass' : 'addClass']('sidebar--fixed');\n",
       "      $sidebarContent[isShow ? 'fadeIn' : 'fadeOut']();\n",
       "    }\n",
       "  })()\n",
       "</script>\n",
       "<header class=\"mobile-header\">\n",
       "<button class=\"mobile-header__logo animate\" type=\"button\">\n",
       "<img alt=\"initiumlab logo\" src=\"../../images/logo.svg\"/>\n",
       "</button>\n",
       "</header>\n",
       "<script>\n",
       "  ;(function() {\n",
       "    var $mobileHeader = $('.mobile-header');\n",
       "    var $mobileLogo = $('.mobile-header__logo');\n",
       "    var $mobileNav = $('.sidebar');\n",
       "\n",
       "    $mobileLogo.click(function() {\n",
       "      $('body').toggleClass('fixed');\n",
       "      $mobileHeader.toggleClass('mobile-header--nav-open');\n",
       "      $mobileNav.toggleClass('sidebar--nav-open');\n",
       "    });\n",
       "  })()\n",
       "</script>\n",
       "<main class=\"main \">\n",
       "<div class=\"main__container\">\n",
       "<article class=\"post post--normal \" itemscope=\"\" itemtype=\"http://schema.org/Article\">\n",
       "<header>\n",
       "<h1 class=\"post__title\" itemprop=\"name headline\">\n",
       "          \n",
       "            \n",
       "              特朗普父女推特解密\n",
       "            \n",
       "          \n",
       "        </h1>\n",
       "<div class=\"post__meta\">\n",
       "<table>\n",
       "<tbody>\n",
       "<tr class=\"post__time\">\n",
       "<td>\n",
       "<svg class=\"icon icon--clock\" viewbox=\"0 0 100 100\" xmlns=\"http://www.w3.org/2000/svg\">\n",
       "<use xlink:href=\"../../images/icons/svg-sprite.svg#clock\"></use>\n",
       "</svg></td>\n",
       "<td>\n",
       "<time content=\"2017-03-29\" datetime=\"2017-03-29T18:00:00+08:00\" itemprop=\"dateCreated\">\n",
       "                  2017-03-29\n",
       "                </time>\n",
       "</td>\n",
       "</tr>\n",
       "<tr class=\"post__authors\">\n",
       "<td>\n",
       "<svg class=\"icon icon--pen\" viewbox=\"0 0 35 100\" xmlns=\"http://www.w3.org/2000/svg\">\n",
       "<use xlink:href=\"../../images/icons/svg-sprite.svg#pen\"></use>\n",
       "</svg></td>\n",
       "<td>\n",
       "<span>Li Yiming</span>\n",
       "<span>Li Yuqiong</span>\n",
       "</td>\n",
       "</tr>\n",
       "<tr class=\"post__tags\">\n",
       "<td>\n",
       "<svg class=\"icon icon--tag\" viewbox=\"0 0 69 100\" xmlns=\"http://www.w3.org/2000/svg\">\n",
       "<use xlink:href=\"../../images/icons/svg-sprite.svg#tag\"></use>\n",
       "</svg></td>\n",
       "<td>\n",
       "<span class=\"tag\">\n",
       "<a href=\"../../tags/Twitter/\">\n",
       "                      Twitter\n",
       "                      </a>\n",
       "</span>\n",
       "<span class=\"tag\">\n",
       "<a href=\"../../tags/Trump/\">\n",
       "                      Trump\n",
       "                      </a>\n",
       "</span>\n",
       "<span class=\"tag\">\n",
       "<a href=\"../../tags/Ivanka/\">\n",
       "                      Ivanka\n",
       "                      </a>\n",
       "</span>\n",
       "</td>\n",
       "</tr>\n",
       "</tbody>\n",
       "</table>\n",
       "</div>\n",
       "</header>\n",
       "<div class=\"post__body\" itemprop=\"articleBody\">\n",
       "<p>美國新晉總統唐納德·特朗普（Donald Trump）以其極端言論在一眾政客裡獨領風騷。<a href=\"http://initiumlab.com/\">端Lab</a>曾於2016年<a href=\"http://initiumlab.com/blog/20160704-trump-hillary-language/\">撰文分析</a>特朗普與其競選對手希拉里·柯林頓（Hillary Clinton）面對媒體採訪時不同的言論風格，發現特朗普發言多用簡單句型，且善於用第二人稱敘事獲取觀眾共鳴。</p>\n",
       "<p>除去媒體採訪，推特發言亦是特朗普競選的宣傳的另一愨道。因此本文選取唐納德·特朗普（下簡稱特朗普）及其女兒伊萬卡·特朗普（下簡稱伊萬卡）的推特數據作為樣本，利用文本信息挖掘方法（text mining methods），來分析他們在社交網絡上展示的話語特點。</p>\n",
       "<h2 id=\"話癆特朗普\"><a class=\"headerlink\" href=\"#話癆特朗普\" title=\"話癆特朗普\"></a>話癆特朗普</h2><p>從發推文總數量來看，特朗普遠勝其女伊萬卡。2009到2016年，特朗普發布推文總數量三萬餘條，平均每天十條。而其女伊萬卡發文總量為一萬一千餘條，平均每天三條。二人皆疑似推特深度用戶。</p>\n",
       "<p>下圖顯示，特朗普推文数量從2011年起開始狂飆突進，並於2013年和2015年分別達到峰值。而伊萬卡的發文風格則更加穩健，只是在2016年時有所增加，可能是為特朗普競選造勢之故？</p>\n",
       "<p><img alt=\"\" src=\"trump-ivanka-number-of-tweets-by-time.svg\"/></p>\n",
       "<h2 id=\"特朗普家族最喜愛的推特發佈平台\"><a class=\"headerlink\" href=\"#特朗普家族最喜愛的推特發佈平台\" title=\"特朗普家族最喜愛的推特發佈平台\"></a>特朗普家族最喜愛的推特發佈平台</h2><p>特朗普與伊萬卡身為上流社會人士，當然不能滿足於用單一平台發布推文。</p>\n",
       "<p>下表展示了特朗普父女較常使用的推特客戶端。他們在這些客戶端上發布的推文條數大於100。可以看出特朗普鍾愛安卓和網頁客戶端，而伊萬卡口味更加多元，除去推特網頁客戶端之外，更勇於嘗試 Buffer， Instagram， Sprout，BlackBerry，UberSocial 等各種較新的平台。她似乎並不鍾愛安卓手機。</p>\n",
       "<p>加入發文時間後，我們的分析發現，特朗普最初多使用网页推特发布消息，於2013年左右開始使用安卓手機系統客戶端發推特。2016左右，設備鳥槍換炮，用起了高大上的蘋果iOS系統客戶端。相比之下，伊萬卡發文的平台有較強階段性。2010年左右她與其父一樣是推特網頁版的忠實用戶，2011到2012年間還使用了其他設備和平台，如 Uber， BlackBerry等。2012年後她似乎開始喜愛上Instagram和iPhone平台。有意思的是，2015年她突然開始頻繁使用Buffer這款軟件，2016年則移情Sprout。這兩款均為社交網站管理平台，可以同時連結並管理Facebook、Twitter、Instagram等帳戶。從圖上來看，使用Buffer的時間段和Sprout的時間段並無交接，因此伊萬卡女士似乎更鍾意Sprout的用戶體驗。</p>\n",
       "<p><img alt=\"\" src=\"ivanka-tweets-by-time-and-device.svg\"/></p>\n",
       "<h2 id=\"詞彙偏好\"><a class=\"headerlink\" href=\"#詞彙偏好\" title=\"詞彙偏好\"></a>詞彙偏好</h2><p>下圖列出不同詞彙在特朗普和伊萬卡的推特中分別出現的比例。可以發現，兩人共同姓氏「trump」，以及一些常用詞「tonight」，「world」，「win」， 「forward」在雙方微博中出現的比例均較高。</p>\n",
       "<p>同時，和上文發現類似的是，伊萬卡常用詞更偏向時尚、商業和生活，例如「advice」，「shops」，「chic」，「founder」，「intern」 等等。而特朗普有更多和政治、政策以及競選相關的詞彙，如「senator」，「endorsement」，「broken」，「complete」等。最能體現這一區別的一個例子是，伊萬卡大量使用了「tips」這一詞彙，儼然一位人生導師。而特朗普則大量使用了「Obama」，和他總統競選人的身份相符。</p>\n",
       "<p><img alt=\"\" src=\"top-distinctive-words.svg\"/></p>\n",
       "<h2 id=\"父女口癖變遷史\"><a class=\"headerlink\" href=\"#父女口癖變遷史\" title=\"父女口癖變遷史\"></a>父女口癖變遷史</h2><p>下圖列出09年到16年之間，Trump 的 tweets 中常用詞彙的變化。09年到12年間，「Apprentice」頻繁出現在 Trump 的 tweets 中。這緣於一部真人職場秀<a href=\"https://en.wikipedia.org/wiki/The_Apprentice_%28U.S._TV_series%29\" rel=\"external\" target=\"_blank\">The Apprentice</a>，求職者在節目中分成兩組比賽，並在每一集中從輸的隊伍中淘汰一名貢獻最小的成員。節目最後的優勝者，有機會去經營Trump旗下的一個公司。在這個節目中，Trump做了14季的Host；決定參選總統後，他辭去了這個職位。當Trump獲勝的時候，人們驚呼其在 Twitter 上強大的影響力。可是回過去看，Trump 在利用媒體方面的技能，確實勝過世界上的很多領導者 – 從「TV Show 億萬富豪」到「Twitter 治國總統」，似乎並不意外。</p>\n",
       "<p><img alt=\"\" src=\"top-8-trending-words-trump.svg\"/></p>\n",
       "<p>上文提到，「Tips」是 Ivanka 的口頭禪之一。細看其中內容，除了大量轉推的經驗分享，大多還添加了特定的 Twitter 標籤，（hashtag）比如「#interntips」、「#healthtips」等等。而另一方面，「trump」的提及卻越來越少，在總統競選期間降到最低；同一時期「Tips」出現最爲頻繁。09年到14年間，Ivanka 的 tweets 中大量出現「trump」，大多與 Trump 家族的產業有關，比如 「@trumpgolf」、「#trumptower」、「@trumpwinery」、「#trumphotels」、…… 這些 Twitter 帳號和 hashtag 之間，大量互動和互聯，都吸引了不少粉絲。看罷數據，不得不感嘆， Ivanka 在運營 Twitter 方面的技能，與專業團隊無異。如果說15年前 Ivanka 的運作手法是「硬廣」，那麼從15年中旬開始，放棄「trump」、轉推「tips」、搖身一變人生導師，則更是技高一籌。</p>\n",
       "<p><img alt=\"\" src=\"top-3-trending-words-trump.svg\"/></p>\n",
       "<h2 id=\"最易引發「轉發」和「喜歡」的詞彙\"><a class=\"headerlink\" href=\"#最易引發「轉發」和「喜歡」的詞彙\" title=\"最易引發「轉發」和「喜歡」的詞彙\"></a>最易引發「轉發」和「喜歡」的詞彙</h2><p>「轉發」和「喜歡」均為發布者和關注者的某種互動形式。因此，通過分析獲得更多「轉發」和「喜歡」的推特詞彙特點，既可以分析出發布者的心態，也可以分析出關注群體對特定內容的偏好。紐約時報2011年一項針對社交媒體的調查發現，用戶在社交媒體上分享信息主要有五種情況：分享娛樂性消息、自我包裝和認同、增強社交關係、進行對話，以及推廣新聞、產品信息等【注2】。</p>\n",
       "<p>下圖展示了在特朗普和伊萬卡的推特數據裡，哪些詞彙容易引發更多轉發。特朗普的推特詞彙中，獲取轉發數最高的為「hamilton」，「praying」和「wikileaks」。而伊萬卡的則為「policy」，「family」，「theodore」。這些詞彙個人性較弱，更類似對特定消息的推廣，符合二人公眾人物的身分。</p>\n",
       "<p>「Hamilton」的高出鏡率可能因為如下這條推特 -</p>\n",
       "<blockquote>\n",
       "<p>Donald J. Trump  ✔@realDonaldTrump<br/>The Theater must always be a safe and special place.The cast of Hamilton was very rude last &gt; night to a very good man, Mike Pence. Apologize!<br/>9:56 PM - 19 Nov 2016<br/>43,592 43,592 Retweets   149,734 149,734 likes</p>\n",
       "</blockquote>\n",
       "<p>在這條發布與2016年11月19日，獲得四萬三千多條轉發的推文中，特朗普指責音樂劇 「Hamilton」的劇組對副總統 Mike Pence 進行騷擾。Mike Pence 之前觀賞了該音樂劇。表演結束後，劇組成員當眾向他表達了對新當選政府的不信任，和對未來的期待。這一舉動似乎激怒了特朗普，他在推特上發文要求劇組向副總統道歉。</p>\n",
       "<p>詞彙「praying」的信息量較少。「wikileaks」可能與特朗普競選時多次強調該網站揭露的希拉里郵件醜聞有關。可以想像，含有類似內容的推特因為具有新聞性，較易引發交流，從而引起轉發和討論。</p>\n",
       "<p>關於伊萬卡的推特分析，「theodore」是她新出生兒子的名字，這也和「family」獲得較高轉發量相吻合。另一方面，這可能反映出美國文化對家庭價值的重視。與上文類似，包含詞彙「policy」的推特，可能因為其新聞性和內容性而獲得較高轉發。</p>\n",
       "<p><img alt=\"\" src=\"top-10-words-for-retweet.svg\"/></p>\n",
       "<h2 id=\"最易引發「喜歡」的詞彙\"><a class=\"headerlink\" href=\"#最易引發「喜歡」的詞彙\" title=\"最易引發「喜歡」的詞彙\"></a>最易引發「喜歡」的詞彙</h2><p>關於社交媒體上用戶「喜歡」某條推特，或者「點贊」的行為，來自社交媒體管理網站Buffer（伊萬卡之前最愛）分析認為，點贊的行為動機可分為四種：類似線下交流時點頭等打招呼的行為，對自己認同的某些價值再度肯定，表達同情，以及獲取現實回報（如餐廳打折等）。分析特朗普和伊萬卡獲取「點贊」數最多的推特詞彙可以發現，兩人的前三名大致與獲取轉發數較高的推特相同。唯一區別在於特朗普發布的「electoral」詞彙亦獲得較多喜歡。這可能是支持者表達鼓勵的行為反映。</p>\n",
       "<p><img alt=\"\" src=\"top-10-words-for-favourite.svg\"/></p>\n",
       "<hr/>\n",
       "<p>註釋：</p>\n",
       "<ul>\n",
       "<li>本文所用原始數據及代碼見GitHub： <a href=\"https://github.com/kestrel614/HKODD17-Trump\" rel=\"external\" target=\"_blank\">https://github.com/kestrel614/HKODD17-Trump</a></li>\n",
       "<li>本文使用主要文本分析工具是R，部分分析方法參考網站 <a href=\"http://tidytextmining.com/\" rel=\"external\" target=\"_blank\">http://tidytextmining.com/</a> 。</li>\n",
       "<li>注【2】：<a href=\"http://text-ex-machina.co.uk/blog/new-york-times-study.html\" rel=\"external\" target=\"_blank\">http://text-ex-machina.co.uk/blog/new-york-times-study.html</a></li>\n",
       "<li>注【3】：<a href=\"https://blog.bufferapp.com/psychology-of-facebook\" rel=\"external\" target=\"_blank\">https://blog.bufferapp.com/psychology-of-facebook</a></li>\n",
       "</ul>\n",
       "</div>\n",
       "</article>\n",
       "<div class=\"share\">\n",
       "<div class=\"share__icons\">\n",
       "<svg class=\"icon icon--share\" viewbox=\"0 0 93 101\" xmlns=\"http://www.w3.org/2000/svg\">\n",
       "<use xlink:href=\"../../images/icons/svg-sprite.svg#share\"></use>\n",
       "</svg>\n",
       "<button data-share=\"facebook\" type=\"button\">\n",
       "<svg class=\"icon icon--facebook\" viewbox=\"0 0 53 100\" xmlns=\"http://www.w3.org/2000/svg\">\n",
       "<use xlink:href=\"../../images/icons/svg-sprite.svg#facebook\"></use>\n",
       "</svg>\n",
       "</button>\n",
       "<button data-share=\"twitter\" type=\"button\">\n",
       "<svg class=\"icon icon--twitter\" viewbox=\"0 0 127 100\" xmlns=\"http://www.w3.org/2000/svg\">\n",
       "<use xlink:href=\"../../images/icons/svg-sprite.svg#twitter\"></use>\n",
       "</svg>\n",
       "</button>\n",
       "<button data-share=\"wechat\" type=\"button\">\n",
       "<svg class=\"icon icon--wechat\" viewbox=\"0 0 127 100\" xmlns=\"http://www.w3.org/2000/svg\">\n",
       "<use xlink:href=\"../../images/icons/svg-sprite.svg#wechat\"></use>\n",
       "</svg>\n",
       "<span class=\"wechat_share_qrcode\"></span>\n",
       "</button>\n",
       "<button data-share=\"weibo\" type=\"button\">\n",
       "<svg class=\"icon icon--weibo\" viewbox=\"0 0 123 99\" xmlns=\"http://www.w3.org/2000/svg\">\n",
       "<use xlink:href=\"../../images/icons/svg-sprite.svg#weibo\"></use>\n",
       "</svg>\n",
       "</button>\n",
       "</div>\n",
       "<div id=\"fb-root\"></div>\n",
       "<script>(function(d, s, id) {\n",
       "    var js, fjs = d.getElementsByTagName(s)[0];\n",
       "    if (d.getElementById(id)) return;\n",
       "    js = d.createElement(s); js.id = id;\n",
       "    js.src = \"//connect.facebook.net/zh_HK/sdk.js#xfbml=1&version=v2.7\";\n",
       "    fjs.parentNode.insertBefore(js, fjs);\n",
       "  }(document, 'script', 'facebook-jssdk'));</script>\n",
       "<style>\n",
       "    .fb-like {\n",
       "      position: absolute;\n",
       "      right: 0;\n",
       "      bottom: 0;\n",
       "    }\n",
       "  </style>\n",
       "<div class=\"fb-like\" data-action=\"like\" data-colorscheme=\"dark\" data-href=\"http://initiumlab.com/blog/20170329-trump-and-ivanka/\" data-layout=\"box_count\" data-share=\"false\" data-show-faces=\"false\" data-size=\"large\"></div>\n",
       "</div>\n",
       "<div class=\"cc\" style=\"font-size: 12px; color: #838383;\">\n",
       "<a href=\"http://creativecommons.org/licenses/by/4.0/\" rel=\"license\"><img alt=\"知识共享许可协议\" src=\"https://i.creativecommons.org/l/by/4.0/80x15.png\" style=\"border-width:0; margin: 0;\"/></a><br>本作品采用<a href=\"http://creativecommons.org/licenses/by/4.0/\" rel=\"license\">知识共享署名 4.0 国际许可协议</a>进行许可。\n",
       "</br></div>\n",
       "<div class=\"sticky-tools\">\n",
       "<section class=\"sticky-tools__toc\">\n",
       "<button type=\"button\">\n",
       "<svg class=\"icon icon--list\" viewbox=\"0 0 100 100\" xmlns=\"http://www.w3.org/2000/svg\">\n",
       "<use xlink:href=\"../../images/icons/svg-sprite.svg#list\"></use>\n",
       "</svg>\n",
       "</button>\n",
       "<div class=\"toc-wrapper\">\n",
       "<h3>目錄</h3>\n",
       "<ol class=\"toc\"><li class=\"toc-item toc-level-2\"><a class=\"toc-link\" href=\"#話癆特朗普\"><span class=\"toc-number\">1.</span> <span class=\"toc-text\">話癆特朗普</span></a></li><li class=\"toc-item toc-level-2\"><a class=\"toc-link\" href=\"#特朗普家族最喜愛的推特發佈平台\"><span class=\"toc-number\">2.</span> <span class=\"toc-text\">特朗普家族最喜愛的推特發佈平台</span></a></li><li class=\"toc-item toc-level-2\"><a class=\"toc-link\" href=\"#詞彙偏好\"><span class=\"toc-number\">3.</span> <span class=\"toc-text\">詞彙偏好</span></a></li><li class=\"toc-item toc-level-2\"><a class=\"toc-link\" href=\"#父女口癖變遷史\"><span class=\"toc-number\">4.</span> <span class=\"toc-text\">父女口癖變遷史</span></a></li><li class=\"toc-item toc-level-2\"><a class=\"toc-link\" href=\"#最易引發「轉發」和「喜歡」的詞彙\"><span class=\"toc-number\">5.</span> <span class=\"toc-text\">最易引發「轉發」和「喜歡」的詞彙</span></a></li><li class=\"toc-item toc-level-2\"><a class=\"toc-link\" href=\"#最易引發「喜歡」的詞彙\"><span class=\"toc-number\">6.</span> <span class=\"toc-text\">最易引發「喜歡」的詞彙</span></a></li></ol>\n",
       "</div>\n",
       "</section>\n",
       "<section class=\"sticky-tools__share\">\n",
       "<button type=\"button\">\n",
       "<svg class=\"icon icon--share\" viewbox=\"0 0 93 101\" xmlns=\"http://www.w3.org/2000/svg\">\n",
       "<use xlink:href=\"../../images/icons/svg-sprite.svg#share\"></use>\n",
       "</svg>\n",
       "</button>\n",
       "<div class=\"sticky-tools__share__icons\">\n",
       "<button data-share=\"facebook\" type=\"button\">\n",
       "<svg class=\"icon icon--facebook\" viewbox=\"0 0 53 100\" xmlns=\"http://www.w3.org/2000/svg\">\n",
       "<use xlink:href=\"../../images/icons/svg-sprite.svg#facebook\"></use>\n",
       "</svg>\n",
       "</button>\n",
       "<button data-share=\"twitter\" type=\"button\">\n",
       "<svg class=\"icon icon--twitter\" viewbox=\"0 0 127 100\" xmlns=\"http://www.w3.org/2000/svg\">\n",
       "<use xlink:href=\"../../images/icons/svg-sprite.svg#twitter\"></use>\n",
       "</svg>\n",
       "</button>\n",
       "<button data-share=\"wechat\" type=\"button\">\n",
       "<svg class=\"icon icon--wechat\" viewbox=\"0 0 127 100\" xmlns=\"http://www.w3.org/2000/svg\">\n",
       "<use xlink:href=\"../../images/icons/svg-sprite.svg#wechat\"></use>\n",
       "</svg>\n",
       "<span class=\"wechat_share_qrcode\"></span>\n",
       "</button>\n",
       "<button data-share=\"weibo\" type=\"button\">\n",
       "<svg class=\"icon icon--weibo\" viewbox=\"0 0 123 99\" xmlns=\"http://www.w3.org/2000/svg\">\n",
       "<use xlink:href=\"../../images/icons/svg-sprite.svg#weibo\"></use>\n",
       "</svg>\n",
       "</button>\n",
       "</div>\n",
       "</section>\n",
       "<section class=\"sticky-tools__btt\">\n",
       "<button type=\"button\">\n",
       "<svg class=\"icon icon--chevron-top\" viewbox=\"0 0 159 100\" xmlns=\"http://www.w3.org/2000/svg\">\n",
       "<use xlink:href=\"../../images/icons/svg-sprite.svg#chevron-top\"></use>\n",
       "</svg>\n",
       "</button>\n",
       "</section>\n",
       "</div>\n",
       "<script>\n",
       ";(function() {\n",
       "  var $w = $(window);\n",
       "\n",
       "  ;(function() {\n",
       "    var $tools = $('.sticky-tools');\n",
       "    var yPositionToShow = $w.height();\n",
       "\n",
       "    if ($w.width() < 990) return;\n",
       "\n",
       "    $w\n",
       "    .on('scroll', function() {\n",
       "      if ($w.scrollTop() > yPositionToShow && !$('footer').visible(true)) {\n",
       "        $tools.fadeIn();\n",
       "      } else {\n",
       "        $tools.fadeOut();\n",
       "      }\n",
       "    })\n",
       "    .on('resize', function() {\n",
       "      yPositionToShow = $w.height();\n",
       "    });\n",
       "  })()\n",
       "  /**\n",
       "   * Share\n",
       "   *\n",
       "   */\n",
       "  var $shareBtn = $('.sticky-tools__share > button');\n",
       "  var $shareIcons = $('.sticky-tools__share__icons');\n",
       "  var handleShareFadeOut = function() {\n",
       "    $shareIcons.fadeOut();\n",
       "    $shareBtn.removeClass('active');\n",
       "  };\n",
       "  $shareBtn.click(function() {\n",
       "    $shareIcons.fadeToggle();\n",
       "    $shareBtn.toggleClass('active');\n",
       "  });\n",
       "\n",
       "  /**\n",
       "   * ToC\n",
       "   *\n",
       "   */\n",
       "  var $toc = $('.sticky-tools__toc');\n",
       "  var $tocBtn = $toc.find('button');\n",
       "  var $tocWrapper = $('.toc-wrapper');\n",
       "\n",
       "  if (!$tocWrapper.find('.toc')[0]) {\n",
       "    $toc.remove();\n",
       "    return;\n",
       "  }\n",
       "\n",
       "  var handleToCFadeOut = function() {\n",
       "    $tocWrapper.fadeOut();\n",
       "    $tocBtn.removeClass('active');\n",
       "    $('body').removeClass('fixed');\n",
       "    $w.off('click');\n",
       "  };\n",
       "  // toggle toc\n",
       "  $tocBtn.click(function() {\n",
       "    if ($tocWrapper.css('display') === 'none') {\n",
       "      $tocWrapper.fadeIn();\n",
       "      $tocBtn.addClass('active');\n",
       "      $('body').addClass('fixed');\n",
       "      handleShareFadeOut();\n",
       "\n",
       "      $w.click(function() {\n",
       "        handleToCFadeOut();\n",
       "      });\n",
       "    } else {\n",
       "      handleToCFadeOut();\n",
       "    }\n",
       "  });\n",
       "  $toc.click(function(e) {\n",
       "    e.stopPropagation();\n",
       "  });\n",
       "  // click toc's link\n",
       "  $('.toc-link').click(function(e) {\n",
       "    e.preventDefault();\n",
       "\n",
       "    var hash = $(this).attr('href');\n",
       "    var target = $('.headerlink[href=\"' + hash + '\"]')[0];\n",
       "\n",
       "    Jump(target, {\n",
       "      offset: $('.mobile-header').height() * -1\n",
       "    });\n",
       "    window.location.hash = hash;\n",
       "    handleToCFadeOut();\n",
       "  });\n",
       "\n",
       "  /**\n",
       "   * Back to Top\n",
       "   *\n",
       "   */\n",
       "  var backToTopBtn = $('.sticky-tools__btt button');\n",
       "  backToTopBtn.click(function() {\n",
       "    backToTopBtn.addClass('active');\n",
       "\n",
       "    Jump('body', {\n",
       "      callback: function() {\n",
       "        backToTopBtn.removeClass('active');\n",
       "      }\n",
       "    });\n",
       "  });\n",
       "})()\n",
       "</script>\n",
       "<div class=\"comments\">\n",
       "<div id=\"disqus_thread\">\n",
       "<noscript>Please enable JavaScript to view the <a href=\"//disqus.com/?ref_noscript\">comments powered by Disqus.</a></noscript>\n",
       "</div>\n",
       "</div>\n",
       "</div>\n",
       "</main>\n",
       "<footer class=\"footer\">\n",
       "<section class=\"footer--sidebar\">\n",
       "<span>© 2016 InitiumLab.</span>\n",
       "</section>\n",
       "<section class=\"footer--main\">\n",
       "<table class=\"footer--main__content\">\n",
       "<tbody>\n",
       "<tr>\n",
       "<td>\n",
       "<svg class=\"icon icon--mail\" viewbox=\"0 0 134 100\" xmlns=\"http://www.w3.org/2000/svg\">\n",
       "<use xlink:href=\"../../images/icons/svg-sprite.svg#mail\"></use>\n",
       "</svg></td>\n",
       "<td>\n",
       "<a href=\"mailto:editors@initiumlab.com\" target=\"_blank\">\n",
       "<span>editors@initiumlab.com</span>\n",
       "</a>\n",
       "</td>\n",
       "</tr>\n",
       "<tr>\n",
       "<td>\n",
       "<svg class=\"icon icon--map2\" viewbox=\"0 0 100 100\" xmlns=\"http://www.w3.org/2000/svg\">\n",
       "<use xlink:href=\"../../images/icons/svg-sprite.svg#map2\"></use>\n",
       "</svg></td>\n",
       "<td>\n",
       "<a href=\"//www.google.com/maps/place/22%C2%B017'30.3%22N+114%C2%B012'30.9%22E\" target=\"_blank\">\n",
       "<span>香港北角英皇道 663 號泓富產業千禧廣場 1907 室</span>\n",
       "</a>\n",
       "</td>\n",
       "</tr>\n",
       "</tbody>\n",
       "</table></section></footer></body></html>\n",
       "\n",
       "\n",
       "<script type=\"text/javascript\">\n",
       "    var disqus_shortname = 'initium1ab';\n",
       "    var disqus_identifier = 'blog/20170329-trump-and-ivanka/';\n",
       "    var disqus_title = '特朗普父女推特解密';\n",
       "    var disqus_url = 'http://initiumlab.com/blog/20170329-trump-and-ivanka/';\n",
       "\n",
       "    function run_disqus_script(disqus_script){\n",
       "      var dsq = document.createElement('script');\n",
       "      var head = document.getElementsByTagName('head')[0];\n",
       "      var body = document.getElementsByTagName('body')[0];\n",
       "\n",
       "      dsq.type = 'text/javascript';\n",
       "      dsq.async = true;\n",
       "      dsq.src = '//' + disqus_shortname + '.disqus.com/' + disqus_script;\n",
       "\n",
       "      (head || body).appendChild(dsq);\n",
       "    }\n",
       "\n",
       "    run_disqus_script('count.js');\n",
       "    \n",
       "      run_disqus_script('embed.js');\n",
       "    \n",
       "  </script>\n",
       "<script src=\"//cdnjs.cloudflare.com/ajax/libs/fastclick/1.0.6/fastclick.min.js\"></script>\n",
       "<script>\n",
       "      $(function() {\n",
       "        FastClick.attach(document.body);\n",
       "      });\n",
       "    </script>\n",
       "<script src=\"//cdnjs.cloudflare.com/ajax/libs/jquery.qrcode/1.0/jquery.qrcode.min.js\"></script>\n",
       "<script src=\"../../js/share.js?v=2.1.0\" type=\"text/javascript\"></script>\n",
       "<script>\n",
       "  (function(i,s,o,g,r,a,m){i['GoogleAnalyticsObject']=r;i[r]=i[r]||function(){\n",
       "            (i[r].q=i[r].q||[]).push(arguments)},i[r].l=1*new Date();a=s.createElement(o),\n",
       "          m=s.getElementsByTagName(o)[0];a.async=1;a.src=g;m.parentNode.insertBefore(a,m)\n",
       "  })(window,document,'script','//www.google-analytics.com/analytics.js','ga');\n",
       "  ga('create', 'UA-66625644-1', 'auto');\n",
       "  ga('send', 'pageview');\n",
       "</script>\n",
       "\n"
      ]
     },
     "execution_count": 6,
     "metadata": {},
     "output_type": "execute_result"
    }
   ],
   "source": [
    "import requests \n",
    "from bs4 import BeautifulSoup \n",
    "r = requests.get('https://initiumlab.com/blog/20170329-trump-and-ivanka/')\n",
    "html_str = r.text\n",
    "data = BeautifulSoup(html_str,\"html.parser\")\n",
    "data"
   ]
  },
  {
   "cell_type": "markdown",
   "metadata": {},
   "source": [
    "    #输出: 进行句法分析后，能看见数据变得更结构化，我们便能够通过使用“control flows”和“[]”，“{}”的操作，更深入地得到/找到数据。\n",
    "    \n",
    "### Find data: find.() and find_all() [Find数据: find.() 和 find_all()]\n",
    "    ·“find”是为了找到我们想要的东西，然后输出第一个对象。比如，如果“10 h1”，它们会返回到第一个\n",
    "    ·“find_all”是返回一个包含所有我们想要的values的list。比如，“10 h1”，它们会返回一个包含所有这些h1的list。一个list表示我们能使用“for”循环去做更进一步的过滤。\n",
    "\n",
    "Example:\n",
    "html_doc is as following:"
   ]
  },
  {
   "cell_type": "code",
   "execution_count": 7,
   "metadata": {},
   "outputs": [
    {
     "data": {
      "text/plain": [
       "<a class=\"sister\" href=\"http://example.com/elsie\" id=\"link1\">Elsie</a>"
      ]
     },
     "execution_count": 7,
     "metadata": {},
     "output_type": "execute_result"
    }
   ],
   "source": [
    "html_doc = \"\"\"\n",
    "<html><head><title>The Dormouse's story</title></head>\n",
    "<body>\n",
    "<p class=\"title\"><b>The Dormouse's story</b></p>\n",
    "\n",
    "<p class=\"story\">Once upon a time there were three little sisters; and their names were\n",
    "<a href=\"http://example.com/elsie\" class=\"sister\" id=\"link1\">Elsie</a>,\n",
    "<a href=\"http://example.com/lacie\" class=\"sister\" id=\"link2\">Lacie</a> and\n",
    "<a href=\"http://example.com/tillie\" class=\"sister\" id=\"link3\">Tillie</a>;\n",
    "and they lived at the bottom of a well.</p>\n",
    "\n",
    "<p class=\"story\">...</p>\n",
    "\"\"\"\n",
    "\n",
    "from bs4 import BeautifulSoup\n",
    "soup = BeautifulSoup(html_doc, 'html.parser')\n",
    "my_a = soup.find('a')\n",
    "my_a"
   ]
  },
  {
   "cell_type": "code",
   "execution_count": 8,
   "metadata": {},
   "outputs": [
    {
     "data": {
      "text/plain": [
       "[<a class=\"sister\" href=\"http://example.com/elsie\" id=\"link1\">Elsie</a>,\n",
       " <a class=\"sister\" href=\"http://example.com/lacie\" id=\"link2\">Lacie</a>,\n",
       " <a class=\"sister\" href=\"http://example.com/tillie\" id=\"link3\">Tillie</a>]"
      ]
     },
     "execution_count": 8,
     "metadata": {},
     "output_type": "execute_result"
    }
   ],
   "source": [
    "my_a = soup.find_all('a')\n",
    "my_a"
   ]
  },
  {
   "cell_type": "code",
   "execution_count": 10,
   "metadata": {},
   "outputs": [
    {
     "data": {
      "text/plain": [
       "<a class=\"sister\" href=\"http://example.com/tillie\" id=\"link3\">Tillie</a>"
      ]
     },
     "execution_count": 10,
     "metadata": {},
     "output_type": "execute_result"
    }
   ],
   "source": [
    "html_doc = \"\"\"\n",
    "<html><head><title>The Dormouse's story</title></head>\n",
    "<body>\n",
    "<p class=\"title\"><b>The Dormouse's story</b></p>\n",
    "\n",
    "<p class=\"story\">Once upon a time there were three little sisters; and their names were\n",
    "<a href=\"http://example.com/elsie\" class=\"sister\" id=\"link1\">Elsie</a>,\n",
    "<a href=\"http://example.com/lacie\" class=\"sister\" id=\"link2\">Lacie</a> and\n",
    "<a href=\"http://example.com/tillie\" class=\"sister\" id=\"link3\">Tillie</a>;\n",
    "and they lived at the bottom of a well.</p>\n",
    "\n",
    "<p class=\"story\">...</p>\n",
    "\"\"\"\n",
    "\n",
    "from bs4 import BeautifulSoup\n",
    "soup = BeautifulSoup(html_doc, 'html.parser')\n",
    "my_a = soup.find('a',attrs={'id':'link3'}) \n",
    "my_a"
   ]
  },
  {
   "cell_type": "markdown",
   "metadata": {},
   "source": [
    "my_a = soup.find('a',attrs={'id':'link3'}) \n",
    "\n",
    "    #Note: 可以看见在标记“a”里，有一些“attributes”(attrs)，比如“class”，”id“。这些”attributes“是被用作从其它类似的标记中区分这个标记，特别是当html页面里有许多标记的时候。所以，如果你想要去更准确地定位或者找到某些东西。可以发现专门找到这些”attributes“通过把它们以”soup.find('tag_name',attrs={'attributes':'values'})“写入。\n",
    "    \n",
    "    通常，parser(句法分析器)和find功能是BeautifulSoup library里最常备我们用到的。\n",
    "\n",
    "\n",
    "\n",
    "### Get data [获取数据]\n",
    "#### Get title [获取标题]\n",
    "    打开Chrome开发者工具，通过移动鼠标到标题，可以发现标题是在:\n",
    "    Open the chrome devtools, by moving the mouse on the headline, you can find title is in:\n",
    "<h1 class=\"post__title\" itemprop=\"name headline\"> 特朗普父女推特解密</h1>"
   ]
  },
  {
   "cell_type": "code",
   "execution_count": 13,
   "metadata": {
    "scrolled": true
   },
   "outputs": [
    {
     "data": {
      "text/plain": [
       "<h1 class=\"post__title\" itemprop=\"name headline\">\n",
       "          \n",
       "            \n",
       "              特朗普父女推特解密\n",
       "            \n",
       "          \n",
       "        </h1>"
      ]
     },
     "execution_count": 13,
     "metadata": {},
     "output_type": "execute_result"
    }
   ],
   "source": [
    "import requests\n",
    "import csv\n",
    "from bs4 import BeautifulSoup\n",
    "r = requests.get('https://initiumlab.com/blog/20170329-trump-and-ivanka/')\n",
    "html_str = r.text\n",
    "data = BeautifulSoup(html_str,\"html.parser\")\n",
    "my_h1 = data.find('h1')\n",
    "my_h1"
   ]
  },
  {
   "cell_type": "code",
   "execution_count": 14,
   "metadata": {},
   "outputs": [
    {
     "data": {
      "text/plain": [
       "'\\n          \\n            \\n              特朗普父女推特解密\\n            \\n          \\n        '"
      ]
     },
     "execution_count": 14,
     "metadata": {},
     "output_type": "execute_result"
    }
   ],
   "source": [
    "my_title = my_h1.text\n",
    "my_title"
   ]
  },
  {
   "cell_type": "code",
   "execution_count": 15,
   "metadata": {},
   "outputs": [
    {
     "data": {
      "text/plain": [
       "'特朗普父女推特解密'"
      ]
     },
     "execution_count": 15,
     "metadata": {},
     "output_type": "execute_result"
    }
   ],
   "source": [
    "my_title.strip()"
   ]
  },
  {
   "cell_type": "markdown",
   "metadata": {},
   "source": [
    "    my_h1 = data.find('h1')\n",
    "    ## 使用标记和”attributes“去提取我们想要的数据。”Type(my_h1)“可以看见`my_h1` 是 ”bs4.element.Tag“\n",
    "    my_title = my_h1.text \n",
    "    ## 把bs4.element.Tag变成纯文本\n",
    "    my_title.strip() \n",
    "    ## 在字符串的首尾去掉特定的字符\n",
    "    \n",
    "学习每一步骤的逻辑和function\n",
    "\n",
    "    Note:\n",
    "    ·“strip()”表示删除首尾没有意义的字符。\n",
    "    ·“HTML/bs4_tag.text”表示把“bs4.element.Tag”变成纯文本\n",
    "    ·可以输入“help(str.strip)”查看“strip”的使用\n",
    "    ·“type(sth)”是去打印/展示sth的格式是什么。它的用处在于你应该知道它返回的数据是什么，从而进一步提取我们想要的“values”。比如，如果它是一个“list”，我们应该首先使用“index”去获取它的“value”。同样地，如果它是一个”dict“，我们应该使用”keys“去获取它的”value“。\n",
    "\n",
    "\n",
    "#### Get date [获取日期]\n",
    "    我们使用同样的方式去找到标题，我们能发现时间标记如下："
   ]
  },
  {
   "cell_type": "code",
   "execution_count": null,
   "metadata": {},
   "outputs": [],
   "source": [
    "<time itemprop=\"dateCreated\" datetime=\"2017-03-29T.....\" content=\"2017-03-29\">\n",
    "                  2017-03-29\n",
    "                </time>"
   ]
  },
  {
   "cell_type": "markdown",
   "metadata": {},
   "source": [
    "    提取时间value:"
   ]
  },
  {
   "cell_type": "code",
   "execution_count": 18,
   "metadata": {},
   "outputs": [
    {
     "data": {
      "text/plain": [
       "'2017-03-29'"
      ]
     },
     "execution_count": 18,
     "metadata": {},
     "output_type": "execute_result"
    }
   ],
   "source": [
    "import requests\n",
    "import csv\n",
    "from bs4 import BeautifulSoup\n",
    "r = requests.get('https://initiumlab.com/blog/20170329-trump-and-ivanka/')\n",
    "html_str = r.text\n",
    "data = BeautifulSoup(html_str,\"html.parser\")\n",
    "my_h1 = data.find('h1')\n",
    "my_date = data.find('time').text.strip()\n",
    "my_date"
   ]
  },
  {
   "cell_type": "markdown",
   "metadata": {},
   "source": [
    "过程是:"
   ]
  },
  {
   "cell_type": "code",
   "execution_count": 20,
   "metadata": {},
   "outputs": [
    {
     "data": {
      "text/plain": [
       "<time content=\"2017-03-29\" datetime=\"2017-03-29T18:00:00+08:00\" itemprop=\"dateCreated\">\n",
       "                  2017-03-29\n",
       "                </time>"
      ]
     },
     "execution_count": 20,
     "metadata": {},
     "output_type": "execute_result"
    }
   ],
   "source": [
    "import requests\n",
    "import csv\n",
    "from bs4 import BeautifulSoup\n",
    "r = requests.get('https://initiumlab.com/blog/20170329-trump-and-ivanka/')\n",
    "html_str = r.text\n",
    "data = BeautifulSoup(html_str,\"html.parser\")\n",
    "my_h1 = data.find('h1')\n",
    "my_date = data.find('time')\n",
    "my_date"
   ]
  },
  {
   "cell_type": "code",
   "execution_count": 21,
   "metadata": {},
   "outputs": [
    {
     "data": {
      "text/plain": [
       "'2017-03-29'"
      ]
     },
     "execution_count": 21,
     "metadata": {},
     "output_type": "execute_result"
    }
   ],
   "source": [
    "my_date.text.strip()"
   ]
  },
  {
   "cell_type": "markdown",
   "metadata": {},
   "source": [
    "#### Get author [获取作者]\n",
    "    可以发现作者在”span“里，所以是否只需要使用”find.span”去获取作者就可以了？\n",
    "    \n",
    "方法1: 失败了，因为缺少特性/特征"
   ]
  },
  {
   "cell_type": "code",
   "execution_count": 23,
   "metadata": {},
   "outputs": [
    {
     "data": {
      "text/plain": [
       "<span>首頁</span>"
      ]
     },
     "execution_count": 23,
     "metadata": {},
     "output_type": "execute_result"
    }
   ],
   "source": [
    "import requests\n",
    "import csv\n",
    "from bs4 import BeautifulSoup\n",
    "r = requests.get('https://initiumlab.com/blog/20170329-trump-and-ivanka/')\n",
    "html_str = r.text\n",
    "data = BeautifulSoup(html_str,\"html.parser\")\n",
    "my_authors = data.find('span')\n",
    "my_authors"
   ]
  },
  {
   "cell_type": "markdown",
   "metadata": {},
   "source": [
    "这不是我们想要的，合理的猜测是这里有许多“span”。所以要检查有多少“span”在这里，然后找到这些标记之间的不同。“command+f”去打开控制面板的搜索条，然后输入“span”。就能看见这里有超过2个“span”。因此我们应该找到所有的“span”。"
   ]
  },
  {
   "cell_type": "code",
   "execution_count": 24,
   "metadata": {},
   "outputs": [
    {
     "data": {
      "text/plain": [
       "[<span>首頁</span>,\n",
       " <span>文章</span>,\n",
       " <span>專題</span>,\n",
       " <span>活動</span>,\n",
       " <span>職位</span>,\n",
       " <span>團隊</span>,\n",
       " <span>訂閱</span>,\n",
       " <span>Li Yiming</span>,\n",
       " <span>Li Yuqiong</span>,\n",
       " <span class=\"tag\">\n",
       " <a href=\"../../tags/Twitter/\">\n",
       "                       Twitter\n",
       "                       </a>\n",
       " </span>,\n",
       " <span class=\"tag\">\n",
       " <a href=\"../../tags/Trump/\">\n",
       "                       Trump\n",
       "                       </a>\n",
       " </span>,\n",
       " <span class=\"tag\">\n",
       " <a href=\"../../tags/Ivanka/\">\n",
       "                       Ivanka\n",
       "                       </a>\n",
       " </span>,\n",
       " <span class=\"wechat_share_qrcode\"></span>,\n",
       " <span class=\"toc-number\">1.</span>,\n",
       " <span class=\"toc-text\">話癆特朗普</span>,\n",
       " <span class=\"toc-number\">2.</span>,\n",
       " <span class=\"toc-text\">特朗普家族最喜愛的推特發佈平台</span>,\n",
       " <span class=\"toc-number\">3.</span>,\n",
       " <span class=\"toc-text\">詞彙偏好</span>,\n",
       " <span class=\"toc-number\">4.</span>,\n",
       " <span class=\"toc-text\">父女口癖變遷史</span>,\n",
       " <span class=\"toc-number\">5.</span>,\n",
       " <span class=\"toc-text\">最易引發「轉發」和「喜歡」的詞彙</span>,\n",
       " <span class=\"toc-number\">6.</span>,\n",
       " <span class=\"toc-text\">最易引發「喜歡」的詞彙</span>,\n",
       " <span class=\"wechat_share_qrcode\"></span>,\n",
       " <span>© 2016 InitiumLab.</span>,\n",
       " <span>editors@initiumlab.com</span>,\n",
       " <span>香港北角英皇道 663 號泓富產業千禧廣場 1907 室</span>]"
      ]
     },
     "execution_count": 24,
     "metadata": {},
     "output_type": "execute_result"
    }
   ],
   "source": [
    "my_spans = data.find_all('span')\n",
    "my_spans"
   ]
  },
  {
   "cell_type": "markdown",
   "metadata": {},
   "source": [
    "    可以看到“find_all”返回了一个list和许多“span”，作者也出现在其中两个“span”中。所以我们怎么获取他们？我们使用“index”去进入它们。"
   ]
  },
  {
   "cell_type": "code",
   "execution_count": 33,
   "metadata": {},
   "outputs": [
    {
     "data": {
      "text/plain": [
       "('Li Yiming', 'Li Yuqiong')"
      ]
     },
     "execution_count": 33,
     "metadata": {},
     "output_type": "execute_result"
    }
   ],
   "source": [
    "authors = []\n",
    "author_1 = my_spans[7].text\n",
    "author_2 = my_spans[8].text\n",
    "authors.append(author_1) \n",
    "authors.append(author_2)\n",
    "author_1,author_2"
   ]
  },
  {
   "cell_type": "markdown",
   "metadata": {},
   "source": [
    "    ## “append”附加它们到一个list\n",
    "    \n",
    "    Note: 为什么我们只使用“authors = my_span.find[7:9].text”去找到所有的作者？因为“find[7:9]”或者“find_all”返回元素的一个list，然而使用“().text”function在元素的一个list里，它将报错，这个list没有attribute“text”，这也就意味着它不能被直接地转换成文本。\n",
    "\n",
    "    TIP: “specificity”(特征)问题在写入抓取器中很常见。\n",
    "    TIP: \"specificity\" issue is quite common in writing scraper. There are usually many ways, and usually easy, to find the element(s) we are interested in. One needs to work hard to ensure, the scraper does not pollute the result by other elements that we are not interested in.\n",
    "\n"
   ]
  },
  {
   "cell_type": "code",
   "execution_count": null,
   "metadata": {},
   "outputs": [],
   "source": []
  },
  {
   "cell_type": "code",
   "execution_count": null,
   "metadata": {},
   "outputs": [],
   "source": []
  },
  {
   "cell_type": "code",
   "execution_count": null,
   "metadata": {},
   "outputs": [],
   "source": []
  }
 ],
 "metadata": {
  "kernelspec": {
   "display_name": "Python 3",
   "language": "python",
   "name": "python3"
  },
  "language_info": {
   "codemirror_mode": {
    "name": "ipython",
    "version": 3
   },
   "file_extension": ".py",
   "mimetype": "text/x-python",
   "name": "python",
   "nbconvert_exporter": "python",
   "pygments_lexer": "ipython3",
   "version": "3.6.5"
  }
 },
 "nbformat": 4,
 "nbformat_minor": 2
}
