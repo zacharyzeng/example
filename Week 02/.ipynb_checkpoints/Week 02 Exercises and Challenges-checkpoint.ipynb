{
 "cells": [
  {
   "cell_type": "code",
   "execution_count": 7,
   "metadata": {
    "scrolled": false
   },
   "outputs": [
    {
     "name": "stdout",
     "output_type": "stream",
     "text": [
      "40000\n",
      "-58000.0\n"
     ]
    }
   ],
   "source": [
    "visitor = int(input())\n",
    "net_income = (visitor * (0.1*15 + 0.8) - (70000 + 30000 + 50000))\n",
    "print(net_income)"
   ]
  },
  {
   "cell_type": "code",
   "execution_count": 9,
   "metadata": {
    "scrolled": true
   },
   "outputs": [
    {
     "name": "stdout",
     "output_type": "stream",
     "text": [
      "60000\n",
      "-12000.0\n"
     ]
    }
   ],
   "source": [
    "visitor = int(input())\n",
    "net_income = (visitor * (0.1*15 + 0.8) - (70000 + 30000 + 50000))\n",
    "print(net_income)"
   ]
  },
  {
   "cell_type": "code",
   "execution_count": 10,
   "metadata": {},
   "outputs": [
    {
     "name": "stdout",
     "output_type": "stream",
     "text": [
      "80000\n",
      "34000.0\n"
     ]
    }
   ],
   "source": [
    "visitor = int(input())\n",
    "net_income = (visitor * (0.1*15 + 0.8) - (70000 + 30000 + 50000))\n",
    "print(net_income)"
   ]
  },
  {
   "cell_type": "code",
   "execution_count": 11,
   "metadata": {},
   "outputs": [
    {
     "name": "stdout",
     "output_type": "stream",
     "text": [
      "100000\n",
      "79999.99999999997\n"
     ]
    }
   ],
   "source": [
    "visitor = int(input())\n",
    "net_income = (visitor * (0.1*15 + 0.8) - (70000 + 30000 + 50000))\n",
    "print(net_income)"
   ]
  },
  {
   "cell_type": "code",
   "execution_count": 13,
   "metadata": {},
   "outputs": [
    {
     "name": "stdout",
     "output_type": "stream",
     "text": [
      "120000\n",
      "126000.0\n"
     ]
    }
   ],
   "source": [
    "visitor = int(input())\n",
    "net_income = (visitor * (0.1*15+0.8) - (70000+30000+50000))\n",
    "print(net_income)"
   ]
  },
  {
   "cell_type": "code",
   "execution_count": null,
   "metadata": {},
   "outputs": [],
   "source": []
  },
  {
   "cell_type": "code",
   "execution_count": 19,
   "metadata": {},
   "outputs": [
    {
     "name": "stdout",
     "output_type": "stream",
     "text": [
      "5000\n",
      "3.0517578125\n"
     ]
    }
   ],
   "source": [
    "footages = int(input())\n",
    "SD_numbers = (footages*10 / (16*1024))\n",
    "print(SD_numbers)"
   ]
  },
  {
   "cell_type": "code",
   "execution_count": null,
   "metadata": {},
   "outputs": [],
   "source": []
  },
  {
   "cell_type": "code",
   "execution_count": null,
   "metadata": {},
   "outputs": [],
   "source": []
  }
 ],
 "metadata": {
  "kernelspec": {
   "display_name": "Python 3",
   "language": "python",
   "name": "python3"
  },
  "language_info": {
   "codemirror_mode": {
    "name": "ipython",
    "version": 3
   },
   "file_extension": ".py",
   "mimetype": "text/x-python",
   "name": "python",
   "nbconvert_exporter": "python",
   "pygments_lexer": "ipython3",
   "version": "3.6.5"
  }
 },
 "nbformat": 4,
 "nbformat_minor": 2
}
