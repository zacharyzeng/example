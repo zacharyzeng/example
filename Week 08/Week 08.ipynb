{
 "cells": [
  {
   "cell_type": "markdown",
   "metadata": {},
   "source": [
    "# Week 06 - Advanced scraping: anti-crawler, browser emulation and other nitty gritty\n",
    "\n",
    "## Objective\n",
    "Bypass anti-crawler by modifying user-agent\n",
    "Handle glitches: encoding(编码), pagination(编页码), ... \n",
    "Handle dynamic page with headless browser\n",
    "Handle login with headless browser\n",
    "Scrape social networks\n",
    "Case studies on different websites\n",
    "Further strengthen the list-of-dict data types; organise multi-layer loops/ item based parsing logics.\n",
    "\n",
    "## Anti-crawling\n",
    "### User agent"
   ]
  },
  {
   "cell_type": "code",
   "execution_count": 5,
   "metadata": {},
   "outputs": [
    {
     "data": {
      "text/plain": [
       "'{\"user-agent\":\"See, I modified the user agent!!\"}\\n'"
      ]
     },
     "execution_count": 5,
     "metadata": {},
     "output_type": "execute_result"
    }
   ],
   "source": [
    "import requests\n",
    "r = requests.get('https://nghttp2.org/httpbin/user-agent')\n",
    "r.text\n",
    "'{\"user-agent\":\"python-requests/2.19.1\"}\\n'\n",
    "r = requests.get('https://nghttp2.org/httpbin/user-agent', headers={'user-agent': 'See, I modified the user agent!!'})\n",
    "r.text"
   ]
  },
  {
   "cell_type": "markdown",
   "metadata": {},
   "source": [
    "### Rate throttling\n",
    "Limit by IP\n",
    "Limit by cookie/ access token\n",
    "Limit by API quota per a unit time, usually implemented with a leaky(有漏洞的) bucket algorithm(算法)\n",
    "\n",
    "### Hide numeric incremental IDs\n",
    "\n",
    "#### Bonus: Stateful page transition\n",
    "\n",
    "#### Bonus: client authentication(验证)\n",
    "\n",
    "\n",
    "\n",
    "\n",
    "## Common issues\n",
    "### Encoding"
   ]
  },
  {
   "cell_type": "code",
   "execution_count": 8,
   "metadata": {},
   "outputs": [
    {
     "name": "stderr",
     "output_type": "stream",
     "text": [
      "/Users/zengxingjie/anaconda3/lib/python3.6/site-packages/bs4/__init__.py:181: UserWarning: No parser was explicitly specified, so I'm using the best available HTML parser for this system (\"lxml\"). This usually isn't a problem, but if you run this code on another system, or in a different virtual environment, it may use a different parser and behave differently.\n",
      "\n",
      "The code that caused this warning is on line 193 of the file /Users/zengxingjie/anaconda3/lib/python3.6/runpy.py. To get rid of this warning, change code that looks like this:\n",
      "\n",
      " BeautifulSoup(YOUR_MARKUP})\n",
      "\n",
      "to this:\n",
      "\n",
      " BeautifulSoup(YOUR_MARKUP, \"lxml\")\n",
      "\n",
      "  markup_type=markup_type))\n"
     ]
    },
    {
     "data": {
      "text/plain": [
       "'HUANG, YU\\r\\n                              黃煜'"
      ]
     },
     "execution_count": 8,
     "metadata": {},
     "output_type": "execute_result"
    }
   ],
   "source": [
    "import requests\n",
    "from bs4 import BeautifulSoup\n",
    "r = requests.get('http://www.comm.hkbu.edu.hk/comd-www/english/people/m_facutly_dept.htm')\n",
    "r.encoding = 'utf-8'\n",
    "mypage = BeautifulSoup(r.text)\n",
    "mypage.find('td', {'class': 'personNameArea'}).text"
   ]
  },
  {
   "cell_type": "markdown",
   "metadata": {},
   "source": [
    "### Network delay and jitter\n",
    "\"time.sleep\"——pause for some time before proceed\n",
    "\".find_element_by_xxx\"—— check if the intended element is already loaded\n",
    "\n",
    "### Network interruption\n",
    "\"try...except\"\n",
    "\n",
    "### Firewall\n",
    "\n",
    "### Browser rendering delay\n",
    "\n",
    "\n",
    "\n",
    "\n",
    "## Browser emulation\n",
    "\n",
    "### Why use Browser Emulation\n",
    "1.Some of complicated website can't be directly scraped by static method.\n",
    "2.Browser Emulation way can handle some complicated scraping work like ones that need you login.\n",
    "3.Some webpages have strictly rules for anti-scraping.\n",
    "\n",
    "    two libraries - \"Selenium\" and \"Splinter\"\n",
    "\n",
    "### Limitation\n",
    "Each time, it need to load all the content of the webpage, the crawling speed is slow, therefore not suitable for scraping cases with a large load of data.\n",
    "\n",
    "### Selenium\n",
    "Selenium is a set of different software tools, each with a different approach to supporting browser automation. \n",
    "\n",
    "    Selenium Python bindings\n",
    "    #Selenium Python bindings provides a simple API to write functional/acceptance tests using Selenium WebDriver. Through Selenium Python API you can access all functionalities of Selenium WebDriver in an intuitive way.#\n",
    "\n",
    "#### Downloading Python bindings for Selenium(DONE)\n",
    " \n",
    "    #with help of the Selenium——navigating to a link, searching, scrolling, clicking etc#\n",
    "\n",
    "#### Drivers\n",
    "\n",
    "#### Navigating"
   ]
  },
  {
   "cell_type": "code",
   "execution_count": 9,
   "metadata": {},
   "outputs": [],
   "source": [
    "from selenium import webdriver\n",
    "browser = webdriver.Chrome() #initiate webdriver\n",
    "browser.get('http://google.com/') #visit to google page\n",
    "element = browser.find_element_by_name(\"q\") #Find the search box\n",
    "element.send_keys(\"github python for data and media communication gitbook\") #search our openbook\n",
    "element.submit() #submit search action\n",
    "# you will find the webpage will automatically return the results you search\n",
    "link = browser.find_element_by_partial_link_text('GitHub - hupili') #find our tutorial\n",
    "link.click() #click the link, enter our tutorial\n",
    "browser.execute_script(\"window.scrollTo(0,1200);\") #scroll in the page, window.scrollTo(x,y), x means horizontal, y means vertical\n",
    "notes_links = browser.find_element_by_link_text('notes-week-06.md') #find link of notes 6\n",
    "notes_links.click() #click into notes 6\n",
    "#browser.close()"
   ]
  },
  {
   "cell_type": "markdown",
   "metadata": {},
   "source": [
    "### 上面就是搜索的过程\n",
    "\n",
    "#### Locating Elements\n",
    "It's similar to the usage in requests method, just a simple find... sentence but more diverse.\n",
    "\n",
    "#Selenium provides the following methods to locate elements in a page:#\n",
    "find_element(s)_by_id\n",
    "find_element(s)_by_name\n",
    "find_element(s)_by_xpath\n",
    "find_element(s)_by_link_text\n",
    "find_element(s)_by_partial_link_text\n",
    "find_element(s)_by_tag_name\n",
    "find_element(s)_by_class_name\n",
    "find_element(s)_by_css_selector\n",
    "\n",
    "#### In our notes, we mainly use \"find_element(s)_by_css_selector\" method, due to its easy expression and rich matchability.\n",
    "\n",
    "\n",
    "#### Find_element(s)_by_css_selector\n",
    "##### Locating elements by attribute\n",
    "\n",
    "<div id=\"summaryList_mixed\" class=\"summaryList\" style=\"display: block;\"></div>\n",
    "css = element_name[<attribute_name>='<value>']\n",
    "    \n",
    "    1.#Select id. Use # notation to select the id:#\n",
    "css=\"div#summaryList_mixed\" or \"#summaryList_mixed\"\n",
    "\n",
    "    2.#Select class. Use the . notation to select the class:\n",
    "css=\"div.summaryList\" or just css=\".summaryList\"\n",
    "\n",
    "    3.#Select multiple attributes:#\n",
    "css=\"div[class='summaryList'] [style='display:block']\""
   ]
  },
  {
   "cell_type": "markdown",
   "metadata": {},
   "source": [
    "##### Locating Child Element\n",
    "\n",
    "<div id=\"summaryList_mixed\" class=\"summaryList\" style=\"display: block;\">\n",
    "    <div class=\"summaryBlock\"></div>\n",
    "    <div class=\"summaryBlock\"></div>\n",
    "    <div class=\"summaryBlock\"></div>\n",
    "    <div class=\"summaryBlock\"></div>\n",
    "</div>\n",
    "\n",
    "    1.#Locate all children#\n",
    "css=\"div#summaryList_mixed .summaryBlock\"\n",
    "\n",
    "    2.#Locate the certain one with “nth-of-type”. The first one is \"nth-of-type(1), and the last one is \"last-child\"#\n",
    "css=\"div#summaryList_mixed .summaryBlock:nth-of-type(2)\""
   ]
  },
  {
   "cell_type": "code",
   "execution_count": 13,
   "metadata": {},
   "outputs": [
    {
     "ename": "NoSuchWindowException",
     "evalue": "Message: no such window: window was already closed\n  (Session info: chrome=70.0.3538.77)\n  (Driver info: chromedriver=2.43.600229 (3fae4d0cda5334b4f533bede5a4787f7b832d052),platform=Mac OS X 10.13.6 x86_64)\n",
     "output_type": "error",
     "traceback": [
      "\u001b[0;31m---------------------------------------------------------------------------\u001b[0m",
      "\u001b[0;31mNoSuchWindowException\u001b[0m                     Traceback (most recent call last)",
      "\u001b[0;32m<ipython-input-13-25819eb1eccb>\u001b[0m in \u001b[0;36m<module>\u001b[0;34m()\u001b[0m\n\u001b[1;32m      7\u001b[0m \u001b[0;34m\u001b[0m\u001b[0m\n\u001b[1;32m      8\u001b[0m \u001b[0marticles\u001b[0m \u001b[0;34m=\u001b[0m \u001b[0;34m[\u001b[0m\u001b[0;34m]\u001b[0m\u001b[0;34m\u001b[0m\u001b[0m\n\u001b[0;32m----> 9\u001b[0;31m \u001b[0;32mfor\u001b[0m \u001b[0msession\u001b[0m \u001b[0;32min\u001b[0m \u001b[0mbrowser\u001b[0m\u001b[0;34m.\u001b[0m\u001b[0mfind_elements_by_css_selector\u001b[0m\u001b[0;34m(\u001b[0m\u001b[0;34m'#summaryList_mixed .summaryBlock'\u001b[0m\u001b[0;34m)\u001b[0m\u001b[0;34m:\u001b[0m \u001b[0;31m#find all articles wrapped in the path of class='summaryBlock' under the id='summaryList_mixed'\u001b[0m\u001b[0;34m\u001b[0m\u001b[0m\n\u001b[0m\u001b[1;32m     10\u001b[0m     \u001b[0marticle\u001b[0m \u001b[0;34m=\u001b[0m \u001b[0;34m{\u001b[0m\u001b[0;34m}\u001b[0m\u001b[0;34m\u001b[0m\u001b[0m\n\u001b[1;32m     11\u001b[0m     \u001b[0mh\u001b[0m \u001b[0;34m=\u001b[0m \u001b[0msession\u001b[0m\u001b[0;34m.\u001b[0m\u001b[0mfind_element_by_css_selector\u001b[0m\u001b[0;34m(\u001b[0m\u001b[0;34m\".cnnHeadline a\"\u001b[0m\u001b[0;34m)\u001b[0m\u001b[0;34m\u001b[0m\u001b[0m\n",
      "\u001b[0;32m~/anaconda3/lib/python3.6/site-packages/selenium/webdriver/remote/webdriver.py\u001b[0m in \u001b[0;36mfind_elements_by_css_selector\u001b[0;34m(self, css_selector)\u001b[0m\n\u001b[1;32m    612\u001b[0m             \u001b[0melements\u001b[0m \u001b[0;34m=\u001b[0m \u001b[0mdriver\u001b[0m\u001b[0;34m.\u001b[0m\u001b[0mfind_elements_by_css_selector\u001b[0m\u001b[0;34m(\u001b[0m\u001b[0;34m'.foo'\u001b[0m\u001b[0;34m)\u001b[0m\u001b[0;34m\u001b[0m\u001b[0m\n\u001b[1;32m    613\u001b[0m         \"\"\"\n\u001b[0;32m--> 614\u001b[0;31m         \u001b[0;32mreturn\u001b[0m \u001b[0mself\u001b[0m\u001b[0;34m.\u001b[0m\u001b[0mfind_elements\u001b[0m\u001b[0;34m(\u001b[0m\u001b[0mby\u001b[0m\u001b[0;34m=\u001b[0m\u001b[0mBy\u001b[0m\u001b[0;34m.\u001b[0m\u001b[0mCSS_SELECTOR\u001b[0m\u001b[0;34m,\u001b[0m \u001b[0mvalue\u001b[0m\u001b[0;34m=\u001b[0m\u001b[0mcss_selector\u001b[0m\u001b[0;34m)\u001b[0m\u001b[0;34m\u001b[0m\u001b[0m\n\u001b[0m\u001b[1;32m    615\u001b[0m \u001b[0;34m\u001b[0m\u001b[0m\n\u001b[1;32m    616\u001b[0m     \u001b[0;32mdef\u001b[0m \u001b[0mexecute_script\u001b[0m\u001b[0;34m(\u001b[0m\u001b[0mself\u001b[0m\u001b[0;34m,\u001b[0m \u001b[0mscript\u001b[0m\u001b[0;34m,\u001b[0m \u001b[0;34m*\u001b[0m\u001b[0margs\u001b[0m\u001b[0;34m)\u001b[0m\u001b[0;34m:\u001b[0m\u001b[0;34m\u001b[0m\u001b[0m\n",
      "\u001b[0;32m~/anaconda3/lib/python3.6/site-packages/selenium/webdriver/remote/webdriver.py\u001b[0m in \u001b[0;36mfind_elements\u001b[0;34m(self, by, value)\u001b[0m\n\u001b[1;32m   1005\u001b[0m         return self.execute(Command.FIND_ELEMENTS, {\n\u001b[1;32m   1006\u001b[0m             \u001b[0;34m'using'\u001b[0m\u001b[0;34m:\u001b[0m \u001b[0mby\u001b[0m\u001b[0;34m,\u001b[0m\u001b[0;34m\u001b[0m\u001b[0m\n\u001b[0;32m-> 1007\u001b[0;31m             'value': value})['value'] or []\n\u001b[0m\u001b[1;32m   1008\u001b[0m \u001b[0;34m\u001b[0m\u001b[0m\n\u001b[1;32m   1009\u001b[0m     \u001b[0;34m@\u001b[0m\u001b[0mproperty\u001b[0m\u001b[0;34m\u001b[0m\u001b[0m\n",
      "\u001b[0;32m~/anaconda3/lib/python3.6/site-packages/selenium/webdriver/remote/webdriver.py\u001b[0m in \u001b[0;36mexecute\u001b[0;34m(self, driver_command, params)\u001b[0m\n\u001b[1;32m    319\u001b[0m         \u001b[0mresponse\u001b[0m \u001b[0;34m=\u001b[0m \u001b[0mself\u001b[0m\u001b[0;34m.\u001b[0m\u001b[0mcommand_executor\u001b[0m\u001b[0;34m.\u001b[0m\u001b[0mexecute\u001b[0m\u001b[0;34m(\u001b[0m\u001b[0mdriver_command\u001b[0m\u001b[0;34m,\u001b[0m \u001b[0mparams\u001b[0m\u001b[0;34m)\u001b[0m\u001b[0;34m\u001b[0m\u001b[0m\n\u001b[1;32m    320\u001b[0m         \u001b[0;32mif\u001b[0m \u001b[0mresponse\u001b[0m\u001b[0;34m:\u001b[0m\u001b[0;34m\u001b[0m\u001b[0m\n\u001b[0;32m--> 321\u001b[0;31m             \u001b[0mself\u001b[0m\u001b[0;34m.\u001b[0m\u001b[0merror_handler\u001b[0m\u001b[0;34m.\u001b[0m\u001b[0mcheck_response\u001b[0m\u001b[0;34m(\u001b[0m\u001b[0mresponse\u001b[0m\u001b[0;34m)\u001b[0m\u001b[0;34m\u001b[0m\u001b[0m\n\u001b[0m\u001b[1;32m    322\u001b[0m             response['value'] = self._unwrap_value(\n\u001b[1;32m    323\u001b[0m                 response.get('value', None))\n",
      "\u001b[0;32m~/anaconda3/lib/python3.6/site-packages/selenium/webdriver/remote/errorhandler.py\u001b[0m in \u001b[0;36mcheck_response\u001b[0;34m(self, response)\u001b[0m\n\u001b[1;32m    240\u001b[0m                 \u001b[0malert_text\u001b[0m \u001b[0;34m=\u001b[0m \u001b[0mvalue\u001b[0m\u001b[0;34m[\u001b[0m\u001b[0;34m'alert'\u001b[0m\u001b[0;34m]\u001b[0m\u001b[0;34m.\u001b[0m\u001b[0mget\u001b[0m\u001b[0;34m(\u001b[0m\u001b[0;34m'text'\u001b[0m\u001b[0;34m)\u001b[0m\u001b[0;34m\u001b[0m\u001b[0m\n\u001b[1;32m    241\u001b[0m             \u001b[0;32mraise\u001b[0m \u001b[0mexception_class\u001b[0m\u001b[0;34m(\u001b[0m\u001b[0mmessage\u001b[0m\u001b[0;34m,\u001b[0m \u001b[0mscreen\u001b[0m\u001b[0;34m,\u001b[0m \u001b[0mstacktrace\u001b[0m\u001b[0;34m,\u001b[0m \u001b[0malert_text\u001b[0m\u001b[0;34m)\u001b[0m\u001b[0;34m\u001b[0m\u001b[0m\n\u001b[0;32m--> 242\u001b[0;31m         \u001b[0;32mraise\u001b[0m \u001b[0mexception_class\u001b[0m\u001b[0;34m(\u001b[0m\u001b[0mmessage\u001b[0m\u001b[0;34m,\u001b[0m \u001b[0mscreen\u001b[0m\u001b[0;34m,\u001b[0m \u001b[0mstacktrace\u001b[0m\u001b[0;34m)\u001b[0m\u001b[0;34m\u001b[0m\u001b[0m\n\u001b[0m\u001b[1;32m    243\u001b[0m \u001b[0;34m\u001b[0m\u001b[0m\n\u001b[1;32m    244\u001b[0m     \u001b[0;32mdef\u001b[0m \u001b[0m_value_or_default\u001b[0m\u001b[0;34m(\u001b[0m\u001b[0mself\u001b[0m\u001b[0;34m,\u001b[0m \u001b[0mobj\u001b[0m\u001b[0;34m,\u001b[0m \u001b[0mkey\u001b[0m\u001b[0;34m,\u001b[0m \u001b[0mdefault\u001b[0m\u001b[0;34m)\u001b[0m\u001b[0;34m:\u001b[0m\u001b[0;34m\u001b[0m\u001b[0m\n",
      "\u001b[0;31mNoSuchWindowException\u001b[0m: Message: no such window: window was already closed\n  (Session info: chrome=70.0.3538.77)\n  (Driver info: chromedriver=2.43.600229 (3fae4d0cda5334b4f533bede5a4787f7b832d052),platform=Mac OS X 10.13.6 x86_64)\n"
     ]
    }
   ],
   "source": [
    "##Fundamental: One page\n",
    "\n",
    "#Example: CNN articles scraping\n",
    "from selenium import webdriver\n",
    "browser = webdriver.Chrome()\n",
    "browser.get('http://money.cnn.com/search/index.html?sortBy=date&primaryType=mixed&search=Search&query=trade%20war')\n",
    "\n",
    "articles = []\n",
    "for session in browser.find_elements_by_css_selector('#summaryList_mixed .summaryBlock'): #find all articles wrapped in the path of class='summaryBlock' under the id='summaryList_mixed' \n",
    "    article = {}\n",
    "    h = session.find_element_by_css_selector(\".cnnHeadline a\")\n",
    "    article['headline'] = h.text #find headline block\n",
    "    article['url'] = h.get_attribute('href')#get url attributes from headline block\n",
    "    article['date'] = session.find_element_by_css_selector(\"span.cnnDateStamp\").text #find date\n",
    "    articles.append(article)\n",
    "articles"
   ]
  },
  {
   "cell_type": "code",
   "execution_count": 14,
   "metadata": {},
   "outputs": [
    {
     "name": "stdout",
     "output_type": "stream",
     "text": [
      "Message: no such window: window was already closed\n",
      "  (Session info: chrome=70.0.3538.77)\n",
      "  (Driver info: chromedriver=2.43.600229 (3fae4d0cda5334b4f533bede5a4787f7b832d052),platform=Mac OS X 10.13.6 x86_64)\n",
      "\n",
      "Error on page 4\n",
      "Message: no such window: window was already closed\n",
      "  (Session info: chrome=70.0.3538.77)\n",
      "  (Driver info: chromedriver=2.43.600229 (3fae4d0cda5334b4f533bede5a4787f7b832d052),platform=Mac OS X 10.13.6 x86_64)\n",
      "\n",
      "Error on page 5\n",
      "Message: no such window: window was already closed\n",
      "  (Session info: chrome=70.0.3538.77)\n",
      "  (Driver info: chromedriver=2.43.600229 (3fae4d0cda5334b4f533bede5a4787f7b832d052),platform=Mac OS X 10.13.6 x86_64)\n",
      "\n",
      "Error on page 6\n",
      "Message: no such window: window was already closed\n",
      "  (Session info: chrome=70.0.3538.77)\n",
      "  (Driver info: chromedriver=2.43.600229 (3fae4d0cda5334b4f533bede5a4787f7b832d052),platform=Mac OS X 10.13.6 x86_64)\n",
      "\n",
      "Error on page 7\n",
      "Message: no such window: window was already closed\n",
      "  (Session info: chrome=70.0.3538.77)\n",
      "  (Driver info: chromedriver=2.43.600229 (3fae4d0cda5334b4f533bede5a4787f7b832d052),platform=Mac OS X 10.13.6 x86_64)\n",
      "\n",
      "Error on page 8\n",
      "Message: no such window: window was already closed\n",
      "  (Session info: chrome=70.0.3538.77)\n",
      "  (Driver info: chromedriver=2.43.600229 (3fae4d0cda5334b4f533bede5a4787f7b832d052),platform=Mac OS X 10.13.6 x86_64)\n",
      "\n",
      "Error on page 9\n"
     ]
    }
   ],
   "source": [
    "## Advanced: All pages\n",
    "\n",
    "from selenium import webdriver\n",
    "import time #mainly use its time sleep function\n",
    "\n",
    "def get_articles_from_browser(b):\n",
    "    articles = []\n",
    "    for session in browser.find_elements_by_css_selector('#summaryList_mixed .summaryBlock'): #find all articles wrapped in the path of class='summaryBlock' under the id='summaryList_mixed'\n",
    "        article = {}\n",
    "        h = session.find_element_by_css_selector(\".cnnHeadline a\")\n",
    "        article['headline'] = h.text #find headline block\n",
    "        article['url'] = h.get_attribute('href') #get url attributes from headline block\n",
    "        article['date'] = session.find_element_by_css_selector(\"span.cnnDateStamp\").text #find date\n",
    "        articles.append(article)\n",
    "    \n",
    "    return articles\n",
    "\n",
    "url = 'http://money.cnn.com/search/index.html?sortBy=date&primaryType=mixed&search=Search&query=trade%20war'\n",
    "browser = webdriver.Chrome()\n",
    "browser.get(url)\n",
    "time.sleep(2) #sleep 2 second for each call action, if it's too frequently with no sleep time, its has high opportunity to be banned from the website.\n",
    "\n",
    "all_page_articles = []\n",
    "for i in range(10):\n",
    "    time.sleep(0.5)\n",
    "    try:\n",
    "        new_articles = get_articles_from_browser(browser)\n",
    "        all_page_articles.extend(new_articles)\n",
    "\n",
    "#in the following, we need to emulate to click `next button` to turn pages.\n",
    "#try 1: just click link by default ...\n",
    "#next_page = browser.find_element_by_link_text('Next').click()\n",
    "#error: not clickable. After try several print() in the process,I found that, we need to scroll the window down till we can see the next button. Therefore you can see that selenium browser emulation method is really just like a human behavior.\n",
    "#try 2: scroll whole body down to the bottom...\n",
    "#browser.execute_script('window.scrollTo(0, document.body.scrollHeight);')\n",
    "#error: In some page, the navigation bar has blocked the click button if you scroll down to the bottom\n",
    "#try 3: (document.body.scrollHeight - int) ...  \n",
    "#fail: can not be minus, but can be divided. \n",
    "\n",
    "        browser.execute_script('window.scrollTo(0, document.body.scrollHeight/1.5);')#test several numbers to choose a suitable one\n",
    "        next_page = browser.find_element_by_link_text('Next')\n",
    "        next_page.click()\n",
    "    except Exception as e:\n",
    "        print(e)\n",
    "        print('Error on page %s' % i)\n",
    "\n"
   ]
  },
  {
   "cell_type": "code",
   "execution_count": null,
   "metadata": {},
   "outputs": [],
   "source": []
  },
  {
   "cell_type": "code",
   "execution_count": null,
   "metadata": {},
   "outputs": [],
   "source": []
  },
  {
   "cell_type": "code",
   "execution_count": null,
   "metadata": {},
   "outputs": [],
   "source": []
  },
  {
   "cell_type": "code",
   "execution_count": null,
   "metadata": {},
   "outputs": [],
   "source": []
  }
 ],
 "metadata": {
  "kernelspec": {
   "display_name": "Python 3",
   "language": "python",
   "name": "python3"
  },
  "language_info": {
   "codemirror_mode": {
    "name": "ipython",
    "version": 3
   },
   "file_extension": ".py",
   "mimetype": "text/x-python",
   "name": "python",
   "nbconvert_exporter": "python",
   "pygments_lexer": "ipython3",
   "version": "3.6.5"
  }
 },
 "nbformat": 4,
 "nbformat_minor": 2
}
