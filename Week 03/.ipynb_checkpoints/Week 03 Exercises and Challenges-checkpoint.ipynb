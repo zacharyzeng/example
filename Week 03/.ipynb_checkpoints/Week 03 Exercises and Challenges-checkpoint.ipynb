{
 "cells": [
  {
   "cell_type": "markdown",
   "metadata": {},
   "source": [
    "## Divide HW1 groups randomly: (case contribution)"
   ]
  },
  {
   "cell_type": "code",
   "execution_count": 7,
   "metadata": {},
   "outputs": [
    {
     "name": "stdout",
     "output_type": "stream",
     "text": [
      "[18421136, 18421143, 18421138, 18421125, 18421157, 18421144, 18421122, 18421112, 18421113, 18421145]\n"
     ]
    }
   ],
   "source": [
    "student_id = [\n",
    "    18421111,\n",
    "    18421112,\n",
    "    18421113,\n",
    "    18421114,\n",
    "    18421115,\n",
    "    18421116,\n",
    "    18421117,\n",
    "    18421118,\n",
    "    18421119,\n",
    "    18421120,\n",
    "    18421121,\n",
    "    18421122,\n",
    "    18421123,\n",
    "    18421124,\n",
    "    18421125,\n",
    "    18421126,\n",
    "    18421127,\n",
    "    18421128,\n",
    "    18421129,\n",
    "    18421130,\n",
    "    18421131,\n",
    "    18421132,\n",
    "    18421133,\n",
    "    18421134,\n",
    "    18421135,\n",
    "    18421136,\n",
    "    18421137,\n",
    "    18421138,\n",
    "    18421139,\n",
    "    18421140,\n",
    "    18421141,\n",
    "    18421142,\n",
    "    18421143,\n",
    "    18421144,\n",
    "    18421145,\n",
    "    18421146,\n",
    "    18421147,\n",
    "    18421148,\n",
    "    18421149,\n",
    "    18421150,\n",
    "    18421151,\n",
    "    18421152,\n",
    "    18421153,\n",
    "    18421154,\n",
    "    18421155,\n",
    "    18421156,\n",
    "    18421157,\n",
    "    18421158,\n",
    "    18421159,\n",
    "    18421160\n",
    "]\n",
    "\n",
    "case_list = [\n",
    "    'case1 - build a calculator to evaluate your business model',\n",
    "    'case2 - build a automatic earthquake robot to broadcast the new earthquake',\n",
    "    'case3 - evaluate social media performance of a luxury brand',\n",
    "    'case4 - study movie blockbuster \\'Dying to Survive\\'',\n",
    "    'case5 - invest your money like the Internet giant, Tencent',\n",
    "    'case6 - where are the 200,000 inferior vaccines flowing?',\n",
    "    'case7 - study classics, who control the discourse power in \\'Dream of the Red Chamber\\'?',\n",
    "    'case8 - research about Didi-driver crimes in China',\n",
    "    'case9 - \\'Me too\\' analysis',\n",
    "    'case10 - What is hip-hop in china?',\n",
    "]\n",
    "\n",
    "import random\n",
    "print(random.sample(student_id,10))"
   ]
  },
  {
   "cell_type": "markdown",
   "metadata": {},
   "source": [
    "#### []list为什么要成纵列？ 为了美观方便看？"
   ]
  },
  {
   "cell_type": "code",
   "execution_count": null,
   "metadata": {},
   "outputs": [],
   "source": []
  },
  {
   "cell_type": "code",
   "execution_count": null,
   "metadata": {},
   "outputs": [],
   "source": []
  }
 ],
 "metadata": {
  "kernelspec": {
   "display_name": "Python 3",
   "language": "python",
   "name": "python3"
  },
  "language_info": {
   "codemirror_mode": {
    "name": "ipython",
    "version": 3
   },
   "file_extension": ".py",
   "mimetype": "text/x-python",
   "name": "python",
   "nbconvert_exporter": "python",
   "pygments_lexer": "ipython3",
   "version": "3.6.5"
  }
 },
 "nbformat": 4,
 "nbformat_minor": 2
}
